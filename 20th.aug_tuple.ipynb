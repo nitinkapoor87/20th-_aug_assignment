{
 "cells": [
  {
   "cell_type": "markdown",
   "id": "c00805eb-453a-4810-86f8-feb7212bd453",
   "metadata": {},
   "source": [
    "# 1. Create a tuple with integers from 1 to 5."
   ]
  },
  {
   "cell_type": "code",
   "execution_count": 1,
   "id": "6e3e35b5-a876-47ad-a818-2e4fa3a41339",
   "metadata": {},
   "outputs": [],
   "source": [
    "t=(1,2,3,4,5)"
   ]
  },
  {
   "cell_type": "code",
   "execution_count": 2,
   "id": "5e8cfb11-0f2f-479e-a223-f1d095bf31dc",
   "metadata": {},
   "outputs": [
    {
     "data": {
      "text/plain": [
       "tuple"
      ]
     },
     "execution_count": 2,
     "metadata": {},
     "output_type": "execute_result"
    }
   ],
   "source": [
    "type(t)"
   ]
  },
  {
   "cell_type": "markdown",
   "id": "a2f7aa82-89bd-474d-b40e-6850772eebb2",
   "metadata": {},
   "source": [
    "# 2. Access the third element of a tuple."
   ]
  },
  {
   "cell_type": "code",
   "execution_count": 3,
   "id": "63e14150-b593-49a5-bae8-7d319571cab0",
   "metadata": {},
   "outputs": [
    {
     "data": {
      "text/plain": [
       "(1, 2, 3, 4, 5)"
      ]
     },
     "execution_count": 3,
     "metadata": {},
     "output_type": "execute_result"
    }
   ],
   "source": [
    "t"
   ]
  },
  {
   "cell_type": "code",
   "execution_count": 4,
   "id": "0957c60c-8900-4a2e-961d-263101eef451",
   "metadata": {},
   "outputs": [
    {
     "data": {
      "text/plain": [
       "3"
      ]
     },
     "execution_count": 4,
     "metadata": {},
     "output_type": "execute_result"
    }
   ],
   "source": [
    "t[2]"
   ]
  },
  {
   "cell_type": "markdown",
   "id": "a59ced76-4150-4064-94d6-1c3019b2f441",
   "metadata": {},
   "source": [
    "# 3. Find the length of a tuple without using the `len()` function"
   ]
  },
  {
   "cell_type": "code",
   "execution_count": 5,
   "id": "d286a4e2-22d7-49c2-a486-80d25503cee8",
   "metadata": {},
   "outputs": [
    {
     "data": {
      "text/plain": [
       "(1, 2, 3, 4, 5)"
      ]
     },
     "execution_count": 5,
     "metadata": {},
     "output_type": "execute_result"
    }
   ],
   "source": [
    "t"
   ]
  },
  {
   "cell_type": "code",
   "execution_count": 6,
   "id": "5c6c30f4-36bf-42ac-a02a-3686163e0e43",
   "metadata": {},
   "outputs": [],
   "source": [
    "'''1 added once place counting'''\n",
    "length=t.index(t[-1])+1"
   ]
  },
  {
   "cell_type": "code",
   "execution_count": 7,
   "id": "178d09b0-4fd9-45fc-b448-9c413f118bde",
   "metadata": {},
   "outputs": [
    {
     "data": {
      "text/plain": [
       "5"
      ]
     },
     "execution_count": 7,
     "metadata": {},
     "output_type": "execute_result"
    }
   ],
   "source": [
    "length"
   ]
  },
  {
   "cell_type": "markdown",
   "id": "82d95e76-b170-44e0-ab89-0398217bca83",
   "metadata": {},
   "source": [
    "# 4. Count the occurrences of an element in a tuple."
   ]
  },
  {
   "cell_type": "code",
   "execution_count": 8,
   "id": "e5aa8562-83b6-4a03-89f2-7736e59c001c",
   "metadata": {},
   "outputs": [
    {
     "data": {
      "text/plain": [
       "(1, 2, 3, 4, 5)"
      ]
     },
     "execution_count": 8,
     "metadata": {},
     "output_type": "execute_result"
    }
   ],
   "source": [
    "t"
   ]
  },
  {
   "cell_type": "code",
   "execution_count": 9,
   "id": "0ee71351-2de3-4340-a538-1f655c4234da",
   "metadata": {},
   "outputs": [],
   "source": [
    "c=t.count(5)"
   ]
  },
  {
   "cell_type": "code",
   "execution_count": 10,
   "id": "7db9e873-0cc0-4bb1-8500-b3e0a5fed8a5",
   "metadata": {},
   "outputs": [
    {
     "data": {
      "text/plain": [
       "1"
      ]
     },
     "execution_count": 10,
     "metadata": {},
     "output_type": "execute_result"
    }
   ],
   "source": [
    "c"
   ]
  },
  {
   "cell_type": "markdown",
   "id": "485b109e-d415-4d45-8638-afaeec8b8ad5",
   "metadata": {},
   "source": [
    "# 5. Find the index of the first occurrence of an element in a tuple."
   ]
  },
  {
   "cell_type": "code",
   "execution_count": 11,
   "id": "9d16015a-ab54-4dca-ab71-c39ed99c6186",
   "metadata": {},
   "outputs": [
    {
     "data": {
      "text/plain": [
       "(1, 2, 3, 4, 5)"
      ]
     },
     "execution_count": 11,
     "metadata": {},
     "output_type": "execute_result"
    }
   ],
   "source": [
    "t"
   ]
  },
  {
   "cell_type": "code",
   "execution_count": 12,
   "id": "8def5dad-797c-4e4c-a0a9-3d6413e99142",
   "metadata": {},
   "outputs": [],
   "source": [
    "i=t.index(5)"
   ]
  },
  {
   "cell_type": "code",
   "execution_count": 13,
   "id": "503e93a8-a8e1-4913-a1d4-5993559d5543",
   "metadata": {},
   "outputs": [
    {
     "data": {
      "text/plain": [
       "4"
      ]
     },
     "execution_count": 13,
     "metadata": {},
     "output_type": "execute_result"
    }
   ],
   "source": [
    "i"
   ]
  },
  {
   "cell_type": "markdown",
   "id": "29e1bed3-1494-4881-912c-13820080016e",
   "metadata": {},
   "source": [
    "# 6. Check if an element exists in a tuple."
   ]
  },
  {
   "cell_type": "code",
   "execution_count": 14,
   "id": "f375746f-5aff-411e-8f52-189398adeaf1",
   "metadata": {},
   "outputs": [
    {
     "data": {
      "text/plain": [
       "(1, 2, 3, 4, 5)"
      ]
     },
     "execution_count": 14,
     "metadata": {},
     "output_type": "execute_result"
    }
   ],
   "source": [
    "t"
   ]
  },
  {
   "cell_type": "code",
   "execution_count": 15,
   "id": "1b01a324-65e7-42b2-9226-ae0ece467f0f",
   "metadata": {},
   "outputs": [],
   "source": [
    "f=bool(t.count(6))"
   ]
  },
  {
   "cell_type": "code",
   "execution_count": 16,
   "id": "74cb178a-f602-44f9-a019-2eca68f85862",
   "metadata": {},
   "outputs": [
    {
     "data": {
      "text/plain": [
       "False"
      ]
     },
     "execution_count": 16,
     "metadata": {},
     "output_type": "execute_result"
    }
   ],
   "source": [
    "f"
   ]
  },
  {
   "cell_type": "markdown",
   "id": "12e0874e-fb99-4a5d-8317-cf621f4c5742",
   "metadata": {},
   "source": [
    "# 7. Convert a tuple to a list."
   ]
  },
  {
   "cell_type": "code",
   "execution_count": 17,
   "id": "2209bde4-f404-4c3e-8a89-171d7563ac15",
   "metadata": {},
   "outputs": [
    {
     "data": {
      "text/plain": [
       "(1, 2, 3, 4, 5)"
      ]
     },
     "execution_count": 17,
     "metadata": {},
     "output_type": "execute_result"
    }
   ],
   "source": [
    "t"
   ]
  },
  {
   "cell_type": "code",
   "execution_count": 18,
   "id": "0064b24c-9a0c-4610-9c23-4c599e61a41c",
   "metadata": {},
   "outputs": [],
   "source": [
    "l=list(t)"
   ]
  },
  {
   "cell_type": "code",
   "execution_count": 19,
   "id": "733f99ec-0a89-4fd9-9785-e308ef72f25e",
   "metadata": {},
   "outputs": [
    {
     "data": {
      "text/plain": [
       "[1, 2, 3, 4, 5]"
      ]
     },
     "execution_count": 19,
     "metadata": {},
     "output_type": "execute_result"
    }
   ],
   "source": [
    "l"
   ]
  },
  {
   "cell_type": "markdown",
   "id": "abcd822b-d7aa-4b25-a3cc-ce1611c72965",
   "metadata": {},
   "source": [
    "# 8. Convert a list to a tuple."
   ]
  },
  {
   "cell_type": "code",
   "execution_count": 20,
   "id": "4972104a-d3f3-4d7c-b05c-a20889a87652",
   "metadata": {},
   "outputs": [
    {
     "data": {
      "text/plain": [
       "[1, 2, 3, 4, 5]"
      ]
     },
     "execution_count": 20,
     "metadata": {},
     "output_type": "execute_result"
    }
   ],
   "source": [
    "l"
   ]
  },
  {
   "cell_type": "code",
   "execution_count": 21,
   "id": "049add21-7766-4323-826d-d2691d94f910",
   "metadata": {},
   "outputs": [
    {
     "data": {
      "text/plain": [
       "(1, 2, 3, 4, 5)"
      ]
     },
     "execution_count": 21,
     "metadata": {},
     "output_type": "execute_result"
    }
   ],
   "source": [
    "tuple(l)"
   ]
  },
  {
   "cell_type": "markdown",
   "id": "8c2f541c-5a46-47e1-9a2c-9bf52bdc7256",
   "metadata": {},
   "source": [
    "# 9. Unpack the elements of a tuple into variables."
   ]
  },
  {
   "cell_type": "code",
   "execution_count": 22,
   "id": "bd72325d-73b1-428e-8166-baaa706dfc1b",
   "metadata": {},
   "outputs": [
    {
     "data": {
      "text/plain": [
       "(1, 2, 3, 4, 5)"
      ]
     },
     "execution_count": 22,
     "metadata": {},
     "output_type": "execute_result"
    }
   ],
   "source": [
    "t"
   ]
  },
  {
   "cell_type": "code",
   "execution_count": 23,
   "id": "f65d21ab-5db7-4056-a6fb-dcdf463aa6e7",
   "metadata": {},
   "outputs": [
    {
     "data": {
      "text/plain": [
       "1"
      ]
     },
     "execution_count": 23,
     "metadata": {},
     "output_type": "execute_result"
    }
   ],
   "source": [
    "t[0]"
   ]
  },
  {
   "cell_type": "markdown",
   "id": "0ba9db26-7a09-44c8-9992-41894fc84699",
   "metadata": {},
   "source": [
    "# 10. Create a tuple of even numbers from 1 to 10."
   ]
  },
  {
   "cell_type": "code",
   "execution_count": 24,
   "id": "2d3bc7a5-1ac7-44df-befb-1c412253e7f6",
   "metadata": {},
   "outputs": [],
   "source": [
    "t1=(1,2,3,4,5,6,7,8,9,10)"
   ]
  },
  {
   "cell_type": "code",
   "execution_count": 49,
   "id": "b46bb623-f523-470e-876a-71739775b9a5",
   "metadata": {},
   "outputs": [
    {
     "data": {
      "text/plain": [
       "(2, 4, 6, 8, 10)"
      ]
     },
     "execution_count": 49,
     "metadata": {},
     "output_type": "execute_result"
    }
   ],
   "source": [
    "t1[1::2]"
   ]
  },
  {
   "cell_type": "markdown",
   "id": "ac44dca5-1be9-4ef5-af11-93ab6590879a",
   "metadata": {},
   "source": [
    "# 11. Create a tuple of odd numbers from 1 to 10."
   ]
  },
  {
   "cell_type": "code",
   "execution_count": 28,
   "id": "07ddb66a-fa11-4378-adb2-ef23b667615a",
   "metadata": {},
   "outputs": [
    {
     "data": {
      "text/plain": [
       "(1, 2, 3, 4, 5, 6, 7, 8, 9, 10)"
      ]
     },
     "execution_count": 28,
     "metadata": {},
     "output_type": "execute_result"
    }
   ],
   "source": [
    "t1"
   ]
  },
  {
   "cell_type": "code",
   "execution_count": 50,
   "id": "5dce7a13-996a-48b0-8d03-f71cf3d3d6ea",
   "metadata": {},
   "outputs": [
    {
     "data": {
      "text/plain": [
       "(1, 3, 5, 7, 9)"
      ]
     },
     "execution_count": 50,
     "metadata": {},
     "output_type": "execute_result"
    }
   ],
   "source": [
    "t1[0::2]"
   ]
  },
  {
   "cell_type": "markdown",
   "id": "31258cf2-4d96-45c3-a5e6-354b1c3cf4eb",
   "metadata": {},
   "source": [
    "# 12. Concatenate two tuples."
   ]
  },
  {
   "cell_type": "code",
   "execution_count": 45,
   "id": "00517edd-7e56-413b-ac3b-4f2779ccdd4f",
   "metadata": {},
   "outputs": [
    {
     "data": {
      "text/plain": [
       "(1, 2, 3, 4, 5, 6, 7, 8, 9, 10)"
      ]
     },
     "execution_count": 45,
     "metadata": {},
     "output_type": "execute_result"
    }
   ],
   "source": [
    "t1"
   ]
  },
  {
   "cell_type": "code",
   "execution_count": 46,
   "id": "2f44e42c-21d7-4c00-8834-fd0a4f03cd08",
   "metadata": {},
   "outputs": [
    {
     "data": {
      "text/plain": [
       "(1, 2, 3, 4, 5)"
      ]
     },
     "execution_count": 46,
     "metadata": {},
     "output_type": "execute_result"
    }
   ],
   "source": [
    "t"
   ]
  },
  {
   "cell_type": "code",
   "execution_count": 47,
   "id": "bdfd2bb5-3dbb-4ae6-8880-9279dffc1646",
   "metadata": {},
   "outputs": [
    {
     "data": {
      "text/plain": [
       "(1, 2, 3, 4, 5, 1, 2, 3, 4, 5, 6, 7, 8, 9, 10)"
      ]
     },
     "execution_count": 47,
     "metadata": {},
     "output_type": "execute_result"
    }
   ],
   "source": [
    "t+t1"
   ]
  },
  {
   "cell_type": "markdown",
   "id": "b142ed58-aad3-48dc-977f-472cac05a190",
   "metadata": {},
   "source": [
    "# 13. Repeat a tuple three times."
   ]
  },
  {
   "cell_type": "code",
   "execution_count": 51,
   "id": "0dbf2eba-5c91-4fbb-a848-8e8077618838",
   "metadata": {},
   "outputs": [
    {
     "data": {
      "text/plain": [
       "(1, 2, 3, 4, 5)"
      ]
     },
     "execution_count": 51,
     "metadata": {},
     "output_type": "execute_result"
    }
   ],
   "source": [
    "t"
   ]
  },
  {
   "cell_type": "code",
   "execution_count": 52,
   "id": "3e5cbd32-243e-41e4-91b9-952bcbf38baf",
   "metadata": {},
   "outputs": [
    {
     "data": {
      "text/plain": [
       "(1, 2, 3, 4, 5, 1, 2, 3, 4, 5, 1, 2, 3, 4, 5)"
      ]
     },
     "execution_count": 52,
     "metadata": {},
     "output_type": "execute_result"
    }
   ],
   "source": [
    "t*3"
   ]
  },
  {
   "cell_type": "markdown",
   "id": "2d1310b4-7c33-430a-98e9-cea8328c91b8",
   "metadata": {},
   "source": [
    "# 14. Check if a tuple is empty."
   ]
  },
  {
   "cell_type": "code",
   "execution_count": 93,
   "id": "caa3e851-46d5-4683-a081-6fdac07a3956",
   "metadata": {},
   "outputs": [],
   "source": [
    "t5=()"
   ]
  },
  {
   "cell_type": "code",
   "execution_count": 94,
   "id": "a5b54e62-56ba-463f-ac91-789503bfdd54",
   "metadata": {},
   "outputs": [
    {
     "data": {
      "text/plain": [
       "False"
      ]
     },
     "execution_count": 94,
     "metadata": {},
     "output_type": "execute_result"
    }
   ],
   "source": [
    "bool(len(t5))"
   ]
  },
  {
   "cell_type": "markdown",
   "id": "145d4606-3d05-48bf-9945-b9323de1e2f3",
   "metadata": {},
   "source": [
    "# 15. Create a nested tuple."
   ]
  },
  {
   "cell_type": "code",
   "execution_count": 95,
   "id": "82eeef25-161c-4678-a2cf-8a7307e3adb2",
   "metadata": {},
   "outputs": [],
   "source": [
    "nt=(1,2,(3,4),5,6,7,(8,9),10)"
   ]
  },
  {
   "cell_type": "code",
   "execution_count": 96,
   "id": "eb20f1c2-ceb3-4824-bb99-13f18a98d52b",
   "metadata": {},
   "outputs": [
    {
     "data": {
      "text/plain": [
       "(1, 2, (3, 4), 5, 6, 7, (8, 9), 10)"
      ]
     },
     "execution_count": 96,
     "metadata": {},
     "output_type": "execute_result"
    }
   ],
   "source": [
    "nt"
   ]
  },
  {
   "cell_type": "markdown",
   "id": "1cfbc1b6-4709-4f04-bc78-1eb3de258854",
   "metadata": {},
   "source": [
    "# 16. Access the first element of a nested tuple."
   ]
  },
  {
   "cell_type": "code",
   "execution_count": 97,
   "id": "f9220dca-0ecc-4133-abd5-ac19d00df922",
   "metadata": {},
   "outputs": [
    {
     "data": {
      "text/plain": [
       "(1, 2, (3, 4), 5, 6, 7, (8, 9), 10)"
      ]
     },
     "execution_count": 97,
     "metadata": {},
     "output_type": "execute_result"
    }
   ],
   "source": [
    "nt"
   ]
  },
  {
   "cell_type": "code",
   "execution_count": 99,
   "id": "09719f90-f16e-4936-ad26-33bb68ca0b2d",
   "metadata": {},
   "outputs": [
    {
     "data": {
      "text/plain": [
       "1"
      ]
     },
     "execution_count": 99,
     "metadata": {},
     "output_type": "execute_result"
    }
   ],
   "source": [
    "nt[0]"
   ]
  },
  {
   "cell_type": "markdown",
   "id": "9ebeb595-fbb4-412e-b0f3-ff2a97037bd8",
   "metadata": {},
   "source": [
    "# 17. Create a tuple with a single element."
   ]
  },
  {
   "cell_type": "code",
   "execution_count": 105,
   "id": "7091e699-f042-4524-be56-b944012b15df",
   "metadata": {},
   "outputs": [],
   "source": [
    "ts=(1,)"
   ]
  },
  {
   "cell_type": "code",
   "execution_count": 106,
   "id": "4403a170-5bce-4f4a-8b94-036e35315260",
   "metadata": {},
   "outputs": [
    {
     "data": {
      "text/plain": [
       "(1,)"
      ]
     },
     "execution_count": 106,
     "metadata": {},
     "output_type": "execute_result"
    }
   ],
   "source": [
    "ts"
   ]
  },
  {
   "cell_type": "markdown",
   "id": "c39c8980-49b4-4316-b91d-21ac347f4952",
   "metadata": {
    "tags": []
   },
   "source": [
    "# 18. Compare two tuples."
   ]
  },
  {
   "cell_type": "code",
   "execution_count": 48,
   "id": "c43b8e7d-1000-42bb-b795-cc0008c24150",
   "metadata": {},
   "outputs": [
    {
     "name": "stdout",
     "output_type": "stream",
     "text": [
      "true\n"
     ]
    }
   ],
   "source": [
    "a='pwskills'\n",
    "b='pwskills'\n",
    "if a==b:\n",
    "    print('true')\n",
    "else:\n",
    "    print('false')"
   ]
  },
  {
   "cell_type": "markdown",
   "id": "95ff1882-db35-417e-bfb2-1583a5c05f84",
   "metadata": {},
   "source": [
    "# 19. Delete a tuple."
   ]
  },
  {
   "cell_type": "code",
   "execution_count": 107,
   "id": "88cffcbf-59c3-4ecd-b0bb-6bb755821780",
   "metadata": {},
   "outputs": [
    {
     "data": {
      "text/plain": [
       "(1, 2, 3, 4, 5)"
      ]
     },
     "execution_count": 107,
     "metadata": {},
     "output_type": "execute_result"
    }
   ],
   "source": [
    "t"
   ]
  },
  {
   "cell_type": "code",
   "execution_count": 108,
   "id": "3c8e7697-b454-4442-a4ed-38d36963cfd0",
   "metadata": {},
   "outputs": [],
   "source": [
    "del(t)"
   ]
  },
  {
   "cell_type": "code",
   "execution_count": 109,
   "id": "93eb3a7f-a4dc-4dd6-9952-ba81441f5288",
   "metadata": {},
   "outputs": [
    {
     "ename": "NameError",
     "evalue": "name 't' is not defined",
     "output_type": "error",
     "traceback": [
      "\u001b[0;31m---------------------------------------------------------------------------\u001b[0m",
      "\u001b[0;31mNameError\u001b[0m                                 Traceback (most recent call last)",
      "Cell \u001b[0;32mIn[109], line 1\u001b[0m\n\u001b[0;32m----> 1\u001b[0m \u001b[43mt\u001b[49m\n",
      "\u001b[0;31mNameError\u001b[0m: name 't' is not defined"
     ]
    }
   ],
   "source": [
    "t"
   ]
  },
  {
   "cell_type": "markdown",
   "id": "bba90d36-6c0e-4c08-914c-7300fe5e2082",
   "metadata": {},
   "source": [
    "# 20. Slice a tuple."
   ]
  },
  {
   "cell_type": "code",
   "execution_count": 110,
   "id": "f82b6689-2067-4c26-bb1f-4bb695f6dcce",
   "metadata": {},
   "outputs": [
    {
     "data": {
      "text/plain": [
       "(1, 2, 3, 4, 5, 1, 2, 3, 4, 5, 6, 7, 8, 9, 10)"
      ]
     },
     "execution_count": 110,
     "metadata": {},
     "output_type": "execute_result"
    }
   ],
   "source": [
    "t2"
   ]
  },
  {
   "cell_type": "code",
   "execution_count": 114,
   "id": "af0f6800-4bbc-4165-8c9e-c74862cd694b",
   "metadata": {},
   "outputs": [
    {
     "data": {
      "text/plain": [
       "(1, 2, 3, 4, 5)"
      ]
     },
     "execution_count": 114,
     "metadata": {},
     "output_type": "execute_result"
    }
   ],
   "source": [
    "t2[0:5]"
   ]
  },
  {
   "cell_type": "markdown",
   "id": "8128d8d8-5bf5-44b3-ac6c-21ac4815d389",
   "metadata": {},
   "source": [
    "# 21. Find the maximum value in a tuple."
   ]
  },
  {
   "cell_type": "code",
   "execution_count": 115,
   "id": "badc0c50-3fe9-49e3-bff0-2e387ba1835d",
   "metadata": {},
   "outputs": [
    {
     "data": {
      "text/plain": [
       "(1, 2, 3, 4, 5, 1, 2, 3, 4, 5, 6, 7, 8, 9, 10)"
      ]
     },
     "execution_count": 115,
     "metadata": {},
     "output_type": "execute_result"
    }
   ],
   "source": [
    "t2"
   ]
  },
  {
   "cell_type": "markdown",
   "id": "3842ef59-02ed-42a4-ba64-d7b8fe9ad631",
   "metadata": {},
   "source": [
    "# 22. Find the minimum value in a tuple."
   ]
  },
  {
   "cell_type": "code",
   "execution_count": 116,
   "id": "fdecd0cb-ade5-45ee-ad77-598b6b39d138",
   "metadata": {},
   "outputs": [
    {
     "data": {
      "text/plain": [
       "(1, 2, 3, 4, 5, 1, 2, 3, 4, 5, 6, 7, 8, 9, 10)"
      ]
     },
     "execution_count": 116,
     "metadata": {},
     "output_type": "execute_result"
    }
   ],
   "source": [
    "t2"
   ]
  },
  {
   "cell_type": "markdown",
   "id": "5dc1665b-fc8d-45c9-a4f7-665c6bf05300",
   "metadata": {},
   "source": [
    "# 23. Convert a string to a tuple of characters."
   ]
  },
  {
   "cell_type": "code",
   "execution_count": 2,
   "id": "e69a72fd-b4f3-4e2e-ac31-5d5984acdd85",
   "metadata": {},
   "outputs": [],
   "source": [
    "s='pwskills'"
   ]
  },
  {
   "cell_type": "code",
   "execution_count": 7,
   "id": "59eaa0ff-3d1a-4d90-989c-fb24d73d4723",
   "metadata": {},
   "outputs": [],
   "source": [
    "l=tuple(s)"
   ]
  },
  {
   "cell_type": "code",
   "execution_count": 8,
   "id": "546cfb2a-6806-49ef-b9a6-3b65bde07582",
   "metadata": {},
   "outputs": [
    {
     "data": {
      "text/plain": [
       "('p', 'w', 's', 'k', 'i', 'l', 'l', 's')"
      ]
     },
     "execution_count": 8,
     "metadata": {},
     "output_type": "execute_result"
    }
   ],
   "source": [
    "l"
   ]
  },
  {
   "cell_type": "markdown",
   "id": "6a87b776-3e05-438f-b8e1-100ec31282b3",
   "metadata": {},
   "source": [
    "# 24. Convert a tuple of characters to a string."
   ]
  },
  {
   "cell_type": "code",
   "execution_count": 24,
   "id": "ec1230ad-6032-4588-9e95-4abb3d4b06cd",
   "metadata": {},
   "outputs": [
    {
     "data": {
      "text/plain": [
       "'pwskills'"
      ]
     },
     "execution_count": 24,
     "metadata": {},
     "output_type": "execute_result"
    }
   ],
   "source": [
    "a=('p', 'w', 's', 'k', 'i', 'l', 'l', 's')\n",
    "\n",
    "''.join(a)"
   ]
  },
  {
   "cell_type": "markdown",
   "id": "54c6173a-9688-4407-bc61-33476fc5153a",
   "metadata": {},
   "source": [
    "# 25. Create a tuple from multiple data types."
   ]
  },
  {
   "cell_type": "code",
   "execution_count": 25,
   "id": "329e0aa9-274c-4577-801a-e8c45961df62",
   "metadata": {},
   "outputs": [],
   "source": [
    "a=('pwskills',1,2,3,4,5,True,2.54)"
   ]
  },
  {
   "cell_type": "code",
   "execution_count": 26,
   "id": "a97ef97b-e8e8-4a94-aed6-68f65671484c",
   "metadata": {},
   "outputs": [
    {
     "data": {
      "text/plain": [
       "tuple"
      ]
     },
     "execution_count": 26,
     "metadata": {},
     "output_type": "execute_result"
    }
   ],
   "source": [
    "type(a)"
   ]
  },
  {
   "cell_type": "markdown",
   "id": "db8aef8a-0f60-407d-a384-7c1bc9f5cd94",
   "metadata": {},
   "source": [
    "# 26. Check if two tuples are identical."
   ]
  },
  {
   "cell_type": "code",
   "execution_count": 35,
   "id": "ab850ee8-6ae3-4a04-9f2c-2379ce0bf812",
   "metadata": {},
   "outputs": [],
   "source": [
    "a=('pwskills')\n",
    "b=('kills')"
   ]
  },
  {
   "cell_type": "code",
   "execution_count": 36,
   "id": "2d1e242b-15ff-424f-856e-02e84a8cf3e8",
   "metadata": {},
   "outputs": [
    {
     "name": "stdout",
     "output_type": "stream",
     "text": [
      "false\n"
     ]
    }
   ],
   "source": [
    "if a==b:\n",
    "    print('true')\n",
    "else:\n",
    "    print('false')"
   ]
  },
  {
   "cell_type": "markdown",
   "id": "1d0873da-5d3b-407a-b851-f563c278ace1",
   "metadata": {},
   "source": [
    "# 27. Sort the elements of a tuple."
   ]
  },
  {
   "cell_type": "code",
   "execution_count": 47,
   "id": "c197b3d3-e18f-42a6-8340-e017290e828b",
   "metadata": {},
   "outputs": [
    {
     "name": "stdout",
     "output_type": "stream",
     "text": [
      "[1, 2, 3, 4, 5]\n",
      "['pwskills']\n"
     ]
    }
   ],
   "source": [
    "a=('pwskills',1,2,3,4,5)\n",
    "b=[]\n",
    "c=[]\n",
    "for i in a:\n",
    "    if type(i)==int:\n",
    "        b.append(i)\n",
    "    elif type(i)==str:\n",
    "        c.append(i)\n",
    "print(b)\n",
    "print(c)"
   ]
  },
  {
   "cell_type": "markdown",
   "id": "da6fd485-f21a-4dd4-aefc-4a2e9d3dd905",
   "metadata": {},
   "source": [
    "# 28. Convert a tuple of integers to a tuple of strings."
   ]
  },
  {
   "cell_type": "code",
   "execution_count": 55,
   "id": "5121c8a4-a5f7-4cfe-ac39-68bb77faee35",
   "metadata": {},
   "outputs": [
    {
     "name": "stdout",
     "output_type": "stream",
     "text": [
      "('1', '2', '3', '4', '5')\n"
     ]
    }
   ],
   "source": [
    "a=(1, 2, 3, 4, 5)\n",
    "b=[]\n",
    "\n",
    "for i in a:\n",
    "    b.append(str(i))\n",
    "print(tuple(b))"
   ]
  },
  {
   "cell_type": "markdown",
   "id": "cb175cca-418c-423b-920d-6333499f0528",
   "metadata": {},
   "source": [
    "# 29. Convert a tuple of strings to a tuple of integers."
   ]
  },
  {
   "cell_type": "code",
   "execution_count": 58,
   "id": "7668a581-612f-46a5-91ae-3284490ac1c1",
   "metadata": {},
   "outputs": [
    {
     "name": "stdout",
     "output_type": "stream",
     "text": [
      "(1, 2, 3, 4, 5)\n"
     ]
    }
   ],
   "source": [
    "a=('1', '2', '3', '4', '5')\n",
    "b=[]\n",
    "\n",
    "for i in a :\n",
    "    b.append(int(i))\n",
    "print(tuple(b))"
   ]
  },
  {
   "cell_type": "markdown",
   "id": "97dd7787-ff2e-4b84-994e-bbf5cffcd080",
   "metadata": {},
   "source": [
    "# 30. Merge two tuples."
   ]
  },
  {
   "cell_type": "code",
   "execution_count": 62,
   "id": "b3ba4745-85e6-4369-a798-bc3997056618",
   "metadata": {},
   "outputs": [
    {
     "data": {
      "text/plain": [
       "(1, 2, 3, 4, 5, 'pwskills', 'pw')"
      ]
     },
     "execution_count": 62,
     "metadata": {},
     "output_type": "execute_result"
    }
   ],
   "source": [
    "a=(1, 2, 3, 4, 5)\n",
    "b=('pwskills','pw')\n",
    "\n",
    "a+b"
   ]
  },
  {
   "cell_type": "markdown",
   "id": "2adfa182-a3ed-4874-9955-24a8c7a146a9",
   "metadata": {},
   "source": [
    "# 31. Flatten a nested tuple."
   ]
  },
  {
   "cell_type": "code",
   "execution_count": 3,
   "id": "2fe1a649-e01e-4710-9ef6-dfb21a0c19ce",
   "metadata": {},
   "outputs": [
    {
     "name": "stdout",
     "output_type": "stream",
     "text": [
      "(1, 2, 3, 4, 5)\n"
     ]
    }
   ],
   "source": [
    "t=((1,2,3,4,5))\n",
    "t1=[]\n",
    "\n",
    "for i in t:\n",
    "    t1.append(i)\n",
    "print(tuple(t1))"
   ]
  },
  {
   "cell_type": "markdown",
   "id": "c0b30fe3-9e79-4a5a-b44d-a34bc2ad03c5",
   "metadata": {},
   "source": [
    "# 32. Create a tuple of the first 5 prime numbers."
   ]
  },
  {
   "cell_type": "code",
   "execution_count": 4,
   "id": "e8b3cc60-8122-415b-81a2-c5df604df129",
   "metadata": {},
   "outputs": [],
   "source": [
    "a=range(0,6)"
   ]
  },
  {
   "cell_type": "markdown",
   "id": "aac94220-2eb7-4753-bc19-c02f15bf7154",
   "metadata": {},
   "source": [
    "# 33. Check if a tuple is a palindrome."
   ]
  },
  {
   "cell_type": "code",
   "execution_count": 4,
   "id": "46e79363-fc99-427e-9e74-456b71d7693e",
   "metadata": {},
   "outputs": [
    {
     "name": "stdout",
     "output_type": "stream",
     "text": [
      "palindrome\n"
     ]
    }
   ],
   "source": [
    "a=(1,2,1)\n",
    "\n",
    "if list(a)==list(a[::-1]):\n",
    "    print('palindrome')\n",
    "else :\n",
    "    print('not palindrome')"
   ]
  },
  {
   "cell_type": "markdown",
   "id": "226ec4c2-9fb4-4af7-badd-cf7261d5cc69",
   "metadata": {},
   "source": [
    "# 34. Create a tuple of squares of numbers from 1 to 5."
   ]
  },
  {
   "cell_type": "code",
   "execution_count": 9,
   "id": "184ffe5c-86f5-41e7-ad14-76d219b98f52",
   "metadata": {},
   "outputs": [
    {
     "data": {
      "text/plain": [
       "(1, 4, 9, 16, 25)"
      ]
     },
     "execution_count": 9,
     "metadata": {},
     "output_type": "execute_result"
    }
   ],
   "source": [
    "a=range(1,6)\n",
    "\n",
    "tuple(map(lambda i:i**2,a))"
   ]
  },
  {
   "cell_type": "markdown",
   "id": "a8e2c697-bf3d-42f6-8aa6-e8f53fbf9b15",
   "metadata": {},
   "source": [
    "# 35. Filter out all even numbers from a tuple."
   ]
  },
  {
   "cell_type": "code",
   "execution_count": 2,
   "id": "c5c1508b-b6ef-483b-917e-de2264efd298",
   "metadata": {},
   "outputs": [
    {
     "data": {
      "text/plain": [
       "(2, 4, 6, 8, 10)"
      ]
     },
     "execution_count": 2,
     "metadata": {},
     "output_type": "execute_result"
    }
   ],
   "source": [
    "a=range(1,11)\n",
    "\n",
    "tuple(filter(lambda i:i%2==0,a))"
   ]
  },
  {
   "cell_type": "markdown",
   "id": "6b156cdc-118a-4df0-bc89-d1a4092bd766",
   "metadata": {},
   "source": [
    "# 36. Multiply all elements in a tuple by 2."
   ]
  },
  {
   "cell_type": "code",
   "execution_count": 6,
   "id": "e34819c1-ffcd-4cb2-b5de-d101939522ae",
   "metadata": {},
   "outputs": [
    {
     "data": {
      "text/plain": [
       "(2, 4, 6, 8, 10, 12, 14, 16, 18, 20)"
      ]
     },
     "execution_count": 6,
     "metadata": {},
     "output_type": "execute_result"
    }
   ],
   "source": [
    "a=range(1,11)\n",
    "\n",
    "tuple(map(lambda i:i*2,a))"
   ]
  },
  {
   "cell_type": "markdown",
   "id": "01ff863b-3eb4-450a-9dc7-45bcf87c12f8",
   "metadata": {},
   "source": [
    "# 37. Create a tuple of random numbers."
   ]
  },
  {
   "cell_type": "code",
   "execution_count": 4,
   "id": "8315d78b-eec8-4140-8907-34115b06d34f",
   "metadata": {},
   "outputs": [],
   "source": [
    "a=(1,2,4,6,88,3,6,3,6)"
   ]
  },
  {
   "cell_type": "markdown",
   "id": "5c537138-0ade-4968-be02-4c6e41a6e390",
   "metadata": {},
   "source": [
    "# 38. Check if a tuple is sorted."
   ]
  },
  {
   "cell_type": "code",
   "execution_count": 32,
   "id": "dd683038-9239-4b82-9509-6a8d6e16ca1c",
   "metadata": {},
   "outputs": [],
   "source": [
    "def is_sorted(a):\n",
    "    for i in range(len(a)-1):\n",
    "        if a[i]>a[(i+1)]:\n",
    "            return False\n",
    "    return True"
   ]
  },
  {
   "cell_type": "code",
   "execution_count": 33,
   "id": "e52ffced-8611-44be-9563-f6f66be79bab",
   "metadata": {},
   "outputs": [
    {
     "data": {
      "text/plain": [
       "False"
      ]
     },
     "execution_count": 33,
     "metadata": {},
     "output_type": "execute_result"
    }
   ],
   "source": [
    "l=(1,2,4,2,5,88,4,65,3,5,7,3,4)\n",
    "\n",
    "is_sorted(l)"
   ]
  },
  {
   "cell_type": "code",
   "execution_count": 34,
   "id": "bda56c28-f416-45d0-837b-bf8360d2fefe",
   "metadata": {},
   "outputs": [
    {
     "data": {
      "text/plain": [
       "True"
      ]
     },
     "execution_count": 34,
     "metadata": {},
     "output_type": "execute_result"
    }
   ],
   "source": [
    "l1=(1,2,3,4,5,6,7,8,9)\n",
    "\n",
    "is_sorted(l1)"
   ]
  },
  {
   "cell_type": "markdown",
   "id": "1b9d4124-210b-4c95-834a-6328e0c88eb6",
   "metadata": {},
   "source": [
    "# 39. Rotate a tuple to the left by `n` positions."
   ]
  },
  {
   "cell_type": "code",
   "execution_count": 19,
   "id": "c0bdb266-7c20-4e20-a7d4-70a90c655a0d",
   "metadata": {},
   "outputs": [
    {
     "name": "stdin",
     "output_type": "stream",
     "text": [
      "enter left rotating position 5\n"
     ]
    },
    {
     "name": "stdout",
     "output_type": "stream",
     "text": [
      "(6, 7, 8, 9, 1, 2, 3, 4)\n"
     ]
    }
   ],
   "source": [
    "l=(1,2,3,4,5,6,7,8,9)\n",
    "n=int(input('enter left rotating position'))\n",
    "l1=list(l)\n",
    "\n",
    "if n<0 and n>len(l):\n",
    "    print('position out of range')\n",
    "else:\n",
    "    print(tuple(l1[n::]+l1[0:n-1]))"
   ]
  },
  {
   "cell_type": "markdown",
   "id": "d8c364f4-6442-4b61-9019-0d322b041fee",
   "metadata": {},
   "source": [
    "# 40. Rotate a tuple to the right by `n` positions."
   ]
  },
  {
   "cell_type": "code",
   "execution_count": 27,
   "id": "4bd1e550-be3e-4d4c-bec9-a30e03c4a441",
   "metadata": {},
   "outputs": [
    {
     "name": "stdin",
     "output_type": "stream",
     "text": [
      "enter rotating position 5\n"
     ]
    },
    {
     "name": "stdout",
     "output_type": "stream",
     "text": [
      "(6, 7, 8, 9, 1, 2, 3, 4, 5)\n"
     ]
    }
   ],
   "source": [
    "l=(1,2,3,4,5,6,7,8,9)\n",
    "n=int(input('enter rotating position'))\n",
    "l1=list(l)\n",
    "\n",
    "if n<0 and n>len(l):\n",
    "    print('position out of range')\n",
    "else:\n",
    "    print(tuple(l1[-n+1::]+l1[0:n]))"
   ]
  },
  {
   "cell_type": "markdown",
   "id": "5aa9840e-abce-4a7c-b5d8-87b7f859b217",
   "metadata": {},
   "source": [
    "# 41. Create a tuple of the first 5 Fibonacci numbers."
   ]
  },
  {
   "cell_type": "code",
   "execution_count": 46,
   "id": "c5d39132-5e98-4582-b844-525b8815b24b",
   "metadata": {},
   "outputs": [
    {
     "name": "stdout",
     "output_type": "stream",
     "text": [
      "(0, 1, 1, 2, 3, 5)\n"
     ]
    }
   ],
   "source": [
    "a=0\n",
    "b=1\n",
    "c=[0]\n",
    "for i in range(5):\n",
    "    a,b=b,a+b\n",
    "    c.append(a)\n",
    "print(tuple(c))"
   ]
  },
  {
   "cell_type": "markdown",
   "id": "daa10042-2c81-479e-99f0-563ebd87e59d",
   "metadata": {},
   "source": [
    "# 42. Create a tuple from user input."
   ]
  },
  {
   "cell_type": "code",
   "execution_count": 68,
   "id": "b0fee75c-b106-4987-bfd9-893816d43572",
   "metadata": {},
   "outputs": [
    {
     "name": "stdin",
     "output_type": "stream",
     "text": [
      "Enter values:  pwskills\n"
     ]
    },
    {
     "name": "stdout",
     "output_type": "stream",
     "text": [
      "Tuple created from user input: ('p', 'w', 's', 'k', 'i', 'l', 'l', 's')\n"
     ]
    }
   ],
   "source": [
    "n = input(\"Enter values: \")\n",
    "l = n.split()\n",
    "t = tuple(n)\n",
    "print(\"Tuple created from user input:\", t)"
   ]
  },
  {
   "cell_type": "markdown",
   "id": "ceb171f4-1a45-47c9-aa16-75a62660d737",
   "metadata": {},
   "source": [
    "# 43. Swap two elements in a tuple."
   ]
  },
  {
   "cell_type": "code",
   "execution_count": 28,
   "id": "c9c7df7a-418a-4a83-8a0c-b3c15e8a3ba4",
   "metadata": {},
   "outputs": [
    {
     "name": "stdin",
     "output_type": "stream",
     "text": [
      "enter 1st element want to swap p\n",
      "enter 2nd element want to swap with w\n"
     ]
    },
    {
     "name": "stdout",
     "output_type": "stream",
     "text": [
      "['w', 'p', 's', 'k', 'i', 'l', 'l', 's']\n"
     ]
    }
   ],
   "source": [
    "n=('p', 'w', 's', 'k', 'i', 'l', 'l', 's')\n",
    "n1=list(n)\n",
    "n2=[]\n",
    "s1=input('enter 1st element want to swap')\n",
    "s2=input('enter 2nd element want to swap with')\n",
    "\n",
    "for i in n1:\n",
    "    if s1 in n1 and s2 in n1:\n",
    "        if i==s1:\n",
    "            n2.append(s2)\n",
    "        elif i==s2:\n",
    "            n2.append(s1)\n",
    "        else:\n",
    "            n2.append(i)\n",
    "    else:\n",
    "        print('not')\n",
    "print(n2)"
   ]
  },
  {
   "cell_type": "markdown",
   "id": "4e1a519e-8db6-494d-9ff0-35df6793661f",
   "metadata": {},
   "source": [
    "# 44. Reverse the elements of a tuple."
   ]
  },
  {
   "cell_type": "code",
   "execution_count": 1,
   "id": "8ee96153-6877-4eba-a498-7ee98363b41d",
   "metadata": {},
   "outputs": [
    {
     "data": {
      "text/plain": [
       "('s', 'l', 'l', 'i', 'k', 's', 'w', 'p')"
      ]
     },
     "execution_count": 1,
     "metadata": {},
     "output_type": "execute_result"
    }
   ],
   "source": [
    "n=('p', 'w', 's', 'k', 'i', 'l', 'l', 's')\n",
    "\n",
    "n[::-1]"
   ]
  },
  {
   "cell_type": "markdown",
   "id": "7f92139a-0cd2-4c87-8b9d-7f8bb066bf63",
   "metadata": {},
   "source": [
    "# 45. Create a tuple of the first `n` powers of 2."
   ]
  },
  {
   "cell_type": "code",
   "execution_count": 3,
   "id": "b790a1d9-8270-4efb-b944-baa0ee59dc38",
   "metadata": {},
   "outputs": [
    {
     "name": "stdout",
     "output_type": "stream",
     "text": [
      "(2, 4, 8, 16, 32, 64, 128, 256, 512)\n"
     ]
    }
   ],
   "source": [
    "n=10\n",
    "a=[]\n",
    "for i in range(1,n):\n",
    "    b=2**i\n",
    "    a.append(b)\n",
    "print(tuple(a))"
   ]
  },
  {
   "cell_type": "markdown",
   "id": "11dfad1f-f851-4025-a52c-67f44ef2128a",
   "metadata": {},
   "source": [
    "# 46. Find the longest string in a tuple of strings."
   ]
  },
  {
   "cell_type": "code",
   "execution_count": 4,
   "id": "f31a9373-8939-4c48-94ac-84e3a0bde64c",
   "metadata": {},
   "outputs": [
    {
     "name": "stdout",
     "output_type": "stream",
     "text": [
      "learning\n"
     ]
    }
   ],
   "source": [
    "l=('we', 'are', 'learning', 'python', 'in', 'pwskills')\n",
    "\n",
    "longest_str=max(l,key=len)\n",
    "print(longest_str)"
   ]
  },
  {
   "cell_type": "markdown",
   "id": "954e7c25-25d2-4f14-af5a-748cea920694",
   "metadata": {},
   "source": [
    "# 47. Find the shortest string in a tuple of strings."
   ]
  },
  {
   "cell_type": "code",
   "execution_count": 7,
   "id": "cb738a76-1ef0-446f-8e9c-0a36909ff0f9",
   "metadata": {},
   "outputs": [
    {
     "name": "stdout",
     "output_type": "stream",
     "text": [
      "we\n"
     ]
    }
   ],
   "source": [
    "l=('we', 'learn', 'python', 'in', 'pwskills')\n",
    "\n",
    "shortest_str=min(l,key=len)\n",
    "print(shortest_str)"
   ]
  },
  {
   "cell_type": "markdown",
   "id": "deb22ca0-8858-4bda-895c-b2296a0a36fe",
   "metadata": {},
   "source": [
    "# 48. Create a tuple of the first `n` triangular numbers."
   ]
  },
  {
   "cell_type": "code",
   "execution_count": 6,
   "id": "3674ec09-cd0c-42e1-ab4f-61c7d64da7a8",
   "metadata": {},
   "outputs": [
    {
     "name": "stdout",
     "output_type": "stream",
     "text": [
      "(3, 9, 27, 81, 243, 729, 2187, 6561, 19683)\n"
     ]
    }
   ],
   "source": [
    "n=10\n",
    "a=[]\n",
    "for i in range(1,n):\n",
    "    b=3**i\n",
    "    a.append(b)\n",
    "print(tuple(a))"
   ]
  },
  {
   "cell_type": "markdown",
   "id": "1acb00d8-a1d6-4ed7-8724-d49c59ee98fb",
   "metadata": {},
   "source": [
    "# 49. Check if a tuple contains another tuple as a subsequence."
   ]
  },
  {
   "cell_type": "code",
   "execution_count": 9,
   "id": "01862119-7c89-4b18-a28b-cb201c47866b",
   "metadata": {},
   "outputs": [
    {
     "name": "stdout",
     "output_type": "stream",
     "text": [
      "True\n"
     ]
    }
   ],
   "source": [
    "l1=(1,2,4,5,6,8,9,0)\n",
    "l2=(6,8)\n",
    "b=[]\n",
    "\n",
    "for i in l2:\n",
    "    for j in l1:\n",
    "        if i==j:\n",
    "            b.append(i)\n",
    "print(tuple(b)==l2)"
   ]
  },
  {
   "cell_type": "markdown",
   "id": "3e03f86c-8622-4a8e-93b2-3b30b5b1e9c1",
   "metadata": {},
   "source": [
    "# 50. Create a tuple of alternating 1s and 0s of length `n`."
   ]
  },
  {
   "cell_type": "code",
   "execution_count": 21,
   "id": "36edc7c1-1159-4229-8b51-32d17057a32e",
   "metadata": {},
   "outputs": [
    {
     "name": "stdin",
     "output_type": "stream",
     "text": [
      "enter number to create 1s and 0s tuple 5\n"
     ]
    },
    {
     "name": "stdout",
     "output_type": "stream",
     "text": [
      "(0, 1, 0, 1, 0)\n"
     ]
    }
   ],
   "source": [
    "a=int(input('enter number to create 1s and 0s tuple'))\n",
    "b=[]\n",
    "for i in range(5):\n",
    "    if i%2==0:\n",
    "        b.append(0)\n",
    "    else:\n",
    "        b.append(1)\n",
    "print(tuple(b))"
   ]
  },
  {
   "cell_type": "code",
   "execution_count": null,
   "id": "bd164522-9f30-4321-9bf9-72439ad24180",
   "metadata": {},
   "outputs": [],
   "source": []
  }
 ],
 "metadata": {
  "kernelspec": {
   "display_name": "Python 3 (ipykernel)",
   "language": "python",
   "name": "python3"
  },
  "language_info": {
   "codemirror_mode": {
    "name": "ipython",
    "version": 3
   },
   "file_extension": ".py",
   "mimetype": "text/x-python",
   "name": "python",
   "nbconvert_exporter": "python",
   "pygments_lexer": "ipython3",
   "version": "3.10.8"
  }
 },
 "nbformat": 4,
 "nbformat_minor": 5
}
