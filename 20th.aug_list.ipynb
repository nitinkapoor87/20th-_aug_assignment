{
 "cells": [
  {
   "cell_type": "markdown",
   "id": "7909843d-0fae-4ac7-a654-b41dc28912b0",
   "metadata": {},
   "source": [
    "# 1. Create a list with integers from 1 to 10."
   ]
  },
  {
   "cell_type": "code",
   "execution_count": 4,
   "id": "b0c346a0-c6c7-47e3-a37f-4216f0255da9",
   "metadata": {},
   "outputs": [],
   "source": [
    "i=list(range(1,11))"
   ]
  },
  {
   "cell_type": "code",
   "execution_count": 8,
   "id": "9c30de6f-fd21-41e1-8b89-15e04079f48c",
   "metadata": {},
   "outputs": [
    {
     "data": {
      "text/plain": [
       "[1, 2, 3, 4, 5, 6, 7, 8, 9, 10]"
      ]
     },
     "execution_count": 8,
     "metadata": {},
     "output_type": "execute_result"
    }
   ],
   "source": [
    "l"
   ]
  },
  {
   "cell_type": "markdown",
   "id": "0e4d0194-6545-4558-9e6a-85a50af4eae2",
   "metadata": {},
   "source": [
    "# 2. Find the length of a list without using the `len()` function"
   ]
  },
  {
   "cell_type": "code",
   "execution_count": 9,
   "id": "cc750c2f-9df9-461d-8099-795e2c183043",
   "metadata": {},
   "outputs": [
    {
     "data": {
      "text/plain": [
       "[1, 2, 3, 4, 5, 6, 7, 8, 9, 10]"
      ]
     },
     "execution_count": 9,
     "metadata": {},
     "output_type": "execute_result"
    }
   ],
   "source": [
    "l"
   ]
  },
  {
   "cell_type": "code",
   "execution_count": 5,
   "id": "cd273c58-e52e-415f-ab58-8d628889ec4a",
   "metadata": {},
   "outputs": [],
   "source": [
    "'''adding 1 for onces place counting'''\n",
    "length=l.index(l[-1])+1"
   ]
  },
  {
   "cell_type": "code",
   "execution_count": 6,
   "id": "8150fde8-6652-4b9d-a205-2ab9b608b6b5",
   "metadata": {},
   "outputs": [
    {
     "data": {
      "text/plain": [
       "10"
      ]
     },
     "execution_count": 6,
     "metadata": {},
     "output_type": "execute_result"
    }
   ],
   "source": [
    "length"
   ]
  },
  {
   "cell_type": "markdown",
   "id": "96e6b4bb-406b-4652-8958-7ad696853c93",
   "metadata": {},
   "source": [
    "# 3. Append an element to the end of a list."
   ]
  },
  {
   "cell_type": "code",
   "execution_count": 7,
   "id": "5356bbd7-2c73-4dd3-b9c1-a0138761c737",
   "metadata": {},
   "outputs": [
    {
     "data": {
      "text/plain": [
       "[1, 2, 3, 4, 5, 6, 7, 8, 9, 10]"
      ]
     },
     "execution_count": 7,
     "metadata": {},
     "output_type": "execute_result"
    }
   ],
   "source": [
    "l"
   ]
  },
  {
   "cell_type": "code",
   "execution_count": 8,
   "id": "21e9675c-5519-452f-91ea-ceb5654a1a7e",
   "metadata": {},
   "outputs": [],
   "source": [
    "l1=l.append(4)"
   ]
  },
  {
   "cell_type": "code",
   "execution_count": 9,
   "id": "2b56ee8c-1e11-4b31-9022-3ac5802fad04",
   "metadata": {},
   "outputs": [
    {
     "data": {
      "text/plain": [
       "[1, 2, 3, 4, 5, 6, 7, 8, 9, 10, 4]"
      ]
     },
     "execution_count": 9,
     "metadata": {},
     "output_type": "execute_result"
    }
   ],
   "source": [
    "l"
   ]
  },
  {
   "cell_type": "markdown",
   "id": "bf066daf-88f2-4d32-824b-404936f40545",
   "metadata": {},
   "source": [
    "# 4. Insert an element at a specific index in a list."
   ]
  },
  {
   "cell_type": "code",
   "execution_count": 10,
   "id": "ad67b13f-76bb-486c-81c0-96c6f23355d7",
   "metadata": {},
   "outputs": [
    {
     "data": {
      "text/plain": [
       "[1, 2, 3, 4, 5, 6, 7, 8, 9, 10, 4]"
      ]
     },
     "execution_count": 10,
     "metadata": {},
     "output_type": "execute_result"
    }
   ],
   "source": [
    "l"
   ]
  },
  {
   "cell_type": "code",
   "execution_count": 11,
   "id": "7337fc36-bbf8-46c7-8007-325d4007a7c8",
   "metadata": {},
   "outputs": [],
   "source": [
    "l.insert(0,11)"
   ]
  },
  {
   "cell_type": "code",
   "execution_count": 12,
   "id": "bf2a3b12-5b07-4714-b48a-28bcf80d5bf1",
   "metadata": {},
   "outputs": [
    {
     "data": {
      "text/plain": [
       "[11, 1, 2, 3, 4, 5, 6, 7, 8, 9, 10, 4]"
      ]
     },
     "execution_count": 12,
     "metadata": {},
     "output_type": "execute_result"
    }
   ],
   "source": [
    "l"
   ]
  },
  {
   "cell_type": "markdown",
   "id": "b57885c7-5d50-4eb3-90b8-69ef858054fe",
   "metadata": {},
   "source": [
    "# 5. Remove an element from a list by its value."
   ]
  },
  {
   "cell_type": "code",
   "execution_count": 13,
   "id": "f800377e-2f00-4bd6-8fa3-cbdc40f2dc49",
   "metadata": {},
   "outputs": [
    {
     "data": {
      "text/plain": [
       "[11, 1, 2, 3, 4, 5, 6, 7, 8, 9, 10, 4]"
      ]
     },
     "execution_count": 13,
     "metadata": {},
     "output_type": "execute_result"
    }
   ],
   "source": [
    "l"
   ]
  },
  {
   "cell_type": "code",
   "execution_count": 14,
   "id": "e046aafc-d651-4cae-a2c9-adb4ff9ebead",
   "metadata": {},
   "outputs": [],
   "source": [
    "l.remove(1)"
   ]
  },
  {
   "cell_type": "code",
   "execution_count": 15,
   "id": "8429d528-6fa1-457f-b143-292a190c8b01",
   "metadata": {},
   "outputs": [
    {
     "data": {
      "text/plain": [
       "[11, 2, 3, 4, 5, 6, 7, 8, 9, 10, 4]"
      ]
     },
     "execution_count": 15,
     "metadata": {},
     "output_type": "execute_result"
    }
   ],
   "source": [
    "l"
   ]
  },
  {
   "cell_type": "markdown",
   "id": "57c1d1e0-5c2a-453f-ad12-185822d8670f",
   "metadata": {},
   "source": [
    "# 6. Remove an element from a list by its index."
   ]
  },
  {
   "cell_type": "code",
   "execution_count": 16,
   "id": "e16cd55b-7b00-4bf6-80ce-1ed1c3468893",
   "metadata": {},
   "outputs": [
    {
     "data": {
      "text/plain": [
       "11"
      ]
     },
     "execution_count": 16,
     "metadata": {},
     "output_type": "execute_result"
    }
   ],
   "source": [
    "l.pop(0)"
   ]
  },
  {
   "cell_type": "code",
   "execution_count": 17,
   "id": "af31e691-c70a-4d89-96c2-3218f31370a2",
   "metadata": {},
   "outputs": [
    {
     "data": {
      "text/plain": [
       "[2, 3, 4, 5, 6, 7, 8, 9, 10, 4]"
      ]
     },
     "execution_count": 17,
     "metadata": {},
     "output_type": "execute_result"
    }
   ],
   "source": [
    "l"
   ]
  },
  {
   "cell_type": "markdown",
   "id": "c751cf42-b699-4378-9834-7762d2cd62cf",
   "metadata": {},
   "source": [
    "# 7. Check if an element exists in a list."
   ]
  },
  {
   "cell_type": "code",
   "execution_count": 18,
   "id": "e512dea0-78a7-479b-9083-2e6ce8976c22",
   "metadata": {},
   "outputs": [
    {
     "data": {
      "text/plain": [
       "[2, 3, 4, 5, 6, 7, 8, 9, 10, 4]"
      ]
     },
     "execution_count": 18,
     "metadata": {},
     "output_type": "execute_result"
    }
   ],
   "source": [
    "l"
   ]
  },
  {
   "cell_type": "code",
   "execution_count": 19,
   "id": "5f0f3e38-da6d-48d7-b1e0-b6b76fca5ec2",
   "metadata": {},
   "outputs": [],
   "source": [
    "e=0"
   ]
  },
  {
   "cell_type": "code",
   "execution_count": 20,
   "id": "1b7c422d-e76d-406c-bec2-d61d49c52fbf",
   "metadata": {},
   "outputs": [],
   "source": [
    "e1=bool(l.count(e))"
   ]
  },
  {
   "cell_type": "code",
   "execution_count": 21,
   "id": "ea277fdb-863f-4027-88ca-0ad14ca5b557",
   "metadata": {},
   "outputs": [
    {
     "data": {
      "text/plain": [
       "False"
      ]
     },
     "execution_count": 21,
     "metadata": {},
     "output_type": "execute_result"
    }
   ],
   "source": [
    "e1"
   ]
  },
  {
   "cell_type": "markdown",
   "id": "431d26a3-d3e8-4434-a28b-887e03d36c3a",
   "metadata": {},
   "source": [
    "# 9. Count the occurrences of an element in a list."
   ]
  },
  {
   "cell_type": "code",
   "execution_count": 22,
   "id": "38ebaac1-64d2-443d-b260-279b8fc29ff9",
   "metadata": {},
   "outputs": [
    {
     "data": {
      "text/plain": [
       "[2, 3, 4, 5, 6, 7, 8, 9, 10, 4]"
      ]
     },
     "execution_count": 22,
     "metadata": {},
     "output_type": "execute_result"
    }
   ],
   "source": [
    "l"
   ]
  },
  {
   "cell_type": "code",
   "execution_count": 23,
   "id": "520e680a-5619-44eb-948e-982132aeb8aa",
   "metadata": {},
   "outputs": [],
   "source": [
    "e=10"
   ]
  },
  {
   "cell_type": "code",
   "execution_count": 24,
   "id": "a77c84c0-1f76-4149-a7bf-a65e6dac3310",
   "metadata": {},
   "outputs": [],
   "source": [
    "e1=l.count(e)"
   ]
  },
  {
   "cell_type": "code",
   "execution_count": 25,
   "id": "53f7538a-492c-4ddc-aab2-2d285f86df07",
   "metadata": {},
   "outputs": [
    {
     "data": {
      "text/plain": [
       "1"
      ]
     },
     "execution_count": 25,
     "metadata": {},
     "output_type": "execute_result"
    }
   ],
   "source": [
    "e1"
   ]
  },
  {
   "cell_type": "markdown",
   "id": "8e802a36-d7a3-498d-a4bc-2fd573f4ec4e",
   "metadata": {},
   "source": [
    "# 10. Reverse the order of elements in a list."
   ]
  },
  {
   "cell_type": "code",
   "execution_count": 26,
   "id": "0edec344-0327-4f4c-91d8-d40e325bd76a",
   "metadata": {},
   "outputs": [
    {
     "data": {
      "text/plain": [
       "[2, 3, 4, 5, 6, 7, 8, 9, 10, 4]"
      ]
     },
     "execution_count": 26,
     "metadata": {},
     "output_type": "execute_result"
    }
   ],
   "source": [
    "l"
   ]
  },
  {
   "cell_type": "code",
   "execution_count": 27,
   "id": "678597ba-8707-422c-b90d-99f302ad0910",
   "metadata": {},
   "outputs": [],
   "source": [
    "l.reverse()"
   ]
  },
  {
   "cell_type": "code",
   "execution_count": 28,
   "id": "7628812c-4d6c-4956-9a3c-b3b1fb805232",
   "metadata": {},
   "outputs": [
    {
     "data": {
      "text/plain": [
       "[4, 10, 9, 8, 7, 6, 5, 4, 3, 2]"
      ]
     },
     "execution_count": 28,
     "metadata": {},
     "output_type": "execute_result"
    }
   ],
   "source": [
    "l"
   ]
  },
  {
   "cell_type": "markdown",
   "id": "2a8b378d-b915-40fa-a65e-6268410aac67",
   "metadata": {},
   "source": [
    "# 11. Sort a list in ascending order."
   ]
  },
  {
   "cell_type": "code",
   "execution_count": 29,
   "id": "74a7c212-8c39-4c2b-87ba-58bd12fa10d0",
   "metadata": {},
   "outputs": [
    {
     "data": {
      "text/plain": [
       "[4, 10, 9, 8, 7, 6, 5, 4, 3, 2]"
      ]
     },
     "execution_count": 29,
     "metadata": {},
     "output_type": "execute_result"
    }
   ],
   "source": [
    "l"
   ]
  },
  {
   "cell_type": "code",
   "execution_count": 30,
   "id": "a3894291-f7b4-4697-93d1-1c8e119ecfd1",
   "metadata": {},
   "outputs": [],
   "source": [
    "l.sort()"
   ]
  },
  {
   "cell_type": "code",
   "execution_count": 31,
   "id": "72629799-b5f8-40b8-9996-d37be8941033",
   "metadata": {},
   "outputs": [
    {
     "data": {
      "text/plain": [
       "[2, 3, 4, 4, 5, 6, 7, 8, 9, 10]"
      ]
     },
     "execution_count": 31,
     "metadata": {},
     "output_type": "execute_result"
    }
   ],
   "source": [
    "l"
   ]
  },
  {
   "cell_type": "markdown",
   "id": "16fae9aa-f8f2-40ef-8a5e-7c73494960d3",
   "metadata": {},
   "source": [
    "# 12. Sort a list in descending order."
   ]
  },
  {
   "cell_type": "code",
   "execution_count": 32,
   "id": "7db2bc39-7e7c-4400-94f0-288f035e62e1",
   "metadata": {},
   "outputs": [
    {
     "data": {
      "text/plain": [
       "[2, 3, 4, 4, 5, 6, 7, 8, 9, 10]"
      ]
     },
     "execution_count": 32,
     "metadata": {},
     "output_type": "execute_result"
    }
   ],
   "source": [
    "l"
   ]
  },
  {
   "cell_type": "code",
   "execution_count": 33,
   "id": "565d32c7-85a5-4bbd-8708-6c7de0ba2e64",
   "metadata": {},
   "outputs": [],
   "source": [
    "l.sort()"
   ]
  },
  {
   "cell_type": "code",
   "execution_count": 34,
   "id": "f6ec0675-885b-4ec3-8158-9ea27dd39efb",
   "metadata": {},
   "outputs": [
    {
     "data": {
      "text/plain": [
       "[10, 9, 8, 7, 6, 5, 4, 4, 3, 2]"
      ]
     },
     "execution_count": 34,
     "metadata": {},
     "output_type": "execute_result"
    }
   ],
   "source": [
    "l[::-1]"
   ]
  },
  {
   "cell_type": "markdown",
   "id": "1dffb995-3e4c-46c8-946c-9a5c006bbb13",
   "metadata": {},
   "source": [
    "# 13. Create a list of even numbers from 1 to 20."
   ]
  },
  {
   "cell_type": "code",
   "execution_count": 35,
   "id": "1919c99e-ab7b-47ed-af97-9bd2a25c2867",
   "metadata": {},
   "outputs": [],
   "source": [
    "e=[1,2,3,4,5,6,7,8,9,10,11,12,13,14,15,16,17,18,19,20]"
   ]
  },
  {
   "cell_type": "code",
   "execution_count": 36,
   "id": "4cf5877f-38bf-4328-87ed-3eeb7d5365d5",
   "metadata": {},
   "outputs": [
    {
     "data": {
      "text/plain": [
       "[2, 4, 6, 8, 10, 12, 14, 16, 18, 20]"
      ]
     },
     "execution_count": 36,
     "metadata": {},
     "output_type": "execute_result"
    }
   ],
   "source": [
    "e[1::2]"
   ]
  },
  {
   "cell_type": "markdown",
   "id": "4523a1b0-aaf9-4e1a-bcd5-9e2b55cd003d",
   "metadata": {},
   "source": [
    "# 14. Create a list of odd numbers from 1 to 20."
   ]
  },
  {
   "cell_type": "code",
   "execution_count": 37,
   "id": "0ae2ad1b-9f7d-4d51-b063-029c7fba6ff7",
   "metadata": {},
   "outputs": [
    {
     "data": {
      "text/plain": [
       "[1, 2, 3, 4, 5, 6, 7, 8, 9, 10, 11, 12, 13, 14, 15, 16, 17, 18, 19, 20]"
      ]
     },
     "execution_count": 37,
     "metadata": {},
     "output_type": "execute_result"
    }
   ],
   "source": [
    "e"
   ]
  },
  {
   "cell_type": "code",
   "execution_count": 38,
   "id": "399e7d86-8390-4f5c-ade0-13ebc484088c",
   "metadata": {},
   "outputs": [
    {
     "data": {
      "text/plain": [
       "[1, 3, 5, 7, 9, 11, 13, 15, 17, 19]"
      ]
     },
     "execution_count": 38,
     "metadata": {},
     "output_type": "execute_result"
    }
   ],
   "source": [
    "e[::2]"
   ]
  },
  {
   "cell_type": "markdown",
   "id": "8758f03f-446a-4b69-b7a3-4c671d2eb765",
   "metadata": {},
   "source": [
    "# 15. Find the sum of all elements in a list."
   ]
  },
  {
   "cell_type": "code",
   "execution_count": 39,
   "id": "74b41e4e-dcdc-4f25-b6a8-d36b1e8d7daa",
   "metadata": {},
   "outputs": [
    {
     "data": {
      "text/plain": [
       "[1, 2, 3, 4, 5, 6, 7, 8, 9, 10, 11, 12, 13, 14, 15, 16, 17, 18, 19, 20]"
      ]
     },
     "execution_count": 39,
     "metadata": {},
     "output_type": "execute_result"
    }
   ],
   "source": [
    "e"
   ]
  },
  {
   "cell_type": "code",
   "execution_count": 41,
   "id": "fda68305-4a64-47df-a7bd-f0e5fe99e4b5",
   "metadata": {},
   "outputs": [],
   "source": [
    "e1=sum(e)"
   ]
  },
  {
   "cell_type": "code",
   "execution_count": 42,
   "id": "4f561ecb-fe3b-4e0e-be41-3c0f26bf3286",
   "metadata": {},
   "outputs": [
    {
     "data": {
      "text/plain": [
       "210"
      ]
     },
     "execution_count": 42,
     "metadata": {},
     "output_type": "execute_result"
    }
   ],
   "source": [
    "e1"
   ]
  },
  {
   "cell_type": "markdown",
   "id": "8dca3e65-47ec-4e8e-ba5d-926dbb1d031a",
   "metadata": {},
   "source": [
    "# 16. Find the maximum value in a list."
   ]
  },
  {
   "cell_type": "code",
   "execution_count": 43,
   "id": "e82ee70c-fd9d-4fb8-8c5d-a422bdc58205",
   "metadata": {},
   "outputs": [
    {
     "data": {
      "text/plain": [
       "[1, 2, 3, 4, 5, 6, 7, 8, 9, 10, 11, 12, 13, 14, 15, 16, 17, 18, 19, 20]"
      ]
     },
     "execution_count": 43,
     "metadata": {},
     "output_type": "execute_result"
    }
   ],
   "source": [
    "e"
   ]
  },
  {
   "cell_type": "code",
   "execution_count": 44,
   "id": "b9d8de6e-bef8-48aa-8428-af273ab28aa2",
   "metadata": {},
   "outputs": [],
   "source": [
    "m=max(e)"
   ]
  },
  {
   "cell_type": "code",
   "execution_count": 45,
   "id": "e18efd22-eb7d-435c-93ef-0e1571ec729f",
   "metadata": {},
   "outputs": [
    {
     "data": {
      "text/plain": [
       "20"
      ]
     },
     "execution_count": 45,
     "metadata": {},
     "output_type": "execute_result"
    }
   ],
   "source": [
    "m"
   ]
  },
  {
   "cell_type": "markdown",
   "id": "09e5c3ae-39ed-4e73-82f0-45bd141e90d3",
   "metadata": {},
   "source": [
    "# 17. Find the minimum value in a list."
   ]
  },
  {
   "cell_type": "code",
   "execution_count": 46,
   "id": "e0110073-dcd2-4a45-b128-c981cdfde362",
   "metadata": {},
   "outputs": [
    {
     "data": {
      "text/plain": [
       "[1, 2, 3, 4, 5, 6, 7, 8, 9, 10, 11, 12, 13, 14, 15, 16, 17, 18, 19, 20]"
      ]
     },
     "execution_count": 46,
     "metadata": {},
     "output_type": "execute_result"
    }
   ],
   "source": [
    "e"
   ]
  },
  {
   "cell_type": "code",
   "execution_count": 47,
   "id": "f1826524-d71c-494e-9b56-388b5918211e",
   "metadata": {},
   "outputs": [],
   "source": [
    "mi=min(e)"
   ]
  },
  {
   "cell_type": "code",
   "execution_count": 48,
   "id": "832c2b9c-a2ba-4d54-92c2-c75cd5e2e987",
   "metadata": {},
   "outputs": [
    {
     "data": {
      "text/plain": [
       "1"
      ]
     },
     "execution_count": 48,
     "metadata": {},
     "output_type": "execute_result"
    }
   ],
   "source": [
    "mi"
   ]
  },
  {
   "cell_type": "markdown",
   "id": "a4168686-694e-44f4-82bd-cccaa5340cdf",
   "metadata": {},
   "source": [
    "# 18. Create a list of squares of numbers from 1 to 10."
   ]
  },
  {
   "cell_type": "code",
   "execution_count": 1,
   "id": "7a7299fa-0b83-40a9-adf3-51f1573c20bf",
   "metadata": {},
   "outputs": [],
   "source": [
    "l=[1,2,3,4,5,6,7,8,9,10]"
   ]
  },
  {
   "cell_type": "code",
   "execution_count": 10,
   "id": "62aee006-d343-41f8-911d-a05e1920a18b",
   "metadata": {},
   "outputs": [
    {
     "name": "stdout",
     "output_type": "stream",
     "text": [
      "[1, 4, 9, 16, 25, 36, 49, 64, 81, 100]\n"
     ]
    }
   ],
   "source": [
    "l1=[]\n",
    "for i in l:\n",
    "    b=i**2\n",
    "    l1.append(b)\n",
    "print(l1)"
   ]
  },
  {
   "cell_type": "markdown",
   "id": "c78cfbe4-178f-43e3-9b5d-ffb9947e3076",
   "metadata": {},
   "source": [
    "# 19. Create a list of random numbers."
   ]
  },
  {
   "cell_type": "code",
   "execution_count": 2,
   "id": "da3d1d51-59a0-4761-b773-3320bc01bdc0",
   "metadata": {},
   "outputs": [],
   "source": [
    "l=[2,6,3,6,2,7,7,9,3,6,8,3,2]"
   ]
  },
  {
   "cell_type": "markdown",
   "id": "aa48b42b-31df-4cc0-93e2-da65f6a061e8",
   "metadata": {},
   "source": [
    "# 20. Remove duplicates from a list."
   ]
  },
  {
   "cell_type": "code",
   "execution_count": 5,
   "id": "2d1ad262-20fe-4352-bbb7-2bdfed49ac5f",
   "metadata": {},
   "outputs": [
    {
     "data": {
      "text/plain": [
       "[2, 3, 6, 7, 8, 9]"
      ]
     },
     "execution_count": 5,
     "metadata": {},
     "output_type": "execute_result"
    }
   ],
   "source": [
    "l=[2,6,3,6,2,7,7,9,3,6,8,3,2]\n",
    "\n",
    "list(set(l))"
   ]
  },
  {
   "cell_type": "markdown",
   "id": "14b8e750-4320-481d-a3d0-2bc87e2c03e2",
   "metadata": {},
   "source": [
    "# 21. Find the common elements between two lists."
   ]
  },
  {
   "cell_type": "code",
   "execution_count": 12,
   "id": "a6ff98d1-9097-45e0-a1a1-c9ec6aecbf0f",
   "metadata": {},
   "outputs": [
    {
     "name": "stdout",
     "output_type": "stream",
     "text": [
      "[2, 3]\n"
     ]
    }
   ],
   "source": [
    "l1=[2,6,3,6,2,7,7,9,3,6,8,3,2]\n",
    "l2=[1,2,3,4,15,22]\n",
    "l3=[]\n",
    "for i in set(l1):\n",
    "    if i in set(l2):\n",
    "        l3.append(i)\n",
    "print(l3)"
   ]
  },
  {
   "cell_type": "markdown",
   "id": "912393f5-cb13-474c-bf1c-4aaa2cbdaca9",
   "metadata": {},
   "source": [
    "# 22. Find the difference between two lists."
   ]
  },
  {
   "cell_type": "code",
   "execution_count": 29,
   "id": "c361eed3-1730-4ec4-8383-fdf0b5d90fdf",
   "metadata": {},
   "outputs": [
    {
     "name": "stdout",
     "output_type": "stream",
     "text": [
      "[1, 4, 6, 7, 8, 9, 15, 22]\n"
     ]
    }
   ],
   "source": [
    "a=[2,6,3,6,2,7,7,9,3,6,8,3,2]\n",
    "b=[1,2,3,4,15,22]\n",
    "c=[]\n",
    "d=a+b\n",
    "for i in set(d):\n",
    "    if i not in set(a) or i not in set(b):\n",
    "        c.append(i)\n",
    "print(c)"
   ]
  },
  {
   "cell_type": "markdown",
   "id": "ef3d83f8-51c7-42a4-a285-0050edb97ea7",
   "metadata": {},
   "source": [
    "# 23. Merge two lists."
   ]
  },
  {
   "cell_type": "code",
   "execution_count": 30,
   "id": "cc550ee2-ee44-4195-897f-d122d68ccca9",
   "metadata": {},
   "outputs": [
    {
     "name": "stdout",
     "output_type": "stream",
     "text": [
      "[2, 6, 3, 6, 2, 7, 7, 9, 3, 6, 8, 3, 2, 1, 2, 3, 4, 15, 22]\n"
     ]
    }
   ],
   "source": [
    "a=[2,6,3,6,2,7,7,9,3,6,8,3,2]\n",
    "b=[1,2,3,4,15,22]\n",
    "\n",
    "print(a+b)"
   ]
  },
  {
   "cell_type": "markdown",
   "id": "c5e1a4cc-c258-49ac-a684-e21f105b5be0",
   "metadata": {},
   "source": [
    "# 24. Multiply all elements in a list by 2."
   ]
  },
  {
   "cell_type": "code",
   "execution_count": 37,
   "id": "46c581aa-4289-4031-905e-6b3000aab9f6",
   "metadata": {},
   "outputs": [
    {
     "data": {
      "text/plain": [
       "[2, 4, 6, 8, 30, 44]"
      ]
     },
     "execution_count": 37,
     "metadata": {},
     "output_type": "execute_result"
    }
   ],
   "source": [
    "l=[1,2,3,4,15,22]\n",
    "\n",
    "list(map(lambda a:a*2,l))"
   ]
  },
  {
   "cell_type": "markdown",
   "id": "f5ff25dc-aa9e-4a75-b472-ce5aa7c90ed3",
   "metadata": {},
   "source": [
    "# 25. Filter out all even numbers from a list."
   ]
  },
  {
   "cell_type": "code",
   "execution_count": 40,
   "id": "fca2f444-a572-4d82-a30b-3f8e88831ed6",
   "metadata": {},
   "outputs": [
    {
     "name": "stdout",
     "output_type": "stream",
     "text": [
      "[2, 6, 6, 2, 6, 8, 2]\n"
     ]
    }
   ],
   "source": [
    "l=[2,6,3,6,2,7,7,9,3,6,8,3,2]\n",
    "l1=[]\n",
    "for i in l:\n",
    "    if i%2==0:\n",
    "        l1.append(i)\n",
    "print(l1)"
   ]
  },
  {
   "cell_type": "code",
   "execution_count": 41,
   "id": "72340baa-4f03-43cf-9173-6ddebb962d1e",
   "metadata": {},
   "outputs": [
    {
     "data": {
      "text/plain": [
       "[2, 6, 6, 2, 6, 8, 2]"
      ]
     },
     "execution_count": 41,
     "metadata": {},
     "output_type": "execute_result"
    }
   ],
   "source": [
    "l=[2,6,3,6,2,7,7,9,3,6,8,3,2]\n",
    "\n",
    "[i for i in l if i%2==0]"
   ]
  },
  {
   "cell_type": "markdown",
   "id": "90c7b9d8-70f0-4fcc-9ba6-c5e131753bac",
   "metadata": {},
   "source": [
    "# 26. Convert a list of strings to a list of integers."
   ]
  },
  {
   "cell_type": "code",
   "execution_count": 11,
   "id": "bd27a6f3-b6d1-45a3-a36b-f3d2c274ba86",
   "metadata": {},
   "outputs": [
    {
     "name": "stdout",
     "output_type": "stream",
     "text": [
      "[1, 2, 3, 4]\n"
     ]
    }
   ],
   "source": [
    "l=['1','2','3','4']\n",
    "l1=[]\n",
    "\n",
    "for i in l:\n",
    "    l1.append(int(i))\n",
    "print(l1)"
   ]
  },
  {
   "cell_type": "markdown",
   "id": "526d20b0-3904-48e8-a2f5-49e2afe38e71",
   "metadata": {},
   "source": [
    "# 27.Convert a list of integers to a list of strings."
   ]
  },
  {
   "cell_type": "code",
   "execution_count": 12,
   "id": "e12b301a-aa19-40be-afb1-d7ed10d0ae65",
   "metadata": {},
   "outputs": [
    {
     "name": "stdout",
     "output_type": "stream",
     "text": [
      "['1', '2', '3', '4']\n"
     ]
    }
   ],
   "source": [
    "l=[1, 2, 3, 4]\n",
    "l1=[]\n",
    "for i in l:\n",
    "    l1.append(str(i))\n",
    "print(l1)"
   ]
  },
  {
   "cell_type": "markdown",
   "id": "2af4a968-6d66-4068-9b52-9c0a180b2975",
   "metadata": {},
   "source": [
    "# 28. Flatten a nested list."
   ]
  },
  {
   "cell_type": "code",
   "execution_count": 24,
   "id": "64b1784d-4724-4feb-9b72-f78950af7b58",
   "metadata": {},
   "outputs": [
    {
     "name": "stdout",
     "output_type": "stream",
     "text": [
      "[1, 2, 3, 4, 8, 9, 10, 5, 6, 7]\n"
     ]
    }
   ],
   "source": [
    "l=[[1,2,3,4],5,6,7,[8,9,10]]\n",
    "l1=[]\n",
    "l2=[]\n",
    "\n",
    "for i in l:\n",
    "    if type(i)==list:\n",
    "        for j in i:\n",
    "            l1.append(j)\n",
    "    else:\n",
    "        l2.append(i)\n",
    "print(l1+l2)"
   ]
  },
  {
   "cell_type": "markdown",
   "id": "ac9dc2ba-fd0c-4d7c-81fc-0afe6487187c",
   "metadata": {},
   "source": [
    "# 29. Create a list of the first 10 Fibonacci numbers."
   ]
  },
  {
   "cell_type": "code",
   "execution_count": 17,
   "id": "eae7cba8-9a4e-4dec-99fe-7b8699d4d543",
   "metadata": {},
   "outputs": [
    {
     "name": "stdout",
     "output_type": "stream",
     "text": [
      "[0, 1, 1, 2, 3, 5, 8, 13, 21, 34, 55]\n"
     ]
    }
   ],
   "source": [
    "a=[0,1]\n",
    "for i in range(2,11):\n",
    "    c=a[i-1]+a[i-2]\n",
    "    a.append(c)\n",
    "print(a)"
   ]
  },
  {
   "cell_type": "markdown",
   "id": "c75ed230-7c84-45ac-9082-d25c1a9f5db8",
   "metadata": {},
   "source": [
    "# 30. Check if a list is sorted."
   ]
  },
  {
   "cell_type": "code",
   "execution_count": 76,
   "id": "50f78d81-4e58-495c-86a0-ff0f87ad475f",
   "metadata": {},
   "outputs": [
    {
     "data": {
      "text/plain": [
       "False"
      ]
     },
     "execution_count": 76,
     "metadata": {},
     "output_type": "execute_result"
    }
   ],
   "source": [
    "l1=[2,3,4,6,5]\n",
    "\n",
    "\n",
    "def is_sorted(a):\n",
    "    a=len(l)\n",
    "    for i in range(1,a):\n",
    "        l[i]<l[i-1] \n",
    "        return False\n",
    "    return True\n",
    "\n",
    "is_sorted(l1)"
   ]
  },
  {
   "cell_type": "markdown",
   "id": "0c9b3443-0f57-49c9-88d5-9719b1d654c4",
   "metadata": {},
   "source": [
    "# 31. Rotate a list to the left by `n` positions."
   ]
  },
  {
   "cell_type": "code",
   "execution_count": 2,
   "id": "89821332-0519-41a3-ae0a-3d82a83717a2",
   "metadata": {},
   "outputs": [
    {
     "name": "stdout",
     "output_type": "stream",
     "text": [
      "[5, 2, 3, 4, 6]\n"
     ]
    }
   ],
   "source": [
    "l=[2,3,4,6,5]\n",
    "l1=[]\n",
    "for i in range(0,len(l)):\n",
    "    l1.append(l[i-1])\n",
    "print(l1)"
   ]
  },
  {
   "cell_type": "markdown",
   "id": "bb498b76-3500-4535-bd9c-103dc8a09480",
   "metadata": {},
   "source": [
    "# 32. Rotate a list to the right by `n` positions."
   ]
  },
  {
   "cell_type": "code",
   "execution_count": 7,
   "id": "2b558dc6-c435-4f3a-82a0-727ff44ddc8e",
   "metadata": {},
   "outputs": [
    {
     "name": "stdout",
     "output_type": "stream",
     "text": [
      "[3, 4, 6, 5, 2]\n"
     ]
    }
   ],
   "source": [
    "l=[2,3,4,6,5]\n",
    "l1=[]\n",
    "\n",
    "for i in range(0,len(l)):\n",
    "               l1.append(l[i-(len(l)-1)])\n",
    "print(l1)"
   ]
  },
  {
   "cell_type": "markdown",
   "id": "00be4b82-5e6a-4198-94c8-e5ed3db6feda",
   "metadata": {},
   "source": [
    "# 33. Create a list of prime numbers up to 50."
   ]
  },
  {
   "cell_type": "code",
   "execution_count": 27,
   "id": "3e875e4c-d7e6-4154-aaa2-33e37b4f8270",
   "metadata": {},
   "outputs": [
    {
     "name": "stdout",
     "output_type": "stream",
     "text": [
      "{2, 3, 5, 7, 9, 11, 13, 15, 17, 19, 21, 23, 25, 27, 29, 31, 33, 35, 37, 39, 41, 43, 45, 47, 49}\n"
     ]
    }
   ],
   "source": [
    "p=[]\n",
    "for i in range (1,51):\n",
    "    for j in range (2,i):\n",
    "        if i%j==0:\n",
    "            break\n",
    "        else:\n",
    "            p.append(i)\n",
    "print(set(p+[2]))"
   ]
  },
  {
   "cell_type": "markdown",
   "id": "11cc5353-4d48-4e3d-a93c-bf946419790c",
   "metadata": {},
   "source": [
    "# 34. Split a list into chunks of size `n`."
   ]
  },
  {
   "cell_type": "code",
   "execution_count": 32,
   "id": "c4d0cc36-d59d-4690-af37-72227bf56c08",
   "metadata": {},
   "outputs": [
    {
     "name": "stdout",
     "output_type": "stream",
     "text": [
      "[1, 2, 4]\n",
      "[5, 6, 8]\n",
      "[9, 0]\n"
     ]
    }
   ],
   "source": [
    "a=[1,2,4,5,6,8,9,0]\n",
    "n=3\n",
    "\n",
    "for i in range(0,len(a),n):\n",
    "    print(a[i:i+n])"
   ]
  },
  {
   "cell_type": "markdown",
   "id": "f537ce43-f407-4b0a-8735-c5ccb02acd46",
   "metadata": {},
   "source": [
    "# 35. Find the second largest number in a list."
   ]
  },
  {
   "cell_type": "code",
   "execution_count": 32,
   "id": "c7c5d295-bbbb-48dc-99f0-6868a0150557",
   "metadata": {},
   "outputs": [
    {
     "data": {
      "text/plain": [
       "8"
      ]
     },
     "execution_count": 32,
     "metadata": {},
     "output_type": "execute_result"
    }
   ],
   "source": [
    "a=[1,2,4,5,6,8,9,0]\n",
    "b=list(set(a))\n",
    "\n",
    "b.sort()\n",
    "b[-2]"
   ]
  },
  {
   "cell_type": "markdown",
   "id": "9f8c1506-38ba-4bfb-b44e-75fca1fb3b8e",
   "metadata": {},
   "source": [
    "# 36. Replace every element in a list with its square."
   ]
  },
  {
   "cell_type": "code",
   "execution_count": 37,
   "id": "e1052d0d-4cce-4565-84ce-aa8e97b24e6c",
   "metadata": {},
   "outputs": [
    {
     "data": {
      "text/plain": [
       "[1, 4, 16, 25, 36, 64, 81, 0]"
      ]
     },
     "execution_count": 37,
     "metadata": {},
     "output_type": "execute_result"
    }
   ],
   "source": [
    "l=[1,2,4,5,6,8,9,0]\n",
    "\n",
    "list(map(lambda a:a**2,l))"
   ]
  },
  {
   "cell_type": "markdown",
   "id": "9f528191-0e01-48c2-aa4b-95ae5182d6f4",
   "metadata": {},
   "source": [
    "# 37. Convert a list to a dictionary where list elements become keys and their indices become values."
   ]
  },
  {
   "cell_type": "code",
   "execution_count": 22,
   "id": "91ecf77c-9b2f-47a3-ab27-baa634945968",
   "metadata": {},
   "outputs": [
    {
     "name": "stdout",
     "output_type": "stream",
     "text": [
      "{1: 0, 2: 1, 4: 2, 5: 3, 6: 4, 8: 5, 9: 6, 0: 7}\n"
     ]
    }
   ],
   "source": [
    "l=[1,2,4,5,6,8,9,0]\n",
    "d={}\n",
    "for i in range(0,len(l)):\n",
    "    d[l[i]]=i\n",
    "print(d)"
   ]
  },
  {
   "cell_type": "markdown",
   "id": "7a860023-6ca0-4723-9c0b-87c8a0902f33",
   "metadata": {},
   "source": [
    "# 38. Shuffle the elements of a list randomly."
   ]
  },
  {
   "cell_type": "code",
   "execution_count": 25,
   "id": "4480f2cc-ec03-42fe-bbc7-2a9422dc79bc",
   "metadata": {},
   "outputs": [
    {
     "name": "stdout",
     "output_type": "stream",
     "text": [
      "[5, 8, 1, 9, 0, 6, 2, 4]\n"
     ]
    }
   ],
   "source": [
    "import random\n",
    "l=[1,2,4,5,6,8,9,0]\n",
    "\n",
    "random.shuffle(l)\n",
    "print(l)"
   ]
  },
  {
   "cell_type": "markdown",
   "id": "4b55f9cb-d36d-4a12-8b71-a5ddb2cba507",
   "metadata": {},
   "source": [
    "# 39. Create a list of the first 10 factorial numbers."
   ]
  },
  {
   "cell_type": "code",
   "execution_count": 5,
   "id": "476dcaf4-9013-4606-8c9c-365a694ba39c",
   "metadata": {},
   "outputs": [
    {
     "name": "stdout",
     "output_type": "stream",
     "text": [
      "[1, 2, 6, 24, 120, 720, 5040, 40320, 362880, 3628800]\n"
     ]
    }
   ],
   "source": [
    "f1=[]\n",
    "for i in range(1, 11):\n",
    "    f = 1\n",
    "    for j in range(1, i + 1):\n",
    "        f*= j\n",
    "    f1.append(f)\n",
    "\n",
    "print(f1)"
   ]
  },
  {
   "cell_type": "markdown",
   "id": "5063cbf1-fd17-461b-8a4a-b19c8d7a31ec",
   "metadata": {},
   "source": [
    "# 40. Check if two lists have at least one element in common."
   ]
  },
  {
   "cell_type": "code",
   "execution_count": 29,
   "id": "fab81f83-624a-4991-a57a-50db1afd06b9",
   "metadata": {},
   "outputs": [
    {
     "name": "stdout",
     "output_type": "stream",
     "text": [
      "[2, 4, 5, 6]\n"
     ]
    }
   ],
   "source": [
    "l1=[1,2,4,5,6,8,9,0]\n",
    "l2=[2,3,4,6,5]\n",
    "l3=[]\n",
    "\n",
    "for i in l1:\n",
    "    for j in l2:\n",
    "        if i==j:\n",
    "            l3.append(i)\n",
    "print(l3)"
   ]
  },
  {
   "cell_type": "markdown",
   "id": "899ed366-7f45-4509-934f-f595972a50ac",
   "metadata": {},
   "source": [
    "# 41. Remove all elements from a list."
   ]
  },
  {
   "cell_type": "code",
   "execution_count": 31,
   "id": "2a4fd623-1107-4171-ad4e-33491d60db4a",
   "metadata": {},
   "outputs": [
    {
     "name": "stdout",
     "output_type": "stream",
     "text": [
      "[]\n"
     ]
    }
   ],
   "source": [
    "l1=[1,2,4,5,6,8,9,0]\n",
    "\n",
    "l1.clear()\n",
    "\n",
    "print(l1)"
   ]
  },
  {
   "cell_type": "markdown",
   "id": "e1447a74-0dd7-4afc-a544-0a00be461e19",
   "metadata": {},
   "source": [
    "# 42. Replace negative numbers in a list with 0."
   ]
  },
  {
   "cell_type": "code",
   "execution_count": 31,
   "id": "81ca8141-8bb5-4b5e-a32c-cca67806d0c8",
   "metadata": {},
   "outputs": [
    {
     "name": "stdout",
     "output_type": "stream",
     "text": [
      "[1, 2, 0, 5, 0, 8, 9, 0]\n"
     ]
    }
   ],
   "source": [
    "l1=[1,2,-4,5,-6,8,9,0]\n",
    "l2=[]\n",
    "\n",
    "for i in l1:\n",
    "    if i>=0:\n",
    "        l2.append(i)\n",
    "    else:\n",
    "        l2.append(0)\n",
    "print(l2)"
   ]
  },
  {
   "cell_type": "markdown",
   "id": "fe34a019-7cd0-4067-9e6d-8d6769ad8a37",
   "metadata": {},
   "source": [
    "# 43. Convert a string into a list of words."
   ]
  },
  {
   "cell_type": "code",
   "execution_count": 43,
   "id": "81681268-a901-4ec0-b69e-d47b45bfc88d",
   "metadata": {},
   "outputs": [
    {
     "data": {
      "text/plain": [
       "['we', 'are', 'learning', 'python', 'in', 'pwskills']"
      ]
     },
     "execution_count": 43,
     "metadata": {},
     "output_type": "execute_result"
    }
   ],
   "source": [
    "a='we are learning python in pwskills'\n",
    "\n",
    "a.rsplit(' ')"
   ]
  },
  {
   "cell_type": "markdown",
   "id": "a7224fdf-073d-4007-b0ad-8fd2cc8f59f2",
   "metadata": {},
   "source": [
    "# 44. Convert a list of words into a string."
   ]
  },
  {
   "cell_type": "code",
   "execution_count": 40,
   "id": "d7616c9d-7cbe-46ab-bdd3-a5ae3c198b1e",
   "metadata": {},
   "outputs": [
    {
     "data": {
      "text/plain": [
       "'we are learning python in pwskills'"
      ]
     },
     "execution_count": 40,
     "metadata": {},
     "output_type": "execute_result"
    }
   ],
   "source": [
    "a=['we', 'are', 'learning', 'python', 'in', 'pwskills']\n",
    "\n",
    "' '.join(a)"
   ]
  },
  {
   "cell_type": "markdown",
   "id": "ade8ca10-5035-4469-bb1c-02abe3b75c7b",
   "metadata": {},
   "source": [
    "# 45. Create a list of the first `n` powers of 2."
   ]
  },
  {
   "cell_type": "code",
   "execution_count": 6,
   "id": "6c6d96f9-48af-4213-98e4-8776f5f562db",
   "metadata": {},
   "outputs": [
    {
     "name": "stdout",
     "output_type": "stream",
     "text": [
      "[2, 4, 8, 16, 32, 64, 128, 256, 512]\n"
     ]
    }
   ],
   "source": [
    "n=10\n",
    "a=[]\n",
    "for i in range(1,n):\n",
    "    b=2**i\n",
    "    a.append(b)\n",
    "print(a)"
   ]
  },
  {
   "cell_type": "markdown",
   "id": "3656d836-7dc7-4988-9b6f-2815792def24",
   "metadata": {},
   "source": [
    "# 46. Find the longest string in a list of strings."
   ]
  },
  {
   "cell_type": "code",
   "execution_count": 17,
   "id": "e283a7ab-e8ec-4c5d-ac97-3bb878d27bcf",
   "metadata": {},
   "outputs": [
    {
     "name": "stdout",
     "output_type": "stream",
     "text": [
      "learning\n"
     ]
    }
   ],
   "source": [
    "l=['we', 'are', 'learning', 'python', 'in', 'pwskills']\n",
    "\n",
    "longest_str=max(l,key=len)\n",
    "print(longest_str)"
   ]
  },
  {
   "cell_type": "markdown",
   "id": "e5a0dd82-2abd-4e34-86bf-96c31b2fe377",
   "metadata": {},
   "source": [
    "# 47. Find the shortest string in a list of strings."
   ]
  },
  {
   "cell_type": "code",
   "execution_count": 18,
   "id": "c7d8627a-fd79-46a1-a8bd-6079b08b5d8e",
   "metadata": {},
   "outputs": [
    {
     "name": "stdout",
     "output_type": "stream",
     "text": [
      "we\n"
     ]
    }
   ],
   "source": [
    "l=['we', 'learn', 'python', 'in', 'pwskills']\n",
    "\n",
    "shortest_str=min(l,key=len)\n",
    "print(shortest_str)"
   ]
  },
  {
   "cell_type": "markdown",
   "id": "f0233b9c-d9d8-4e4b-9afa-bb89d5d22687",
   "metadata": {},
   "source": [
    "# 48. Create a list of the first `n` triangular numbers."
   ]
  },
  {
   "cell_type": "code",
   "execution_count": 7,
   "id": "709802d2-1f16-4ec6-a7d4-2d60a2680080",
   "metadata": {},
   "outputs": [
    {
     "name": "stdout",
     "output_type": "stream",
     "text": [
      "[3, 9, 27, 81, 243, 729, 2187, 6561, 19683]\n"
     ]
    }
   ],
   "source": [
    "n=10\n",
    "a=[]\n",
    "for i in range(1,n):\n",
    "    b=3**i\n",
    "    a.append(b)\n",
    "print(a)"
   ]
  },
  {
   "cell_type": "markdown",
   "id": "0b5311ef-d0bc-48d1-abcf-7df77592f9c3",
   "metadata": {},
   "source": [
    "# 49. Check if a list contains another list as a subsequence."
   ]
  },
  {
   "cell_type": "code",
   "execution_count": 40,
   "id": "c6cd027a-4b02-4a4c-98a6-dcde7d015a33",
   "metadata": {},
   "outputs": [
    {
     "name": "stdout",
     "output_type": "stream",
     "text": [
      "True\n"
     ]
    }
   ],
   "source": [
    "l1=[1,2,4,5,6,8,9,0]\n",
    "l2=[6,8]\n",
    "b=[]\n",
    "\n",
    "for i in l2:\n",
    "    for j in l1:\n",
    "        if i==j:\n",
    "            b.append(i)\n",
    "print(b==l2)"
   ]
  },
  {
   "cell_type": "markdown",
   "id": "6bb19a37-2741-414a-a236-471887bc5797",
   "metadata": {},
   "source": [
    "# 50. Swap two elements in a list by their indices."
   ]
  },
  {
   "cell_type": "code",
   "execution_count": 2,
   "id": "6267f4ad-92a4-4ffa-9323-46b820cf7921",
   "metadata": {},
   "outputs": [
    {
     "data": {
      "text/plain": [
       "[0, 2, 4, 5, 6, 8, 9, 1]"
      ]
     },
     "execution_count": 2,
     "metadata": {},
     "output_type": "execute_result"
    }
   ],
   "source": [
    "l1=[1,2,4,5,6,8,9,0]\n",
    "\n",
    "\n",
    "def swap_ele(l,a,b):\n",
    "    l[a],l[b]=l[b],l[a]\n",
    "    return l\n",
    "\n",
    "swap_ele(l1,0,7)"
   ]
  }
 ],
 "metadata": {
  "kernelspec": {
   "display_name": "Python 3 (ipykernel)",
   "language": "python",
   "name": "python3"
  },
  "language_info": {
   "codemirror_mode": {
    "name": "ipython",
    "version": 3
   },
   "file_extension": ".py",
   "mimetype": "text/x-python",
   "name": "python",
   "nbconvert_exporter": "python",
   "pygments_lexer": "ipython3",
   "version": "3.10.8"
  }
 },
 "nbformat": 4,
 "nbformat_minor": 5
}
