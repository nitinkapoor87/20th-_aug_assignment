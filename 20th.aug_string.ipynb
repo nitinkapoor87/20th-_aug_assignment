{
 "cells": [
  {
   "cell_type": "markdown",
   "id": "2bdc0b35-c029-426a-bd02-6463464a71f1",
   "metadata": {},
   "source": [
    "# 1. Write a program to reverse a string."
   ]
  },
  {
   "cell_type": "code",
   "execution_count": 1,
   "id": "31db0625-06b2-442e-8a17-cd4b8041f2d1",
   "metadata": {},
   "outputs": [],
   "source": [
    "s='pwskills'"
   ]
  },
  {
   "cell_type": "code",
   "execution_count": 2,
   "id": "0fc2f243-119e-483e-a807-0eb42e3425d8",
   "metadata": {},
   "outputs": [],
   "source": [
    "s1=s[::-1]"
   ]
  },
  {
   "cell_type": "code",
   "execution_count": 3,
   "id": "5da7c109-74fb-4656-b8f1-c33ed59baf05",
   "metadata": {},
   "outputs": [
    {
     "data": {
      "text/plain": [
       "'sllikswp'"
      ]
     },
     "execution_count": 3,
     "metadata": {},
     "output_type": "execute_result"
    }
   ],
   "source": [
    "s1"
   ]
  },
  {
   "cell_type": "markdown",
   "id": "bf426067-81e7-4248-8c8b-8ba8f77714d4",
   "metadata": {
    "tags": []
   },
   "source": [
    "# 2.Check if a string is a palindrome."
   ]
  },
  {
   "cell_type": "code",
   "execution_count": 4,
   "id": "a90b70c9-f146-471a-83b1-03127644563b",
   "metadata": {},
   "outputs": [
    {
     "data": {
      "text/plain": [
       "'pwskills'"
      ]
     },
     "execution_count": 4,
     "metadata": {},
     "output_type": "execute_result"
    }
   ],
   "source": [
    "s"
   ]
  },
  {
   "cell_type": "code",
   "execution_count": 5,
   "id": "0ae5da94-f230-4cf5-84b1-abecbd3c4d38",
   "metadata": {},
   "outputs": [
    {
     "data": {
      "text/plain": [
       "'sllikswp'"
      ]
     },
     "execution_count": 5,
     "metadata": {},
     "output_type": "execute_result"
    }
   ],
   "source": [
    "s1"
   ]
  },
  {
   "cell_type": "code",
   "execution_count": 6,
   "id": "63bcbeab-21e4-4a26-aeee-b52dbb71669d",
   "metadata": {},
   "outputs": [],
   "source": [
    "p={s,s1}"
   ]
  },
  {
   "cell_type": "code",
   "execution_count": 7,
   "id": "c59e9faf-9f1f-4a3a-ae47-988fbcb21884",
   "metadata": {
    "tags": []
   },
   "outputs": [
    {
     "data": {
      "text/plain": [
       "{'pwskills', 'sllikswp'}"
      ]
     },
     "execution_count": 7,
     "metadata": {},
     "output_type": "execute_result"
    }
   ],
   "source": [
    "p"
   ]
  },
  {
   "cell_type": "code",
   "execution_count": 8,
   "id": "a099b480-fb59-45b1-90df-325b84408497",
   "metadata": {},
   "outputs": [],
   "source": [
    "p1=bool(len(p)-2)"
   ]
  },
  {
   "cell_type": "code",
   "execution_count": 9,
   "id": "526bcd8c-2971-4f24-8e9f-e05d53adaef9",
   "metadata": {},
   "outputs": [
    {
     "data": {
      "text/plain": [
       "False"
      ]
     },
     "execution_count": 9,
     "metadata": {},
     "output_type": "execute_result"
    }
   ],
   "source": [
    "p1"
   ]
  },
  {
   "cell_type": "markdown",
   "id": "ee09569b-05c9-48b1-95d1-eb55514ae07a",
   "metadata": {},
   "source": [
    "# 3. Convert a string to uppercase.\n",
    "\n"
   ]
  },
  {
   "cell_type": "code",
   "execution_count": 10,
   "id": "a148db8e-4c29-4bbf-9925-9b2f8de9dc1e",
   "metadata": {},
   "outputs": [
    {
     "data": {
      "text/plain": [
       "'pwskills'"
      ]
     },
     "execution_count": 10,
     "metadata": {},
     "output_type": "execute_result"
    }
   ],
   "source": [
    "s"
   ]
  },
  {
   "cell_type": "code",
   "execution_count": 11,
   "id": "92a27226-ff97-4065-9017-cb382ba44a49",
   "metadata": {},
   "outputs": [],
   "source": [
    "u=s.upper()"
   ]
  },
  {
   "cell_type": "code",
   "execution_count": 12,
   "id": "17126fad-309b-43bf-bce2-e4491bcec5d7",
   "metadata": {},
   "outputs": [
    {
     "data": {
      "text/plain": [
       "'PWSKILLS'"
      ]
     },
     "execution_count": 12,
     "metadata": {},
     "output_type": "execute_result"
    }
   ],
   "source": [
    "u"
   ]
  },
  {
   "cell_type": "markdown",
   "id": "694d3080-8619-469c-a2a6-b030c5e4cbd8",
   "metadata": {},
   "source": [
    "# 4. Convert a string to lowercase."
   ]
  },
  {
   "cell_type": "code",
   "execution_count": 13,
   "id": "977fc5ed-e750-4555-881a-ade85e29c973",
   "metadata": {},
   "outputs": [
    {
     "data": {
      "text/plain": [
       "'pwskills'"
      ]
     },
     "execution_count": 13,
     "metadata": {},
     "output_type": "execute_result"
    }
   ],
   "source": [
    "s"
   ]
  },
  {
   "cell_type": "code",
   "execution_count": 14,
   "id": "3ee3ea16-136c-44c4-8152-5cd44846739b",
   "metadata": {},
   "outputs": [],
   "source": [
    "l=u.lower()"
   ]
  },
  {
   "cell_type": "code",
   "execution_count": 15,
   "id": "d473333b-abde-404c-ba26-a2d7a776bb24",
   "metadata": {},
   "outputs": [
    {
     "data": {
      "text/plain": [
       "'pwskills'"
      ]
     },
     "execution_count": 15,
     "metadata": {},
     "output_type": "execute_result"
    }
   ],
   "source": [
    "l"
   ]
  },
  {
   "cell_type": "markdown",
   "id": "19fe85a0-30d9-471d-85ba-f6e77f93d128",
   "metadata": {},
   "source": [
    "# 5. Count the number of vowels in a string."
   ]
  },
  {
   "cell_type": "code",
   "execution_count": 16,
   "id": "697f7f8e-08c5-4e1a-8df9-7749d7f54760",
   "metadata": {},
   "outputs": [
    {
     "data": {
      "text/plain": [
       "'pwskills'"
      ]
     },
     "execution_count": 16,
     "metadata": {},
     "output_type": "execute_result"
    }
   ],
   "source": [
    "s"
   ]
  },
  {
   "cell_type": "code",
   "execution_count": 17,
   "id": "8a2056e4-3434-4b41-9478-261a48ddd3fd",
   "metadata": {},
   "outputs": [],
   "source": [
    "v=s.count('a')+s.count('e')+s.count('i')+s.count('o')+s.count('u')"
   ]
  },
  {
   "cell_type": "code",
   "execution_count": 18,
   "id": "6d0af0cf-368f-4af1-bd72-fff1b7f22abb",
   "metadata": {},
   "outputs": [
    {
     "data": {
      "text/plain": [
       "1"
      ]
     },
     "execution_count": 18,
     "metadata": {},
     "output_type": "execute_result"
    }
   ],
   "source": [
    "v"
   ]
  },
  {
   "cell_type": "markdown",
   "id": "6e83d91c-80de-4c9e-ad5e-eb1df8a85b2c",
   "metadata": {},
   "source": [
    "# 6. Count the number of consonants in a string"
   ]
  },
  {
   "cell_type": "code",
   "execution_count": 19,
   "id": "31b2939b-cc31-4f3d-b589-928c5e572bf7",
   "metadata": {},
   "outputs": [
    {
     "data": {
      "text/plain": [
       "'pwskills'"
      ]
     },
     "execution_count": 19,
     "metadata": {},
     "output_type": "execute_result"
    }
   ],
   "source": [
    "s"
   ]
  },
  {
   "cell_type": "code",
   "execution_count": 20,
   "id": "96f41037-8cd5-4af7-9d16-c23514a3b79f",
   "metadata": {},
   "outputs": [],
   "source": [
    "v=s.count('a')+s.count('e')+s.count('i')+s.count('o')+s.count('u')"
   ]
  },
  {
   "cell_type": "code",
   "execution_count": 21,
   "id": "7bfbf8a1-af71-4375-8664-a91d5d9b8bbc",
   "metadata": {},
   "outputs": [],
   "source": [
    "c=26-v"
   ]
  },
  {
   "cell_type": "code",
   "execution_count": 22,
   "id": "57451974-2968-41a2-8ea7-4d1689ad56b2",
   "metadata": {},
   "outputs": [
    {
     "data": {
      "text/plain": [
       "25"
      ]
     },
     "execution_count": 22,
     "metadata": {},
     "output_type": "execute_result"
    }
   ],
   "source": [
    "c"
   ]
  },
  {
   "cell_type": "markdown",
   "id": "2e238d2c-ddc7-43b3-89af-6a36cbb2e33c",
   "metadata": {},
   "source": [
    "# 7. Remove all whitespaces from a string."
   ]
  },
  {
   "cell_type": "code",
   "execution_count": 71,
   "id": "997d40c9-b725-4297-88f1-21e35ca0178e",
   "metadata": {},
   "outputs": [],
   "source": [
    "s2='we are learning python with pwskills'"
   ]
  },
  {
   "cell_type": "code",
   "execution_count": 24,
   "id": "5f0322e4-8327-4f29-81d7-e5fb539f9af4",
   "metadata": {},
   "outputs": [],
   "source": [
    "rw=s2.replace(' ','')"
   ]
  },
  {
   "cell_type": "code",
   "execution_count": 25,
   "id": "55ecb45c-d7ac-4227-a7eb-652834df1b5e",
   "metadata": {},
   "outputs": [
    {
     "data": {
      "text/plain": [
       "'wearelearningpythonwithpwskills'"
      ]
     },
     "execution_count": 25,
     "metadata": {},
     "output_type": "execute_result"
    }
   ],
   "source": [
    "rw"
   ]
  },
  {
   "cell_type": "markdown",
   "id": "8a8e1e3a-f277-4ec3-a8a0-bb530f0e5ddc",
   "metadata": {},
   "source": [
    "# 8. Find the length of a string without using the `len()` function."
   ]
  },
  {
   "cell_type": "code",
   "execution_count": 26,
   "id": "ff256112-3866-4f70-a31b-d7490e05a6e7",
   "metadata": {},
   "outputs": [
    {
     "data": {
      "text/plain": [
       "'we are learning python with pwskills'"
      ]
     },
     "execution_count": 26,
     "metadata": {},
     "output_type": "execute_result"
    }
   ],
   "source": [
    "s2"
   ]
  },
  {
   "cell_type": "code",
   "execution_count": 27,
   "id": "af4112ce-60ba-4490-9450-cca0b46852d3",
   "metadata": {},
   "outputs": [],
   "source": [
    "'''1 is subtracted for counting from 1st place'''\n",
    "length=s2.count('')-1"
   ]
  },
  {
   "cell_type": "code",
   "execution_count": 28,
   "id": "7b87373e-a899-42e0-95be-322be120fba3",
   "metadata": {},
   "outputs": [
    {
     "data": {
      "text/plain": [
       "36"
      ]
     },
     "execution_count": 28,
     "metadata": {},
     "output_type": "execute_result"
    }
   ],
   "source": [
    "length"
   ]
  },
  {
   "cell_type": "markdown",
   "id": "1810f32d-6bca-422a-b447-aaad34e54ed4",
   "metadata": {},
   "source": [
    "# 9. Check if a string contains a specific word."
   ]
  },
  {
   "cell_type": "code",
   "execution_count": 29,
   "id": "a821458b-6ffb-46a1-9a92-b78dcd4ff891",
   "metadata": {},
   "outputs": [
    {
     "data": {
      "text/plain": [
       "'pwskills'"
      ]
     },
     "execution_count": 29,
     "metadata": {},
     "output_type": "execute_result"
    }
   ],
   "source": [
    "s"
   ]
  },
  {
   "cell_type": "code",
   "execution_count": 30,
   "id": "7ef0c712-ae65-4627-9f26-c768b857bc73",
   "metadata": {},
   "outputs": [],
   "source": [
    "sw='e'"
   ]
  },
  {
   "cell_type": "code",
   "execution_count": 31,
   "id": "5ed52246-6ed8-4f20-847c-b3825d9caec7",
   "metadata": {},
   "outputs": [],
   "source": [
    "word=bool(s.count(sw))"
   ]
  },
  {
   "cell_type": "code",
   "execution_count": 32,
   "id": "99894e53-85f3-4185-81fa-0e38d055ad7a",
   "metadata": {},
   "outputs": [
    {
     "data": {
      "text/plain": [
       "False"
      ]
     },
     "execution_count": 32,
     "metadata": {},
     "output_type": "execute_result"
    }
   ],
   "source": [
    "word"
   ]
  },
  {
   "cell_type": "markdown",
   "id": "9b07c56e-764d-4d21-8cb4-6ab2af4dd4b6",
   "metadata": {},
   "source": [
    "# 10. Replace a word in a string with another word."
   ]
  },
  {
   "cell_type": "code",
   "execution_count": 33,
   "id": "21405ed9-6665-481f-aea9-8590c0f31af5",
   "metadata": {},
   "outputs": [
    {
     "data": {
      "text/plain": [
       "'we are learning python with pwskills'"
      ]
     },
     "execution_count": 33,
     "metadata": {},
     "output_type": "execute_result"
    }
   ],
   "source": [
    "s2"
   ]
  },
  {
   "cell_type": "raw",
   "id": "54f86ebf-1f99-4f5f-b2ce-c2cf8df7967b",
   "metadata": {},
   "source": [
    "Answer : string are inmutable"
   ]
  },
  {
   "cell_type": "markdown",
   "id": "986fd52f-16a5-4fab-8db4-b3dd5c846992",
   "metadata": {},
   "source": [
    "# 11. Count the occurrences of a word in a string."
   ]
  },
  {
   "cell_type": "code",
   "execution_count": 34,
   "id": "7cf3d610-101d-4264-bfa2-eb74e04f8158",
   "metadata": {},
   "outputs": [
    {
     "data": {
      "text/plain": [
       "'we are learning python with pwskills'"
      ]
     },
     "execution_count": 34,
     "metadata": {},
     "output_type": "execute_result"
    }
   ],
   "source": [
    "s2"
   ]
  },
  {
   "cell_type": "code",
   "execution_count": 35,
   "id": "bb6d0747-13a0-4bc2-b11a-a22ad88b5359",
   "metadata": {},
   "outputs": [],
   "source": [
    "c='e'"
   ]
  },
  {
   "cell_type": "code",
   "execution_count": 36,
   "id": "c99778f1-f7e9-47cb-8da5-d39b0954364c",
   "metadata": {},
   "outputs": [],
   "source": [
    "c1=s2.count(c)"
   ]
  },
  {
   "cell_type": "code",
   "execution_count": 37,
   "id": "2553227c-bcf6-4330-9368-559b3f8623c2",
   "metadata": {},
   "outputs": [
    {
     "data": {
      "text/plain": [
       "3"
      ]
     },
     "execution_count": 37,
     "metadata": {},
     "output_type": "execute_result"
    }
   ],
   "source": [
    "c1"
   ]
  },
  {
   "cell_type": "markdown",
   "id": "4b497a8a-2768-482a-ad63-d12e3ba83969",
   "metadata": {},
   "source": [
    "# 12. Find the first occurrence of a word in a string.\n"
   ]
  },
  {
   "cell_type": "code",
   "execution_count": 38,
   "id": "616549ae-baef-464c-8a49-34ce7ed13605",
   "metadata": {},
   "outputs": [
    {
     "data": {
      "text/plain": [
       "'we are learning python with pwskills'"
      ]
     },
     "execution_count": 38,
     "metadata": {},
     "output_type": "execute_result"
    }
   ],
   "source": [
    "s2"
   ]
  },
  {
   "cell_type": "code",
   "execution_count": 39,
   "id": "4cb62e32-f9fa-458d-a690-3ad5d5069f95",
   "metadata": {},
   "outputs": [],
   "source": [
    "i='s'"
   ]
  },
  {
   "cell_type": "code",
   "execution_count": 40,
   "id": "465039a9-95be-4cdc-b970-20a63fdf52d3",
   "metadata": {},
   "outputs": [],
   "source": [
    "'''1 is added for counting from 1st place'''\n",
    "fo=s2.find(i)+1"
   ]
  },
  {
   "cell_type": "code",
   "execution_count": 41,
   "id": "bcecfb23-93ee-4de1-a232-d30070ea7fc9",
   "metadata": {},
   "outputs": [
    {
     "data": {
      "text/plain": [
       "31"
      ]
     },
     "execution_count": 41,
     "metadata": {},
     "output_type": "execute_result"
    }
   ],
   "source": [
    "fo"
   ]
  },
  {
   "cell_type": "markdown",
   "id": "8a9cfdc5-642b-4fbb-aa73-c6add4393e48",
   "metadata": {},
   "source": [
    "# 13. Find the last occurrence of a word in a string.\n"
   ]
  },
  {
   "cell_type": "code",
   "execution_count": 42,
   "id": "a83d6245-2fb1-4d4a-9c3d-f977d6be1c70",
   "metadata": {},
   "outputs": [
    {
     "data": {
      "text/plain": [
       "'we are learning python with pwskills'"
      ]
     },
     "execution_count": 42,
     "metadata": {},
     "output_type": "execute_result"
    }
   ],
   "source": [
    "s2"
   ]
  },
  {
   "cell_type": "code",
   "execution_count": 43,
   "id": "e51ae692-3c5e-408c-8416-668d8cbbbdae",
   "metadata": {},
   "outputs": [],
   "source": [
    "'''1 is added for counting from 1st place'''\n",
    "lo=s2.rindex(i)+1"
   ]
  },
  {
   "cell_type": "code",
   "execution_count": 44,
   "id": "befa1f32-c27d-4152-9c61-588c3143ecd4",
   "metadata": {},
   "outputs": [],
   "source": [
    "i='e'"
   ]
  },
  {
   "cell_type": "code",
   "execution_count": 45,
   "id": "d6de7ea4-efbb-4f96-b9fe-7486c6400fcd",
   "metadata": {},
   "outputs": [
    {
     "data": {
      "text/plain": [
       "36"
      ]
     },
     "execution_count": 45,
     "metadata": {},
     "output_type": "execute_result"
    }
   ],
   "source": [
    "lo"
   ]
  },
  {
   "cell_type": "markdown",
   "id": "6de2855e-7fcc-47e1-b14f-4be908495675",
   "metadata": {},
   "source": [
    "# 14. Split a string into a list of words."
   ]
  },
  {
   "cell_type": "code",
   "execution_count": 46,
   "id": "f5aaf2c7-efc7-4d7e-bb0f-e7da209697fc",
   "metadata": {},
   "outputs": [
    {
     "data": {
      "text/plain": [
       "'we are learning python with pwskills'"
      ]
     },
     "execution_count": 46,
     "metadata": {},
     "output_type": "execute_result"
    }
   ],
   "source": [
    "s2"
   ]
  },
  {
   "cell_type": "code",
   "execution_count": 47,
   "id": "de65c5bd-c422-4aed-8878-6cd3744a2972",
   "metadata": {},
   "outputs": [],
   "source": [
    "split=s2.split()"
   ]
  },
  {
   "cell_type": "code",
   "execution_count": 48,
   "id": "77c9ec9a-3735-4b6d-9fa3-f41cd381ef6d",
   "metadata": {},
   "outputs": [
    {
     "data": {
      "text/plain": [
       "['we', 'are', 'learning', 'python', 'with', 'pwskills']"
      ]
     },
     "execution_count": 48,
     "metadata": {},
     "output_type": "execute_result"
    }
   ],
   "source": [
    "split"
   ]
  },
  {
   "cell_type": "markdown",
   "id": "8d37f4d0-b709-41f1-908a-089f62b377b6",
   "metadata": {},
   "source": [
    "# 15. Join a list of words into a string.\n"
   ]
  },
  {
   "cell_type": "code",
   "execution_count": 49,
   "id": "06df719e-1ab4-49fd-a07e-51ff50a90467",
   "metadata": {},
   "outputs": [
    {
     "data": {
      "text/plain": [
       "['we', 'are', 'learning', 'python', 'with', 'pwskills']"
      ]
     },
     "execution_count": 49,
     "metadata": {},
     "output_type": "execute_result"
    }
   ],
   "source": [
    "split"
   ]
  },
  {
   "cell_type": "code",
   "execution_count": 50,
   "id": "3003251d-b3f1-49c2-b089-3f7a0c6a752a",
   "metadata": {},
   "outputs": [],
   "source": [
    "jw=' '.join(split)"
   ]
  },
  {
   "cell_type": "code",
   "execution_count": 51,
   "id": "caa9bbcf-df0b-449f-9c4a-29e6a68598d8",
   "metadata": {},
   "outputs": [
    {
     "data": {
      "text/plain": [
       "'we are learning python with pwskills'"
      ]
     },
     "execution_count": 51,
     "metadata": {},
     "output_type": "execute_result"
    }
   ],
   "source": [
    "jw"
   ]
  },
  {
   "cell_type": "markdown",
   "id": "ed46fc3f-1f0f-4ec7-87af-ea610c36974f",
   "metadata": {},
   "source": [
    "# 16. Convert a string where words are separated by spaces to one where words are separated by underscores."
   ]
  },
  {
   "cell_type": "code",
   "execution_count": 52,
   "id": "e15152f3-5a26-4337-b573-863fd333fb8a",
   "metadata": {},
   "outputs": [
    {
     "data": {
      "text/plain": [
       "'we are learning python with pwskills'"
      ]
     },
     "execution_count": 52,
     "metadata": {},
     "output_type": "execute_result"
    }
   ],
   "source": [
    "s2"
   ]
  },
  {
   "cell_type": "code",
   "execution_count": 53,
   "id": "7742a2ce-471c-479e-9741-32eca29f97e4",
   "metadata": {},
   "outputs": [],
   "source": [
    "r=s2.replace(' ', '_')"
   ]
  },
  {
   "cell_type": "code",
   "execution_count": 54,
   "id": "3d863457-fd45-4eb6-9a6f-3a80f3512050",
   "metadata": {},
   "outputs": [
    {
     "data": {
      "text/plain": [
       "'we_are_learning_python_with_pwskills'"
      ]
     },
     "execution_count": 54,
     "metadata": {},
     "output_type": "execute_result"
    }
   ],
   "source": [
    "r"
   ]
  },
  {
   "cell_type": "markdown",
   "id": "ce75f633-0afb-490b-bdc2-1dbe15b5d49e",
   "metadata": {},
   "source": [
    "## 17. Check if a string starts with a specific word or phrase."
   ]
  },
  {
   "cell_type": "code",
   "execution_count": 55,
   "id": "1ef02325-ee3d-45fb-8e08-8b72a12f8e12",
   "metadata": {},
   "outputs": [
    {
     "data": {
      "text/plain": [
       "'we are learning python with pwskills'"
      ]
     },
     "execution_count": 55,
     "metadata": {},
     "output_type": "execute_result"
    }
   ],
   "source": [
    "s2"
   ]
  },
  {
   "cell_type": "code",
   "execution_count": 56,
   "id": "948c1b0b-e936-4288-849a-78fb7fc4deee",
   "metadata": {},
   "outputs": [],
   "source": [
    "sw='we'"
   ]
  },
  {
   "cell_type": "code",
   "execution_count": 57,
   "id": "4531d73e-9910-4c27-906d-56b712317add",
   "metadata": {},
   "outputs": [],
   "source": [
    "check=s2.startswith(sw)"
   ]
  },
  {
   "cell_type": "code",
   "execution_count": 58,
   "id": "c21046ce-e2c1-4c78-aa34-e69d6b7868ec",
   "metadata": {},
   "outputs": [
    {
     "data": {
      "text/plain": [
       "True"
      ]
     },
     "execution_count": 58,
     "metadata": {},
     "output_type": "execute_result"
    }
   ],
   "source": [
    "check"
   ]
  },
  {
   "cell_type": "markdown",
   "id": "6261b28c-bd4f-486e-ba8b-775018034067",
   "metadata": {},
   "source": [
    "# 18. Check if a string ends with a specific word or phrase."
   ]
  },
  {
   "cell_type": "code",
   "execution_count": 59,
   "id": "c25bf5be-5416-4db6-95d1-08a9d4a44132",
   "metadata": {},
   "outputs": [
    {
     "data": {
      "text/plain": [
       "'we are learning python with pwskills'"
      ]
     },
     "execution_count": 59,
     "metadata": {},
     "output_type": "execute_result"
    }
   ],
   "source": [
    "s2"
   ]
  },
  {
   "cell_type": "code",
   "execution_count": 60,
   "id": "d66eb3a9-6203-47c1-9f92-0d72cffb419e",
   "metadata": {},
   "outputs": [],
   "source": [
    "sw='s'"
   ]
  },
  {
   "cell_type": "code",
   "execution_count": 61,
   "id": "2696c01b-4ded-4958-8088-d3e865a7a8a3",
   "metadata": {},
   "outputs": [],
   "source": [
    "check=s2.endswith(sw)"
   ]
  },
  {
   "cell_type": "code",
   "execution_count": 62,
   "id": "bab1f515-ff7a-406b-854f-e42560817f55",
   "metadata": {},
   "outputs": [
    {
     "data": {
      "text/plain": [
       "True"
      ]
     },
     "execution_count": 62,
     "metadata": {},
     "output_type": "execute_result"
    }
   ],
   "source": [
    "check"
   ]
  },
  {
   "cell_type": "markdown",
   "id": "057f73f5-e46f-4994-9a4b-2dc2ba6ec643",
   "metadata": {},
   "source": [
    "# 19. Convert a string to title case (e.g., \"hello world\" to \"Hello World\")."
   ]
  },
  {
   "cell_type": "code",
   "execution_count": 63,
   "id": "7697f5b6-0a82-406e-9842-a953aa213096",
   "metadata": {},
   "outputs": [
    {
     "data": {
      "text/plain": [
       "'we are learning python with pwskills'"
      ]
     },
     "execution_count": 63,
     "metadata": {},
     "output_type": "execute_result"
    }
   ],
   "source": [
    "s2"
   ]
  },
  {
   "cell_type": "code",
   "execution_count": 64,
   "id": "a5b6bd7e-153c-405d-a428-fe75752dbbff",
   "metadata": {},
   "outputs": [],
   "source": [
    "t=s2.title()"
   ]
  },
  {
   "cell_type": "code",
   "execution_count": 65,
   "id": "190be527-5921-4fde-8988-5e4dfbb9e814",
   "metadata": {},
   "outputs": [
    {
     "data": {
      "text/plain": [
       "'We Are Learning Python With Pwskills'"
      ]
     },
     "execution_count": 65,
     "metadata": {},
     "output_type": "execute_result"
    }
   ],
   "source": [
    "t"
   ]
  },
  {
   "cell_type": "markdown",
   "id": "16b28d06-11e5-4ad9-abc2-8888d0f4ddda",
   "metadata": {},
   "source": [
    "# 20. Find the longest word in a string."
   ]
  },
  {
   "cell_type": "code",
   "execution_count": 13,
   "id": "22954471-2a2e-40d7-957d-2a63ee667387",
   "metadata": {},
   "outputs": [
    {
     "name": "stdout",
     "output_type": "stream",
     "text": [
      "learning\n"
     ]
    }
   ],
   "source": [
    "a='we are learning python with pwskills'\n",
    "b=a.split()\n",
    "\n",
    "c=max(b,key=len)\n",
    "print(c)"
   ]
  },
  {
   "cell_type": "markdown",
   "id": "92eb4232-41c3-48bd-a0e5-7f15788e233d",
   "metadata": {},
   "source": [
    "# 21. Find the shortest word in a string."
   ]
  },
  {
   "cell_type": "code",
   "execution_count": 14,
   "id": "214fecb1-b446-4fda-96fb-58960bdabde3",
   "metadata": {},
   "outputs": [
    {
     "name": "stdout",
     "output_type": "stream",
     "text": [
      "we\n"
     ]
    }
   ],
   "source": [
    "a='we are learning python with pwskills'\n",
    "b=a.split()\n",
    "\n",
    "c=min(b,key=len)\n",
    "print(c)"
   ]
  },
  {
   "cell_type": "markdown",
   "id": "7b0be88a-3dff-4671-9b57-973b55a18959",
   "metadata": {},
   "source": [
    "# 22. Reverse the order of words in a string."
   ]
  },
  {
   "cell_type": "code",
   "execution_count": 23,
   "id": "859aa8cd-995f-41d0-92b1-5a73c8ffc607",
   "metadata": {},
   "outputs": [
    {
     "name": "stdout",
     "output_type": "stream",
     "text": [
      "pwskills with python learning are we\n"
     ]
    }
   ],
   "source": [
    "a='we are learning python with pwskills'\n",
    "b=a.split()\n",
    "c=b[::-1]\n",
    "print(' '.join(c))"
   ]
  },
  {
   "cell_type": "markdown",
   "id": "5ddbba86-55fb-449e-9f56-6d0c7c2dad6b",
   "metadata": {},
   "source": [
    "# 23. Check if a string is alphanumeric."
   ]
  },
  {
   "cell_type": "code",
   "execution_count": 94,
   "id": "f1192677-b4f6-473d-9da0-c3972419605f",
   "metadata": {},
   "outputs": [
    {
     "data": {
      "text/plain": [
       "'pwskills'"
      ]
     },
     "execution_count": 94,
     "metadata": {},
     "output_type": "execute_result"
    }
   ],
   "source": [
    "s"
   ]
  },
  {
   "cell_type": "code",
   "execution_count": 95,
   "id": "5961799f-24af-431a-a2d3-9b9cc43af25e",
   "metadata": {},
   "outputs": [],
   "source": [
    "an=s.isalnum()"
   ]
  },
  {
   "cell_type": "code",
   "execution_count": 96,
   "id": "a43ba54f-dd0c-4f47-ac54-16299fc1c2f5",
   "metadata": {},
   "outputs": [
    {
     "data": {
      "text/plain": [
       "True"
      ]
     },
     "execution_count": 96,
     "metadata": {},
     "output_type": "execute_result"
    }
   ],
   "source": [
    "an"
   ]
  },
  {
   "cell_type": "markdown",
   "id": "3ed17811-1f93-43f7-ad00-e2d0fd80d4cc",
   "metadata": {},
   "source": [
    "# 24. Extract all digits from a string."
   ]
  },
  {
   "cell_type": "code",
   "execution_count": 76,
   "id": "a575a32c-32b5-4636-8fe0-6a2f4c96505f",
   "metadata": {},
   "outputs": [
    {
     "name": "stdout",
     "output_type": "stream",
     "text": [
      "2023\n"
     ]
    }
   ],
   "source": [
    "a= 'we are learning python in 2023'\n",
    "\n",
    "for i in a.split():\n",
    "    if i.isdigit():\n",
    "        print(str(i))"
   ]
  },
  {
   "cell_type": "markdown",
   "id": "510ef443-9d87-4b60-9e9f-0b48cab3b5ac",
   "metadata": {},
   "source": [
    "# 25. Extract all alphabets from a string."
   ]
  },
  {
   "cell_type": "code",
   "execution_count": 8,
   "id": "61965b8f-80c3-4d93-a44a-96e968b868fa",
   "metadata": {},
   "outputs": [
    {
     "name": "stdout",
     "output_type": "stream",
     "text": [
      "we\n",
      "are\n",
      "learning\n",
      "python\n",
      "in\n"
     ]
    }
   ],
   "source": [
    "a= 'we are learning python in 2023'\n",
    "\n",
    "for i in a.split():\n",
    "    if i.isalpha():\n",
    "        print(i)"
   ]
  },
  {
   "cell_type": "markdown",
   "id": "27682216-f539-4cab-8c38-68c5b1c014ad",
   "metadata": {},
   "source": [
    "# 26. Count the number of uppercase letters in a string."
   ]
  },
  {
   "cell_type": "code",
   "execution_count": 42,
   "id": "4203b317-484d-4ded-92a1-5e7f72a6dda9",
   "metadata": {},
   "outputs": [
    {
     "name": "stdout",
     "output_type": "stream",
     "text": [
      "PWSKILLS\n"
     ]
    }
   ],
   "source": [
    "a='We are learning python in PWSKILLS'\n",
    "\n",
    "for i in a.split():\n",
    "    if i.isupper():\n",
    "        print(i)"
   ]
  },
  {
   "cell_type": "markdown",
   "id": "e334a446-fe14-4f24-89f7-7d260ffaea0e",
   "metadata": {},
   "source": [
    "# 27. Count the number of lowercase letters in a string."
   ]
  },
  {
   "cell_type": "code",
   "execution_count": 41,
   "id": "4413184b-a347-460b-a203-b458c8c55eb2",
   "metadata": {},
   "outputs": [
    {
     "name": "stdout",
     "output_type": "stream",
     "text": [
      "are\n",
      "learning\n",
      "python\n",
      "in\n"
     ]
    }
   ],
   "source": [
    "a='We are learning python in Pwskills'\n",
    "\n",
    "for i in a.split():\n",
    "    if i.islower():\n",
    "        print(i)"
   ]
  },
  {
   "cell_type": "markdown",
   "id": "07e9b3d6-8d7e-40a4-9d42-ff4d5b6a878f",
   "metadata": {},
   "source": [
    "# 28. Swap the case of each character in a string."
   ]
  },
  {
   "cell_type": "code",
   "execution_count": 48,
   "id": "25166e22-85e5-467a-a795-6a3a28a420e1",
   "metadata": {},
   "outputs": [],
   "source": [
    "a='We are learning python in Pwskills'\n",
    "\n",
    "b=a.swapcase()"
   ]
  },
  {
   "cell_type": "code",
   "execution_count": 49,
   "id": "670f5ecb-1a12-493b-b155-4575d443c89f",
   "metadata": {},
   "outputs": [
    {
     "data": {
      "text/plain": [
       "'wE ARE LEARNING PYTHON IN pWSKILLS'"
      ]
     },
     "execution_count": 49,
     "metadata": {},
     "output_type": "execute_result"
    }
   ],
   "source": [
    "b"
   ]
  },
  {
   "cell_type": "markdown",
   "id": "df115d42-8236-4f9f-b44e-e0786ae0124a",
   "metadata": {},
   "source": [
    "# 29. Remove a specific word from a string."
   ]
  },
  {
   "cell_type": "code",
   "execution_count": 73,
   "id": "cd0f414e-4603-4c0c-b50c-9a275bbdd413",
   "metadata": {},
   "outputs": [
    {
     "data": {
      "text/plain": [
       "'we are learning python in'"
      ]
     },
     "execution_count": 73,
     "metadata": {},
     "output_type": "execute_result"
    }
   ],
   "source": [
    "a= 'we are learning python in 2023'\n",
    "\n",
    "b=a.split()\n",
    "b.remove('2023')\n",
    "' '.join(b)"
   ]
  },
  {
   "cell_type": "markdown",
   "id": "a4d74cbc-8b72-4558-bd87-f69ba613a482",
   "metadata": {},
   "source": [
    "# 30. Check if a string is a valid email address."
   ]
  },
  {
   "cell_type": "code",
   "execution_count": 1,
   "id": "1fb15b19-c656-4863-912c-d5d1ba804f94",
   "metadata": {},
   "outputs": [
    {
     "name": "stdout",
     "output_type": "stream",
     "text": [
      "valid email\n"
     ]
    }
   ],
   "source": [
    "a='pwskills@gmail.com'\n",
    "\n",
    "if '.' and '@' in a:\n",
    "    print ('valid email')\n",
    "else:\n",
    "    print ('not valid email')\n",
    "        "
   ]
  },
  {
   "cell_type": "markdown",
   "id": "5dd2e28c-8d91-4b49-99ee-f808c2980dba",
   "metadata": {},
   "source": [
    "# 31. Extract the username from an email address string."
   ]
  },
  {
   "cell_type": "code",
   "execution_count": 15,
   "id": "52cade1f-a74b-4eee-9e96-e436f4494f17",
   "metadata": {},
   "outputs": [
    {
     "name": "stdout",
     "output_type": "stream",
     "text": [
      "your username is : pwskills\n"
     ]
    }
   ],
   "source": [
    "a='pwskills@gmail.com'\n",
    "b=[]\n",
    "\n",
    "print('your username is :',a[0:a.index('@')])"
   ]
  },
  {
   "cell_type": "markdown",
   "id": "6e5ee14b-5394-413e-8468-22d0b036a577",
   "metadata": {},
   "source": [
    "# 32. Extract the domain name from an email address string."
   ]
  },
  {
   "cell_type": "code",
   "execution_count": 29,
   "id": "dd817df6-40eb-4171-bd3d-047b564305dd",
   "metadata": {},
   "outputs": [
    {
     "name": "stdout",
     "output_type": "stream",
     "text": [
      "domain name is : gmail.com\n"
     ]
    }
   ],
   "source": [
    "a='pwskills@gmail.com'\n",
    "\n",
    "print('domain name is :',a[a.index('@')+1:len(a)])"
   ]
  },
  {
   "cell_type": "markdown",
   "id": "97f63bf9-d01f-470c-a89d-7d4a81a9574d",
   "metadata": {},
   "source": [
    "# 33. Replace multiple spaces in a string with a single space."
   ]
  },
  {
   "cell_type": "code",
   "execution_count": 53,
   "id": "3047b843-a2ef-44c0-9e21-a9b6b74ff7d6",
   "metadata": {},
   "outputs": [
    {
     "data": {
      "text/plain": [
       "'we are learning python in 2023'"
      ]
     },
     "execution_count": 53,
     "metadata": {},
     "output_type": "execute_result"
    }
   ],
   "source": [
    "s= 'we    are learning    python in     2023'\n",
    "\n",
    "' '.join(s.rsplit())"
   ]
  },
  {
   "cell_type": "markdown",
   "id": "c31cfb01-5c90-4915-ab27-7f964be9c53d",
   "metadata": {},
   "source": [
    "# 34. Check if a string is a valid URL."
   ]
  },
  {
   "cell_type": "code",
   "execution_count": 87,
   "id": "ccd5f194-7ea3-4572-b25a-026d89720c7e",
   "metadata": {},
   "outputs": [
    {
     "name": "stdout",
     "output_type": "stream",
     "text": [
      "valid protocol\n",
      "and valid url\n"
     ]
    }
   ],
   "source": [
    "w='https://www.pwskills.com/'\n",
    "\n",
    "if 'https://' or 'http://' in w:\n",
    "    print('valid protocol')\n",
    "    if ' ' in w:\n",
    "        print('but invalid url')\n",
    "    elif 'www.' and '.com/' not in w:\n",
    "        print('but invalid domain')\n",
    "    else:\n",
    "        print('and valid url')\n"
   ]
  },
  {
   "cell_type": "markdown",
   "id": "bfdeb01a-2a0a-4dd9-915c-6ab45aff8d65",
   "metadata": {},
   "source": [
    "# 35. Extract the protocol (http or https) from a URL string."
   ]
  },
  {
   "cell_type": "code",
   "execution_count": 91,
   "id": "f651ce6b-8520-4542-8750-7e433b8cdbfa",
   "metadata": {},
   "outputs": [
    {
     "name": "stdout",
     "output_type": "stream",
     "text": [
      "protocol:https\n"
     ]
    }
   ],
   "source": [
    "w='https://www.pwskills.com/'\n",
    "\n",
    "if 'https' in w:\n",
    "    print('protocol:https')\n",
    "elif 'http' in w:\n",
    "    print('protocol:http')\n",
    "else:\n",
    "    print('no protocol')"
   ]
  },
  {
   "cell_type": "markdown",
   "id": "2776d8c5-e2f1-4385-85d7-499e08e44ffe",
   "metadata": {},
   "source": [
    "# 36. Find the frequency of each character in a string."
   ]
  },
  {
   "cell_type": "code",
   "execution_count": 95,
   "id": "a3af6d25-71c2-423f-9220-a277edc73892",
   "metadata": {},
   "outputs": [
    {
     "name": "stdin",
     "output_type": "stream",
     "text": [
      "enter character want to find a\n"
     ]
    },
    {
     "name": "stdout",
     "output_type": "stream",
     "text": [
      "2\n"
     ]
    }
   ],
   "source": [
    "a= 'we are learning python in 2023'\n",
    "b=input('enter character want to find')\n",
    "\n",
    "if b in a:\n",
    "    print(a.count(b))\n",
    "else:\n",
    "    print('character not found')"
   ]
  },
  {
   "cell_type": "markdown",
   "id": "af9deeeb-eb5a-4cca-9afa-82fbede9cf72",
   "metadata": {},
   "source": [
    "# 37. Remove all punctuation from a string."
   ]
  },
  {
   "cell_type": "code",
   "execution_count": 11,
   "id": "6360474d-aeb9-4cd7-be13-267132746361",
   "metadata": {},
   "outputs": [
    {
     "name": "stdout",
     "output_type": "stream",
     "text": [
      "we are learning python in 2023\n"
     ]
    }
   ],
   "source": [
    "a= 'We are learning Python in 2023.'\n",
    "b='''!()-[]{};:'\"\\,<>./?@#$%^&*_~'''\n",
    "\n",
    "for i in a:\n",
    "    if i in b:\n",
    "        a=a.replace(i,'')\n",
    "print(a.lower())"
   ]
  },
  {
   "cell_type": "markdown",
   "id": "7e730328-bc4d-4df9-aeee-a6f87154f575",
   "metadata": {},
   "source": [
    "# 38. Check if a string contains only digits."
   ]
  },
  {
   "cell_type": "code",
   "execution_count": 12,
   "id": "683631f9-6e38-489c-98a9-905ecba1b89c",
   "metadata": {},
   "outputs": [
    {
     "data": {
      "text/plain": [
       "False"
      ]
     },
     "execution_count": 12,
     "metadata": {},
     "output_type": "execute_result"
    }
   ],
   "source": [
    "a= 'We are learning Python in 2023.'\n",
    "\n",
    "a.isdigit()"
   ]
  },
  {
   "cell_type": "markdown",
   "id": "e86ab870-3395-40dc-9df6-ae1cdc56f6ab",
   "metadata": {},
   "source": [
    "# 39. Check if a string contains only alphabets."
   ]
  },
  {
   "cell_type": "code",
   "execution_count": 14,
   "id": "ebab1ebf-1348-477c-b0cc-7d221a0ed0da",
   "metadata": {},
   "outputs": [
    {
     "data": {
      "text/plain": [
       "False"
      ]
     },
     "execution_count": 14,
     "metadata": {},
     "output_type": "execute_result"
    }
   ],
   "source": [
    "a= 'We are learning Python in 2023.'\n",
    "\n",
    "a.isalpha()"
   ]
  },
  {
   "cell_type": "markdown",
   "id": "9a44756a-e07b-4178-adea-66fc50a2b327",
   "metadata": {},
   "source": [
    "# 40. Convert a string to a list of characters."
   ]
  },
  {
   "cell_type": "code",
   "execution_count": 15,
   "id": "2a560d0d-6a4c-4a1b-9175-f0097e3b825b",
   "metadata": {},
   "outputs": [
    {
     "data": {
      "text/plain": [
       "['We', 'are', 'learning', 'Python', 'in', '2023.']"
      ]
     },
     "execution_count": 15,
     "metadata": {},
     "output_type": "execute_result"
    }
   ],
   "source": [
    "a= 'We are learning Python in 2023.'\n",
    "\n",
    "a.split()"
   ]
  },
  {
   "cell_type": "markdown",
   "id": "f492003c-d3df-4d9a-bfba-a1b9375d823e",
   "metadata": {},
   "source": [
    "# 41. Check if two strings are anagrams."
   ]
  },
  {
   "cell_type": "code",
   "execution_count": 18,
   "id": "6c9aa0e6-b2d7-47a6-88ca-875aaf0a41ab",
   "metadata": {},
   "outputs": [
    {
     "name": "stdout",
     "output_type": "stream",
     "text": [
      "anagrams\n"
     ]
    }
   ],
   "source": [
    "a='care'\n",
    "b='race'\n",
    "\n",
    "if sorted(a)==sorted(b):\n",
    "    print('anagrams')\n",
    "else:\n",
    "    print('not anagrams')"
   ]
  },
  {
   "cell_type": "markdown",
   "id": "536071ff-1af3-45f3-968d-85dea77e9332",
   "metadata": {},
   "source": [
    "# 42. Encode a string using a Caesar cipher."
   ]
  },
  {
   "cell_type": "code",
   "execution_count": 8,
   "id": "51e9c2c6-bc69-4185-b1fb-54441a06cf0b",
   "metadata": {},
   "outputs": [
    {
     "name": "stdin",
     "output_type": "stream",
     "text": [
      "enter message to encrypt in caesar cipher pwskills\n",
      "enter number of times want to skip 9\n"
     ]
    },
    {
     "name": "stdout",
     "output_type": "stream",
     "text": [
      "yfbtruub\n"
     ]
    }
   ],
   "source": [
    "a=input('enter message to encrypt in caesar cipher')\n",
    "n=int(input('enter number of times want to skip'))\n",
    "c='abcdefghijklmnopqrstuvwxyz'\n",
    "l=[]\n",
    "\n",
    "for i in a:\n",
    "    for j in c:\n",
    "        if i==j and c.index(j)+n<26:\n",
    "            s=c[c.index(j)+n]\n",
    "            l.append(s)\n",
    "        elif i==j and c.index(j)+n>26:\n",
    "            s=c[c.index(j)+n-26]\n",
    "            l.append(s)\n",
    "print(''.join(l))"
   ]
  },
  {
   "cell_type": "markdown",
   "id": "60934de2-96d9-4cbb-9461-d43837013385",
   "metadata": {},
   "source": [
    "# 43. Decode a Caesar cipher encoded string."
   ]
  },
  {
   "cell_type": "code",
   "execution_count": 9,
   "id": "32974905-8638-4063-8d1d-e12568d747ce",
   "metadata": {},
   "outputs": [
    {
     "name": "stdin",
     "output_type": "stream",
     "text": [
      "enter message to dencrypt in caesar cipher yfbtruub\n",
      "enter number of times want to skip 9\n"
     ]
    },
    {
     "name": "stdout",
     "output_type": "stream",
     "text": [
      "pwskills\n"
     ]
    }
   ],
   "source": [
    "a=input('enter message to dencrypt in caesar cipher')\n",
    "n=int(input('enter number of times want to skip'))\n",
    "c='abcdefghijklmnopqrstuvwxyz'\n",
    "\n",
    "l=[]\n",
    "\n",
    "for i in a:\n",
    "    for j in c:\n",
    "        if i==j and c.index(j)-n<26:\n",
    "            s=c[c.index(j)-n]\n",
    "            l.append(s)\n",
    "        elif i==j and c.index(j)-n>26:\n",
    "            s=c[c.index(j)-n-26]\n",
    "            l.append(s)\n",
    "print(''.join(l))"
   ]
  },
  {
   "cell_type": "markdown",
   "id": "264ee240-b13d-4f95-812f-443da514069a",
   "metadata": {},
   "source": [
    "# 44. Find the most frequent word in a string."
   ]
  },
  {
   "cell_type": "code",
   "execution_count": 75,
   "id": "b410f488-c4e6-4fab-8415-70027d740c73",
   "metadata": {},
   "outputs": [
    {
     "name": "stdout",
     "output_type": "stream",
     "text": [
      "most frequent word is e\n",
      "{'w': 1, 'e': 3, 'a': 2, 'r': 2, 'l': 1, 'n': 3, 'i': 1, 'g': 1, 'p': 1, 'y': 1, 't': 1, 'h': 1, 'o': 1}\n"
     ]
    }
   ],
   "source": [
    "a= 'we are learning python'\n",
    "c={}\n",
    "\n",
    "\n",
    "for i in a:\n",
    "    if i==' ':\n",
    "        pass\n",
    "    else:\n",
    "        d=a.count(i)\n",
    "        c.setdefault(i,d)\n",
    "print('most frequent word is',max(c, key=c.get))\n",
    "print(c)"
   ]
  },
  {
   "cell_type": "markdown",
   "id": "1a410c46-5dba-4bb8-b626-2ebb5f3ea0db",
   "metadata": {},
   "source": [
    "# 45. Find all unique words in a string."
   ]
  },
  {
   "cell_type": "code",
   "execution_count": 1,
   "id": "e415d1fc-13b5-4c95-b7e0-a37610a6d0dd",
   "metadata": {},
   "outputs": [
    {
     "name": "stdout",
     "output_type": "stream",
     "text": [
      "{'o', 'h', 'y', 'p', 'w', 'l', 'g', 'i', 't'}\n"
     ]
    }
   ],
   "source": [
    "a= 'we are learning python'\n",
    "c={}\n",
    "f=[]\n",
    "\n",
    "for i in a:\n",
    "    if i==' ':\n",
    "        pass\n",
    "    else:\n",
    "        d=a.count(i)\n",
    "        c.setdefault(i,d)\n",
    "        for key,value in c.items():\n",
    "            if value==1:\n",
    "                f.append(key)\n",
    "print(set(f))"
   ]
  },
  {
   "cell_type": "markdown",
   "id": "47e274fc-5103-43f9-93a1-e215de52bf54",
   "metadata": {},
   "source": [
    "# 46. Count the number of syllables in a string."
   ]
  },
  {
   "cell_type": "code",
   "execution_count": null,
   "id": "df580a98-157b-4b93-9cf9-9fc10453e737",
   "metadata": {},
   "outputs": [],
   "source": [
    "a= 'we are learning python'\n",
    "v='aeiou'\n",
    "\n",
    "for i in a:\n",
    "    for j in v:\n",
    "        if i==j:\n",
    "            "
   ]
  },
  {
   "cell_type": "markdown",
   "id": "baea1c09-0c1d-48b5-9684-3dcc066509c0",
   "metadata": {},
   "source": [
    "# 47. Check if a string contains any special characters."
   ]
  },
  {
   "cell_type": "code",
   "execution_count": 19,
   "id": "b598fd81-c8c4-455d-afb5-c3264cdfd3a3",
   "metadata": {},
   "outputs": [
    {
     "name": "stdout",
     "output_type": "stream",
     "text": [
      "speacial character present\n"
     ]
    }
   ],
   "source": [
    "a='support@pwskills'\n",
    "s=\"!@#$%^&*()_-+={}[]:;<,>.?/~`\"\n",
    "\n",
    "for i in s:\n",
    "    if i in a:\n",
    "        print('speacial character present')"
   ]
  },
  {
   "cell_type": "markdown",
   "id": "107351e0-c403-4605-a98c-d98a3f498216",
   "metadata": {},
   "source": [
    "# 48. Remove the nth word from a string."
   ]
  },
  {
   "cell_type": "code",
   "execution_count": 8,
   "id": "3c8ddda9-17fe-404d-a9b9-40d793d64852",
   "metadata": {},
   "outputs": [
    {
     "name": "stdin",
     "output_type": "stream",
     "text": [
      "enter nth word to be removed 4\n"
     ]
    },
    {
     "name": "stdout",
     "output_type": "stream",
     "text": [
      "We are learning in 2023.\n"
     ]
    }
   ],
   "source": [
    "a= 'We are learning Python in 2023.'\n",
    "n=int(input('enter nth word to be removed'))\n",
    "b=a.split()\n",
    "\n",
    "if n <= 0 or n > len(b):\n",
    "        print (\"Invalid input or n is out of range\")\n",
    "else:\n",
    "    del b[n -1]\n",
    "    c = ' '.join(b)\n",
    "    print(c)"
   ]
  },
  {
   "cell_type": "markdown",
   "id": "38784578-970a-4e8f-99a3-e42fc4209353",
   "metadata": {},
   "source": [
    "# 49. Insert a word at the nth position in a string."
   ]
  },
  {
   "cell_type": "code",
   "execution_count": 11,
   "id": "3ad1b028-189e-459c-b005-abbed2dcd984",
   "metadata": {},
   "outputs": [
    {
     "name": "stdin",
     "output_type": "stream",
     "text": [
      "enter nth word to add  4\n",
      "word want to insert python\n"
     ]
    },
    {
     "name": "stdout",
     "output_type": "stream",
     "text": [
      "We are learning python in 2023.\n"
     ]
    }
   ],
   "source": [
    "a= 'We are learning in 2023.'\n",
    "n=int(input('enter nth word to add '))\n",
    "w=input('word want to insert')\n",
    "b=a.split()\n",
    "\n",
    "if n <= 0 or n > len(b):\n",
    "        print (\"Invalid input or n is out of range\")\n",
    "else:\n",
    "    b.insert(n-1,w)\n",
    "    c = ' '.join(b)\n",
    "    print(c)"
   ]
  },
  {
   "cell_type": "markdown",
   "id": "25d57299-80e7-49d6-b975-a44fdf7d378a",
   "metadata": {},
   "source": [
    "# 50. Convert a CSV string to a list of lists."
   ]
  },
  {
   "cell_type": "code",
   "execution_count": null,
   "id": "f4f29767-8190-47c6-ac4f-8c6286921d26",
   "metadata": {},
   "outputs": [],
   "source": []
  }
 ],
 "metadata": {
  "kernelspec": {
   "display_name": "Python 3 (ipykernel)",
   "language": "python",
   "name": "python3"
  },
  "language_info": {
   "codemirror_mode": {
    "name": "ipython",
    "version": 3
   },
   "file_extension": ".py",
   "mimetype": "text/x-python",
   "name": "python",
   "nbconvert_exporter": "python",
   "pygments_lexer": "ipython3",
   "version": "3.10.8"
  }
 },
 "nbformat": 4,
 "nbformat_minor": 5
}
