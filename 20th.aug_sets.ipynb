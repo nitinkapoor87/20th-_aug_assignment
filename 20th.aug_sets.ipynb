{
 "cells": [
  {
   "cell_type": "markdown",
   "id": "2eb143a1-8d06-4ee0-9e5a-98acf31b4415",
   "metadata": {},
   "source": [
    "# 1. Create a set with integers from 1 to 5."
   ]
  },
  {
   "cell_type": "code",
   "execution_count": 1,
   "id": "34994a42-0b0b-4719-ba04-3d9ea5f9c7f5",
   "metadata": {},
   "outputs": [],
   "source": [
    "x=set(range(1,6))"
   ]
  },
  {
   "cell_type": "code",
   "execution_count": 2,
   "id": "1edc4319-0873-46aa-b4b3-7fe18f4d48ab",
   "metadata": {},
   "outputs": [
    {
     "data": {
      "text/plain": [
       "{1, 2, 3, 4, 5}"
      ]
     },
     "execution_count": 2,
     "metadata": {},
     "output_type": "execute_result"
    }
   ],
   "source": [
    "x"
   ]
  },
  {
   "cell_type": "code",
   "execution_count": 87,
   "id": "49464a93-f0a8-4b38-b93a-7afbdc6290e3",
   "metadata": {},
   "outputs": [
    {
     "data": {
      "text/plain": [
       "set"
      ]
     },
     "execution_count": 87,
     "metadata": {},
     "output_type": "execute_result"
    }
   ],
   "source": [
    "type(x)"
   ]
  },
  {
   "cell_type": "markdown",
   "id": "e858e11d-8df7-423a-b05d-43a7c5612cc2",
   "metadata": {},
   "source": [
    "# 2. Add an element to a set."
   ]
  },
  {
   "cell_type": "code",
   "execution_count": 3,
   "id": "4a442b7c-eb9d-49f7-a0e7-e34c8f81186f",
   "metadata": {},
   "outputs": [
    {
     "data": {
      "text/plain": [
       "{1, 2, 3, 4, 5}"
      ]
     },
     "execution_count": 3,
     "metadata": {},
     "output_type": "execute_result"
    }
   ],
   "source": [
    "x"
   ]
  },
  {
   "cell_type": "code",
   "execution_count": 4,
   "id": "ed845507-2fe8-4b44-9abb-3f4447f531a9",
   "metadata": {},
   "outputs": [],
   "source": [
    "x.add('pwskills')"
   ]
  },
  {
   "cell_type": "code",
   "execution_count": 5,
   "id": "e1799d1e-e5ad-48de-b1cd-e3417b511fd3",
   "metadata": {},
   "outputs": [
    {
     "data": {
      "text/plain": [
       "{1, 2, 3, 4, 5, 'pwskills'}"
      ]
     },
     "execution_count": 5,
     "metadata": {},
     "output_type": "execute_result"
    }
   ],
   "source": [
    "x"
   ]
  },
  {
   "cell_type": "markdown",
   "id": "20bc327a-2d59-4beb-801d-df5b73701eb8",
   "metadata": {},
   "source": [
    "# 3. Remove an element from a set."
   ]
  },
  {
   "cell_type": "code",
   "execution_count": 6,
   "id": "82a759dd-d15d-4a56-b7e8-878af9cbac73",
   "metadata": {},
   "outputs": [
    {
     "data": {
      "text/plain": [
       "{1, 2, 3, 4, 5, 'pwskills'}"
      ]
     },
     "execution_count": 6,
     "metadata": {},
     "output_type": "execute_result"
    }
   ],
   "source": [
    "x"
   ]
  },
  {
   "cell_type": "code",
   "execution_count": 7,
   "id": "5bd9f89b-1254-49a3-96c1-4edbf7745c56",
   "metadata": {},
   "outputs": [
    {
     "data": {
      "text/plain": [
       "1"
      ]
     },
     "execution_count": 7,
     "metadata": {},
     "output_type": "execute_result"
    }
   ],
   "source": [
    "x.pop()"
   ]
  },
  {
   "cell_type": "code",
   "execution_count": 8,
   "id": "5f978ee6-03e4-4216-b06c-0f539666389c",
   "metadata": {},
   "outputs": [
    {
     "data": {
      "text/plain": [
       "{2, 3, 4, 5, 'pwskills'}"
      ]
     },
     "execution_count": 8,
     "metadata": {},
     "output_type": "execute_result"
    }
   ],
   "source": [
    "x"
   ]
  },
  {
   "cell_type": "markdown",
   "id": "eb0a89c8-948b-4b62-bca2-b50a356cd6ec",
   "metadata": {},
   "source": [
    "# 4. Check if an element exists in a set."
   ]
  },
  {
   "cell_type": "code",
   "execution_count": 9,
   "id": "18838829-7b39-4a65-b849-2ee331bff624",
   "metadata": {},
   "outputs": [
    {
     "data": {
      "text/plain": [
       "{2, 3, 4, 5, 'pwskills'}"
      ]
     },
     "execution_count": 9,
     "metadata": {},
     "output_type": "execute_result"
    }
   ],
   "source": [
    "x"
   ]
  },
  {
   "cell_type": "code",
   "execution_count": 10,
   "id": "01685bc2-7d51-4606-9a7f-c8792bf867ad",
   "metadata": {},
   "outputs": [],
   "source": [
    "y=2"
   ]
  },
  {
   "cell_type": "code",
   "execution_count": 11,
   "id": "cfe608da-bfc7-4f52-a5e8-68da2e8e8484",
   "metadata": {},
   "outputs": [
    {
     "name": "stdout",
     "output_type": "stream",
     "text": [
      "available\n"
     ]
    }
   ],
   "source": [
    "if y in (x):\n",
    "    print('available')\n",
    "else :\n",
    "    print('not available')"
   ]
  },
  {
   "cell_type": "markdown",
   "id": "9d19b803-96a9-4c12-a73e-e7b5a1e7e9cb",
   "metadata": {},
   "source": [
    "# 5. Find the length of a set without using the `len()` function."
   ]
  },
  {
   "cell_type": "code",
   "execution_count": 12,
   "id": "8d68d00c-3a34-4719-a9f4-c6a405664796",
   "metadata": {},
   "outputs": [
    {
     "data": {
      "text/plain": [
       "{2, 3, 4, 5, 'pwskills'}"
      ]
     },
     "execution_count": 12,
     "metadata": {},
     "output_type": "execute_result"
    }
   ],
   "source": [
    "x"
   ]
  },
  {
   "cell_type": "code",
   "execution_count": 13,
   "id": "abaea673-0805-4268-9179-8242b7599f95",
   "metadata": {},
   "outputs": [],
   "source": [
    "y=list(x)"
   ]
  },
  {
   "cell_type": "code",
   "execution_count": 14,
   "id": "f24426b5-cc9c-4dec-926b-840b6ae27f12",
   "metadata": {},
   "outputs": [
    {
     "data": {
      "text/plain": [
       "[2, 3, 4, 5, 'pwskills']"
      ]
     },
     "execution_count": 14,
     "metadata": {},
     "output_type": "execute_result"
    }
   ],
   "source": [
    "y"
   ]
  },
  {
   "cell_type": "code",
   "execution_count": 15,
   "id": "9f8d71aa-3a5d-4f31-aaaa-24f4c3ddf015",
   "metadata": {},
   "outputs": [],
   "source": [
    "z=y.index(y[-1])"
   ]
  },
  {
   "cell_type": "code",
   "execution_count": 16,
   "id": "c19624d9-de6d-45d8-9354-bff909aee10a",
   "metadata": {},
   "outputs": [
    {
     "data": {
      "text/plain": [
       "4"
      ]
     },
     "execution_count": 16,
     "metadata": {},
     "output_type": "execute_result"
    }
   ],
   "source": [
    "z"
   ]
  },
  {
   "cell_type": "markdown",
   "id": "d3706308-21a8-41a5-8780-830d8879219c",
   "metadata": {},
   "source": [
    "# 6. Clear all elements from a set."
   ]
  },
  {
   "cell_type": "code",
   "execution_count": 17,
   "id": "e4d6adab-87e2-48d1-a359-beae485e42b6",
   "metadata": {},
   "outputs": [
    {
     "data": {
      "text/plain": [
       "{2, 3, 4, 5, 'pwskills'}"
      ]
     },
     "execution_count": 17,
     "metadata": {},
     "output_type": "execute_result"
    }
   ],
   "source": [
    "x"
   ]
  },
  {
   "cell_type": "code",
   "execution_count": 18,
   "id": "7fafbee5-a0d5-4b2e-b047-b6f7c8374ca2",
   "metadata": {},
   "outputs": [],
   "source": [
    "x.clear()"
   ]
  },
  {
   "cell_type": "code",
   "execution_count": 19,
   "id": "328a4c4d-e2f9-48cd-9957-62b5f3f4eaa9",
   "metadata": {},
   "outputs": [
    {
     "data": {
      "text/plain": [
       "set()"
      ]
     },
     "execution_count": 19,
     "metadata": {},
     "output_type": "execute_result"
    }
   ],
   "source": [
    "x"
   ]
  },
  {
   "cell_type": "markdown",
   "id": "d0620de1-0d3e-4016-aee2-6c8416089483",
   "metadata": {},
   "source": [
    "# 7. Create a set of even numbers from 1 to 10."
   ]
  },
  {
   "cell_type": "code",
   "execution_count": 20,
   "id": "83f6b90e-c7d6-48d3-b89c-204fb1e72764",
   "metadata": {},
   "outputs": [],
   "source": [
    "x=set(range(1,11))"
   ]
  },
  {
   "cell_type": "code",
   "execution_count": 21,
   "id": "a9ee34a5-e1d6-4e0c-8119-d5a2fd8f9a39",
   "metadata": {},
   "outputs": [
    {
     "data": {
      "text/plain": [
       "{1, 2, 3, 4, 5, 6, 7, 8, 9, 10}"
      ]
     },
     "execution_count": 21,
     "metadata": {},
     "output_type": "execute_result"
    }
   ],
   "source": [
    "x"
   ]
  },
  {
   "cell_type": "markdown",
   "id": "7602d756-107a-49c3-8548-31caa839c91a",
   "metadata": {},
   "source": [
    "# 8. Create a set of odd numbers from 1 to 10."
   ]
  },
  {
   "cell_type": "code",
   "execution_count": 22,
   "id": "fcac626f-1795-4c13-a5ae-8481b6e278ae",
   "metadata": {},
   "outputs": [],
   "source": [
    "y=set(range(2,11,2))"
   ]
  },
  {
   "cell_type": "code",
   "execution_count": 23,
   "id": "05052e81-48f3-49a6-9fa1-10fe3dcdd2ba",
   "metadata": {},
   "outputs": [
    {
     "data": {
      "text/plain": [
       "{2, 4, 6, 8, 10}"
      ]
     },
     "execution_count": 23,
     "metadata": {},
     "output_type": "execute_result"
    }
   ],
   "source": [
    "y"
   ]
  },
  {
   "cell_type": "markdown",
   "id": "30dca57c-383f-450c-90e4-3aa575fb6a61",
   "metadata": {},
   "source": [
    "# 9. Find the union of two sets."
   ]
  },
  {
   "cell_type": "code",
   "execution_count": 24,
   "id": "b3341824-f57e-46a6-b1c2-24fbed56eade",
   "metadata": {},
   "outputs": [
    {
     "data": {
      "text/plain": [
       "{1, 2, 3, 4, 5, 6, 7, 8, 9, 10}"
      ]
     },
     "execution_count": 24,
     "metadata": {},
     "output_type": "execute_result"
    }
   ],
   "source": [
    "x"
   ]
  },
  {
   "cell_type": "code",
   "execution_count": 25,
   "id": "e33ea089-69b9-4aa9-9cb7-7d086e103bab",
   "metadata": {},
   "outputs": [],
   "source": [
    "z={'x','y','z'}"
   ]
  },
  {
   "cell_type": "code",
   "execution_count": 26,
   "id": "99857e68-9776-423d-8091-7bd35e29d6ed",
   "metadata": {},
   "outputs": [
    {
     "data": {
      "text/plain": [
       "{1, 10, 2, 3, 4, 5, 6, 7, 8, 9, 'x', 'y', 'z'}"
      ]
     },
     "execution_count": 26,
     "metadata": {},
     "output_type": "execute_result"
    }
   ],
   "source": [
    "x.union(x,z)"
   ]
  },
  {
   "cell_type": "markdown",
   "id": "16702850-b842-4d76-8dfc-95df42033348",
   "metadata": {},
   "source": [
    "# 10. Find the intersection of two sets."
   ]
  },
  {
   "cell_type": "code",
   "execution_count": 27,
   "id": "35da7938-e0b1-47ee-840c-738bbb30c696",
   "metadata": {},
   "outputs": [
    {
     "data": {
      "text/plain": [
       "{1, 2, 3, 4, 5, 6, 7, 8, 9, 10}"
      ]
     },
     "execution_count": 27,
     "metadata": {},
     "output_type": "execute_result"
    }
   ],
   "source": [
    "x"
   ]
  },
  {
   "cell_type": "code",
   "execution_count": 28,
   "id": "8eaa96fa-d04e-4b7c-90cb-81ff7f8b247a",
   "metadata": {},
   "outputs": [
    {
     "data": {
      "text/plain": [
       "{2, 4, 6, 8, 10}"
      ]
     },
     "execution_count": 28,
     "metadata": {},
     "output_type": "execute_result"
    }
   ],
   "source": [
    "y"
   ]
  },
  {
   "cell_type": "code",
   "execution_count": 29,
   "id": "ae0e5e20-3179-47f1-9fe3-9b026ad9f639",
   "metadata": {},
   "outputs": [
    {
     "data": {
      "text/plain": [
       "{2, 4, 6, 8, 10}"
      ]
     },
     "execution_count": 29,
     "metadata": {},
     "output_type": "execute_result"
    }
   ],
   "source": [
    "x.intersection(x,y)"
   ]
  },
  {
   "cell_type": "markdown",
   "id": "156146b3-a7c4-411e-8a74-4c4014834c68",
   "metadata": {},
   "source": [
    "# 11. Find the difference between two sets."
   ]
  },
  {
   "cell_type": "code",
   "execution_count": 30,
   "id": "390bed0f-d000-4695-919b-99451854cfea",
   "metadata": {},
   "outputs": [
    {
     "data": {
      "text/plain": [
       "{1, 2, 3, 4, 5, 6, 7, 8, 9, 10}"
      ]
     },
     "execution_count": 30,
     "metadata": {},
     "output_type": "execute_result"
    }
   ],
   "source": [
    "x"
   ]
  },
  {
   "cell_type": "code",
   "execution_count": 31,
   "id": "1164656f-d4d4-497e-b619-2c04792dd107",
   "metadata": {},
   "outputs": [
    {
     "data": {
      "text/plain": [
       "{2, 4, 6, 8, 10}"
      ]
     },
     "execution_count": 31,
     "metadata": {},
     "output_type": "execute_result"
    }
   ],
   "source": [
    "y"
   ]
  },
  {
   "cell_type": "code",
   "execution_count": 36,
   "id": "fd8f457e-8286-4028-90c0-2da93d962d5e",
   "metadata": {},
   "outputs": [],
   "source": [
    "z=x-y"
   ]
  },
  {
   "cell_type": "code",
   "execution_count": 37,
   "id": "77280417-2224-48a6-bec9-08b054e76f56",
   "metadata": {},
   "outputs": [
    {
     "data": {
      "text/plain": [
       "{1, 3, 5, 7, 9}"
      ]
     },
     "execution_count": 37,
     "metadata": {},
     "output_type": "execute_result"
    }
   ],
   "source": [
    "z"
   ]
  },
  {
   "cell_type": "markdown",
   "id": "17442d4b-46c9-4fa5-b551-5685d307f007",
   "metadata": {},
   "source": [
    "# 12. Check if a set is a subset of another set."
   ]
  },
  {
   "cell_type": "code",
   "execution_count": 38,
   "id": "7b95cbb7-7e01-4bc2-8aa1-f53c7d65f52c",
   "metadata": {},
   "outputs": [
    {
     "data": {
      "text/plain": [
       "{1, 2, 3, 4, 5, 6, 7, 8, 9, 10}"
      ]
     },
     "execution_count": 38,
     "metadata": {},
     "output_type": "execute_result"
    }
   ],
   "source": [
    "x"
   ]
  },
  {
   "cell_type": "code",
   "execution_count": 39,
   "id": "70ba401a-337c-48da-9c2c-147aa953ba2c",
   "metadata": {},
   "outputs": [
    {
     "data": {
      "text/plain": [
       "{2, 4, 6, 8, 10}"
      ]
     },
     "execution_count": 39,
     "metadata": {},
     "output_type": "execute_result"
    }
   ],
   "source": [
    "y"
   ]
  },
  {
   "cell_type": "code",
   "execution_count": 44,
   "id": "7bcbf16c-6b4d-487a-9c2f-5677dd9d61c8",
   "metadata": {},
   "outputs": [
    {
     "data": {
      "text/plain": [
       "True"
      ]
     },
     "execution_count": 44,
     "metadata": {},
     "output_type": "execute_result"
    }
   ],
   "source": [
    "y.issubset(x)"
   ]
  },
  {
   "cell_type": "markdown",
   "id": "e174d86c-0355-4d6b-80d2-f10152cc2903",
   "metadata": {},
   "source": [
    "# 13. Check if a set is a superset of another set."
   ]
  },
  {
   "cell_type": "code",
   "execution_count": 45,
   "id": "1f5257e0-6fd8-4082-9b2e-e94d1b7a9951",
   "metadata": {},
   "outputs": [
    {
     "data": {
      "text/plain": [
       "{1, 2, 3, 4, 5, 6, 7, 8, 9, 10}"
      ]
     },
     "execution_count": 45,
     "metadata": {},
     "output_type": "execute_result"
    }
   ],
   "source": [
    "x"
   ]
  },
  {
   "cell_type": "code",
   "execution_count": 46,
   "id": "70600be1-47b9-4ff1-a9b9-07db1ed8e3ab",
   "metadata": {},
   "outputs": [
    {
     "data": {
      "text/plain": [
       "{2, 4, 6, 8, 10}"
      ]
     },
     "execution_count": 46,
     "metadata": {},
     "output_type": "execute_result"
    }
   ],
   "source": [
    "y"
   ]
  },
  {
   "cell_type": "code",
   "execution_count": 49,
   "id": "15fd0228-f2c9-4696-9575-84c2ef95224e",
   "metadata": {},
   "outputs": [
    {
     "data": {
      "text/plain": [
       "True"
      ]
     },
     "execution_count": 49,
     "metadata": {},
     "output_type": "execute_result"
    }
   ],
   "source": [
    "x.issuperset(y)"
   ]
  },
  {
   "cell_type": "markdown",
   "id": "39c20386-9432-4ab7-96a7-ab4d4c9471f9",
   "metadata": {},
   "source": [
    "# 14. Create a set from a list."
   ]
  },
  {
   "cell_type": "code",
   "execution_count": 50,
   "id": "6aa1db9e-2312-4f5e-9f41-d221a5fbda77",
   "metadata": {},
   "outputs": [],
   "source": [
    "l=list(range(1,10))"
   ]
  },
  {
   "cell_type": "code",
   "execution_count": 51,
   "id": "fc0fc01a-0df7-4099-b738-e635b9df637c",
   "metadata": {},
   "outputs": [
    {
     "data": {
      "text/plain": [
       "[1, 2, 3, 4, 5, 6, 7, 8, 9]"
      ]
     },
     "execution_count": 51,
     "metadata": {},
     "output_type": "execute_result"
    }
   ],
   "source": [
    "l"
   ]
  },
  {
   "cell_type": "code",
   "execution_count": 52,
   "id": "eab176d0-de1b-43f7-9fb2-7b32b18bb4de",
   "metadata": {},
   "outputs": [],
   "source": [
    "s=set(l)"
   ]
  },
  {
   "cell_type": "code",
   "execution_count": 53,
   "id": "292221fd-c353-4041-a96e-1a05a08fd423",
   "metadata": {},
   "outputs": [
    {
     "data": {
      "text/plain": [
       "{1, 2, 3, 4, 5, 6, 7, 8, 9}"
      ]
     },
     "execution_count": 53,
     "metadata": {},
     "output_type": "execute_result"
    }
   ],
   "source": [
    "s"
   ]
  },
  {
   "cell_type": "markdown",
   "id": "97ecdf35-932c-452d-8a01-d0b3d53d0c63",
   "metadata": {},
   "source": [
    "# 15. Convert a set to a list."
   ]
  },
  {
   "cell_type": "code",
   "execution_count": 55,
   "id": "692b3fda-f364-47e6-b436-ede18d9bfbb0",
   "metadata": {},
   "outputs": [
    {
     "data": {
      "text/plain": [
       "{1, 2, 3, 4, 5, 6, 7, 8, 9, 10}"
      ]
     },
     "execution_count": 55,
     "metadata": {},
     "output_type": "execute_result"
    }
   ],
   "source": [
    "x"
   ]
  },
  {
   "cell_type": "code",
   "execution_count": 56,
   "id": "31ea5b9b-815f-42b6-9dbf-ffdbccf203f2",
   "metadata": {},
   "outputs": [],
   "source": [
    "l=list(x)"
   ]
  },
  {
   "cell_type": "code",
   "execution_count": 57,
   "id": "45a9abb3-f940-47dd-b4de-6c8656ee6baa",
   "metadata": {},
   "outputs": [
    {
     "data": {
      "text/plain": [
       "[1, 2, 3, 4, 5, 6, 7, 8, 9, 10]"
      ]
     },
     "execution_count": 57,
     "metadata": {},
     "output_type": "execute_result"
    }
   ],
   "source": [
    "l"
   ]
  },
  {
   "cell_type": "markdown",
   "id": "96f86f07-eedc-48b2-b6ac-fa4b473aa2e5",
   "metadata": {},
   "source": [
    "# 16. Remove a random element from a set."
   ]
  },
  {
   "cell_type": "code",
   "execution_count": 58,
   "id": "03e8ddba-3253-4e11-b75c-2e340f4fd6af",
   "metadata": {},
   "outputs": [
    {
     "data": {
      "text/plain": [
       "{1, 2, 3, 4, 5, 6, 7, 8, 9, 10}"
      ]
     },
     "execution_count": 58,
     "metadata": {},
     "output_type": "execute_result"
    }
   ],
   "source": [
    "x"
   ]
  },
  {
   "cell_type": "code",
   "execution_count": 59,
   "id": "7bd7e0c6-e74a-4007-b29d-6db87f595070",
   "metadata": {},
   "outputs": [
    {
     "data": {
      "text/plain": [
       "1"
      ]
     },
     "execution_count": 59,
     "metadata": {},
     "output_type": "execute_result"
    }
   ],
   "source": [
    "x.pop()"
   ]
  },
  {
   "cell_type": "code",
   "execution_count": 60,
   "id": "b3591b8b-756c-47b1-884a-927d7d992728",
   "metadata": {},
   "outputs": [
    {
     "data": {
      "text/plain": [
       "{2, 3, 4, 5, 6, 7, 8, 9, 10}"
      ]
     },
     "execution_count": 60,
     "metadata": {},
     "output_type": "execute_result"
    }
   ],
   "source": [
    "x"
   ]
  },
  {
   "cell_type": "markdown",
   "id": "28435ad3-f629-4c0f-a2c5-d5b84ae63c6e",
   "metadata": {},
   "source": [
    "# 17. Pop an element from a set."
   ]
  },
  {
   "cell_type": "code",
   "execution_count": 61,
   "id": "3c48a600-ae56-4bcf-8646-672aa9acb2d0",
   "metadata": {},
   "outputs": [
    {
     "data": {
      "text/plain": [
       "{2, 3, 4, 5, 6, 7, 8, 9, 10}"
      ]
     },
     "execution_count": 61,
     "metadata": {},
     "output_type": "execute_result"
    }
   ],
   "source": [
    "x"
   ]
  },
  {
   "cell_type": "code",
   "execution_count": 63,
   "id": "324d08bc-9eea-4e41-8638-2655ceda70ad",
   "metadata": {},
   "outputs": [
    {
     "data": {
      "text/plain": [
       "2"
      ]
     },
     "execution_count": 63,
     "metadata": {},
     "output_type": "execute_result"
    }
   ],
   "source": [
    "x.pop()"
   ]
  },
  {
   "cell_type": "code",
   "execution_count": 64,
   "id": "f91cd84f-4017-46c4-a627-115254b2a1b3",
   "metadata": {},
   "outputs": [
    {
     "data": {
      "text/plain": [
       "{3, 4, 5, 6, 7, 8, 9, 10}"
      ]
     },
     "execution_count": 64,
     "metadata": {},
     "output_type": "execute_result"
    }
   ],
   "source": [
    "x"
   ]
  },
  {
   "cell_type": "markdown",
   "id": "090956cc-90b5-4ad8-a6e5-6e05161b949e",
   "metadata": {},
   "source": [
    "# 18. Check if two sets have no elements in common."
   ]
  },
  {
   "cell_type": "code",
   "execution_count": 65,
   "id": "1b34df4b-913d-47e7-8163-972544c5f98d",
   "metadata": {},
   "outputs": [
    {
     "data": {
      "text/plain": [
       "{3, 4, 5, 6, 7, 8, 9, 10}"
      ]
     },
     "execution_count": 65,
     "metadata": {},
     "output_type": "execute_result"
    }
   ],
   "source": [
    "x"
   ]
  },
  {
   "cell_type": "code",
   "execution_count": 66,
   "id": "e82578d2-8b1c-4841-a56b-42843e3de6da",
   "metadata": {},
   "outputs": [
    {
     "data": {
      "text/plain": [
       "{2, 4, 6, 8, 10}"
      ]
     },
     "execution_count": 66,
     "metadata": {},
     "output_type": "execute_result"
    }
   ],
   "source": [
    "y"
   ]
  },
  {
   "cell_type": "code",
   "execution_count": 69,
   "id": "7f812af0-91d4-415f-a5b4-146eb2f33f50",
   "metadata": {},
   "outputs": [
    {
     "data": {
      "text/plain": [
       "False"
      ]
     },
     "execution_count": 69,
     "metadata": {},
     "output_type": "execute_result"
    }
   ],
   "source": [
    "x.isdisjoint(y)"
   ]
  },
  {
   "cell_type": "markdown",
   "id": "9735c488-93e5-4600-a66b-e1d229f76b4d",
   "metadata": {},
   "source": [
    "# 19. Find the symmetric difference between two sets"
   ]
  },
  {
   "cell_type": "code",
   "execution_count": 70,
   "id": "47361b71-7061-4855-a9ac-1dcf8ee779b2",
   "metadata": {},
   "outputs": [
    {
     "data": {
      "text/plain": [
       "{3, 4, 5, 6, 7, 8, 9, 10}"
      ]
     },
     "execution_count": 70,
     "metadata": {},
     "output_type": "execute_result"
    }
   ],
   "source": [
    "x"
   ]
  },
  {
   "cell_type": "code",
   "execution_count": 71,
   "id": "09337f6f-4066-4f44-b64f-27466310fc22",
   "metadata": {},
   "outputs": [
    {
     "data": {
      "text/plain": [
       "{2, 4, 6, 8, 10}"
      ]
     },
     "execution_count": 71,
     "metadata": {},
     "output_type": "execute_result"
    }
   ],
   "source": [
    "y"
   ]
  },
  {
   "cell_type": "code",
   "execution_count": 76,
   "id": "045b7679-03fa-4934-ab63-f8cc2fc3e3f8",
   "metadata": {},
   "outputs": [
    {
     "data": {
      "text/plain": [
       "{2, 3, 5, 7, 9}"
      ]
     },
     "execution_count": 76,
     "metadata": {},
     "output_type": "execute_result"
    }
   ],
   "source": [
    "x.symmetric_difference(y)"
   ]
  },
  {
   "cell_type": "markdown",
   "id": "b0c4619c-af51-40af-9001-4a64ae15d3f8",
   "metadata": {},
   "source": [
    "# 20. Update a set with elements from another set."
   ]
  },
  {
   "cell_type": "code",
   "execution_count": 77,
   "id": "855b752a-810e-43c6-ae57-9353356ee109",
   "metadata": {},
   "outputs": [
    {
     "data": {
      "text/plain": [
       "{3, 4, 5, 6, 7, 8, 9, 10}"
      ]
     },
     "execution_count": 77,
     "metadata": {},
     "output_type": "execute_result"
    }
   ],
   "source": [
    "x"
   ]
  },
  {
   "cell_type": "code",
   "execution_count": 78,
   "id": "6dacd68e-bbe8-48c6-90ca-5e6fcc32850d",
   "metadata": {},
   "outputs": [
    {
     "data": {
      "text/plain": [
       "{2, 4, 6, 8, 10}"
      ]
     },
     "execution_count": 78,
     "metadata": {},
     "output_type": "execute_result"
    }
   ],
   "source": [
    "y"
   ]
  },
  {
   "cell_type": "code",
   "execution_count": 79,
   "id": "828c77dd-914b-4b4b-9ac8-e41dffdfdfbb",
   "metadata": {},
   "outputs": [],
   "source": [
    "x.update(y)"
   ]
  },
  {
   "cell_type": "code",
   "execution_count": 80,
   "id": "611c0f34-8704-4fa1-ac2a-13035afdcba1",
   "metadata": {},
   "outputs": [
    {
     "data": {
      "text/plain": [
       "{2, 3, 4, 5, 6, 7, 8, 9, 10}"
      ]
     },
     "execution_count": 80,
     "metadata": {},
     "output_type": "execute_result"
    }
   ],
   "source": [
    "x"
   ]
  },
  {
   "cell_type": "markdown",
   "id": "205b0d35-a72b-446e-bbf5-13555677eb62",
   "metadata": {},
   "source": [
    "# 21. Create a set of the first 5 prime numbers."
   ]
  },
  {
   "cell_type": "code",
   "execution_count": 82,
   "id": "f1a8e7df-ff4e-4561-8c46-4fc851d8b0b9",
   "metadata": {},
   "outputs": [],
   "source": [
    "p={2,3,5,7,11}"
   ]
  },
  {
   "cell_type": "markdown",
   "id": "40b24b8a-72e5-4dae-a3e9-9c94b36e7c66",
   "metadata": {},
   "source": [
    "# 22. Check if two sets are identical."
   ]
  },
  {
   "cell_type": "code",
   "execution_count": 83,
   "id": "572d213f-97f9-4010-88ad-fe7b8ca03098",
   "metadata": {},
   "outputs": [
    {
     "data": {
      "text/plain": [
       "{2, 3, 4, 5, 6, 7, 8, 9, 10}"
      ]
     },
     "execution_count": 83,
     "metadata": {},
     "output_type": "execute_result"
    }
   ],
   "source": [
    "x"
   ]
  },
  {
   "cell_type": "code",
   "execution_count": 84,
   "id": "e2f94f6b-6917-44c3-b466-d92e5bfac140",
   "metadata": {},
   "outputs": [
    {
     "data": {
      "text/plain": [
       "{2, 4, 6, 8, 10}"
      ]
     },
     "execution_count": 84,
     "metadata": {},
     "output_type": "execute_result"
    }
   ],
   "source": [
    "y"
   ]
  },
  {
   "cell_type": "code",
   "execution_count": 86,
   "id": "c9f44b3c-ab02-478f-a792-cea32e54c92d",
   "metadata": {},
   "outputs": [
    {
     "name": "stdout",
     "output_type": "stream",
     "text": [
      "not identical\n"
     ]
    }
   ],
   "source": [
    "if x==y:\n",
    "    print('identical')\n",
    "else:\n",
    "    print('not identical')"
   ]
  },
  {
   "cell_type": "markdown",
   "id": "053cb6c9-aad6-49dc-912d-d3278c9b0421",
   "metadata": {},
   "source": [
    "# 23. Create a frozen set."
   ]
  },
  {
   "cell_type": "code",
   "execution_count": 95,
   "id": "fc9c6ba5-5353-42ce-8efc-bfd400bea2ad",
   "metadata": {},
   "outputs": [],
   "source": [
    "f=frozenset([1,2,3,4,5])"
   ]
  },
  {
   "cell_type": "code",
   "execution_count": 98,
   "id": "b4672d3d-870d-44c3-8623-62ac45330e2a",
   "metadata": {},
   "outputs": [
    {
     "data": {
      "text/plain": [
       "frozenset({1, 2, 3, 4, 5})"
      ]
     },
     "execution_count": 98,
     "metadata": {},
     "output_type": "execute_result"
    }
   ],
   "source": [
    "f"
   ]
  },
  {
   "cell_type": "markdown",
   "id": "7a015daa-4f0d-4f48-8a82-2b79945f21ef",
   "metadata": {},
   "source": [
    "# 24. Check if a set is disjoint with another set."
   ]
  },
  {
   "cell_type": "code",
   "execution_count": 99,
   "id": "1424605c-3777-48be-93e9-edb1ae2a1b6f",
   "metadata": {},
   "outputs": [
    {
     "data": {
      "text/plain": [
       "{2, 3, 4, 5, 6, 7, 8, 9, 10}"
      ]
     },
     "execution_count": 99,
     "metadata": {},
     "output_type": "execute_result"
    }
   ],
   "source": [
    "x"
   ]
  },
  {
   "cell_type": "code",
   "execution_count": 100,
   "id": "d38d145e-684f-437b-aa6b-6d6a07ed0063",
   "metadata": {},
   "outputs": [
    {
     "data": {
      "text/plain": [
       "{2, 4, 6, 8, 10}"
      ]
     },
     "execution_count": 100,
     "metadata": {},
     "output_type": "execute_result"
    }
   ],
   "source": [
    "y"
   ]
  },
  {
   "cell_type": "code",
   "execution_count": 102,
   "id": "ffc58cd4-0f79-458b-bc82-955bc0aeb51d",
   "metadata": {},
   "outputs": [
    {
     "data": {
      "text/plain": [
       "False"
      ]
     },
     "execution_count": 102,
     "metadata": {},
     "output_type": "execute_result"
    }
   ],
   "source": [
    "x.isdisjoint(y)"
   ]
  },
  {
   "cell_type": "markdown",
   "id": "b5406184-635b-454f-88f4-6fb1cda645f5",
   "metadata": {},
   "source": [
    "# 25. Create a set of squares of numbers from 1 to 5."
   ]
  },
  {
   "cell_type": "code",
   "execution_count": 114,
   "id": "1eeb79ae-7fd3-4d7c-9888-139d7224d825",
   "metadata": {},
   "outputs": [],
   "source": [
    "y={x**2 for x in range(1,6)}"
   ]
  },
  {
   "cell_type": "code",
   "execution_count": 115,
   "id": "8e226df4-62d4-4d6e-93ae-de30b94a7d74",
   "metadata": {},
   "outputs": [
    {
     "data": {
      "text/plain": [
       "{1, 4, 9, 16, 25}"
      ]
     },
     "execution_count": 115,
     "metadata": {},
     "output_type": "execute_result"
    }
   ],
   "source": [
    "y"
   ]
  },
  {
   "cell_type": "markdown",
   "id": "e270f9b1-a3e1-47d0-bb81-fbd4e201f3bc",
   "metadata": {},
   "source": [
    "# 26. Filter out all even numbers from a set."
   ]
  },
  {
   "cell_type": "code",
   "execution_count": 10,
   "id": "079592dc-45c3-4a1c-b949-ceefd74a344b",
   "metadata": {},
   "outputs": [],
   "source": [
    "y={1, 4, 9, 16, 25}"
   ]
  },
  {
   "cell_type": "code",
   "execution_count": 11,
   "id": "c2e5131c-593f-4a5b-9f64-f1414fe3b952",
   "metadata": {},
   "outputs": [
    {
     "data": {
      "text/plain": [
       "{4, 16}"
      ]
     },
     "execution_count": 11,
     "metadata": {},
     "output_type": "execute_result"
    }
   ],
   "source": [
    "{i for i in y if i%2==0}"
   ]
  },
  {
   "cell_type": "markdown",
   "id": "f8b11179-f77f-4821-8c5f-694e9dd0f523",
   "metadata": {},
   "source": [
    "# 27. Sort the elements of a tuple."
   ]
  },
  {
   "cell_type": "code",
   "execution_count": 16,
   "id": "32cbde54-f392-4274-a9fa-ee762b3eddc5",
   "metadata": {},
   "outputs": [
    {
     "name": "stdout",
     "output_type": "stream",
     "text": [
      "[1, 2, 3]\n",
      "['pwskills', 'python']\n",
      "[1.32]\n"
     ]
    }
   ],
   "source": [
    "a={'pwskills',1,2,3,1.32,'python'}\n",
    "d1=[]\n",
    "d2=[]\n",
    "d3=[]\n",
    "for i in a:\n",
    "    if type(i)==int:\n",
    "        d1.append(i)\n",
    "    elif type(i)==str:\n",
    "        d2.append(i)\n",
    "    elif type(i)==float:\n",
    "        d3.append(i)\n",
    "print(d1)\n",
    "print(d2)\n",
    "print(d3)"
   ]
  },
  {
   "cell_type": "markdown",
   "id": "f796d617-cf9c-420d-90f1-92f1d744d104",
   "metadata": {},
   "source": [
    "# 28. Convert a tuple of integers to a tuple of strings"
   ]
  },
  {
   "cell_type": "code",
   "execution_count": 21,
   "id": "f3a578e5-b68f-4013-af3a-9c3deba5ef64",
   "metadata": {},
   "outputs": [
    {
     "name": "stdout",
     "output_type": "stream",
     "text": [
      "{'9', '7', '3', '5', '2', '8', '4', '6', '10'}\n"
     ]
    }
   ],
   "source": [
    "a={2, 3, 4, 5, 6, 7, 8, 9, 10}\n",
    "b=[]\n",
    "for i in a:\n",
    "    if type(i)==int:\n",
    "        b.append(str(i))\n",
    "print(set(b))"
   ]
  },
  {
   "cell_type": "code",
   "execution_count": 25,
   "id": "c22ddc8f-636d-4f4a-8fe6-641867556f79",
   "metadata": {},
   "outputs": [
    {
     "data": {
      "text/plain": [
       "{'10', '2', '3', '4', '5', '6', '7', '8', '9'}"
      ]
     },
     "execution_count": 25,
     "metadata": {},
     "output_type": "execute_result"
    }
   ],
   "source": [
    "a={2, 3, 4, 5, 6, 7, 8, 9, 10}\n",
    "\n",
    "{str(i) for i in a if type(i) ==int}"
   ]
  },
  {
   "cell_type": "markdown",
   "id": "58e0ef22-4a77-45bf-add1-9adb796794df",
   "metadata": {},
   "source": [
    "# 29. Check if a set is empty."
   ]
  },
  {
   "cell_type": "code",
   "execution_count": 1,
   "id": "9bdfa5d9-744f-4fa3-a895-6b05630c646d",
   "metadata": {},
   "outputs": [
    {
     "name": "stdout",
     "output_type": "stream",
     "text": [
      "not empty list\n"
     ]
    }
   ],
   "source": [
    "a={2, 3, 4, 5, 6, 7, 8, 9, 10}\n",
    "\n",
    "if a=={}:\n",
    "    print('empty list')\n",
    "else:\n",
    "    print('not empty list')"
   ]
  },
  {
   "cell_type": "markdown",
   "id": "46684dc1-4be7-4cbc-98f6-0242fb5540a8",
   "metadata": {},
   "source": [
    "# 30. Create a nested set (hint: use frozenset)."
   ]
  },
  {
   "cell_type": "code",
   "execution_count": 6,
   "id": "d9da7c6c-4116-4a4e-aa5c-637043a61721",
   "metadata": {},
   "outputs": [
    {
     "name": "stdout",
     "output_type": "stream",
     "text": [
      "frozenset({frozenset({2, 3, 4, 5, 6, 7, 8, 9, 10}), frozenset({2, 3, 4, 5, 6, 7})})\n"
     ]
    }
   ],
   "source": [
    "a=frozenset([2, 3, 4, 5, 6, 7, 8, 9, 10])\n",
    "b=frozenset([2, 3, 4, 5, 6, 7])\n",
    "\n",
    "c=frozenset([a,b])\n",
    "print(c)"
   ]
  },
  {
   "cell_type": "markdown",
   "id": "00eb8675-59e0-447a-be55-d0c907e5cffa",
   "metadata": {},
   "source": [
    "# 31. Remove an element from a set using the discard method."
   ]
  },
  {
   "cell_type": "code",
   "execution_count": 8,
   "id": "bfac7622-8f1e-4258-8d0a-ceda769b84a5",
   "metadata": {},
   "outputs": [
    {
     "name": "stdout",
     "output_type": "stream",
     "text": [
      "{2, 4, 5, 6, 7, 8, 9, 10}\n"
     ]
    }
   ],
   "source": [
    "a={2, 3, 4, 5, 6, 7, 8, 9, 10}\n",
    "\n",
    "a.discard(3)\n",
    "print(a)"
   ]
  },
  {
   "cell_type": "markdown",
   "id": "30d311a0-bc39-44fe-afd1-c0a795ad88d6",
   "metadata": {},
   "source": [
    "# 32. Compare two sets."
   ]
  },
  {
   "cell_type": "code",
   "execution_count": 10,
   "id": "73cfeb0c-bc1b-4382-9e87-2117e2e62405",
   "metadata": {},
   "outputs": [
    {
     "data": {
      "text/plain": [
       "False"
      ]
     },
     "execution_count": 10,
     "metadata": {},
     "output_type": "execute_result"
    }
   ],
   "source": [
    "a={2, 3, 4, 5, 6, 7, 8, 9, 10}\n",
    "b={2,3,4}\n",
    "\n",
    "a==b"
   ]
  },
  {
   "cell_type": "markdown",
   "id": "99151fce-3ff0-4fab-88e6-d5cc67673114",
   "metadata": {},
   "source": [
    "# 33. Create a set from a string."
   ]
  },
  {
   "cell_type": "code",
   "execution_count": 22,
   "id": "ea4caa05-7e0e-4535-927e-79c28dd3bd92",
   "metadata": {},
   "outputs": [
    {
     "data": {
      "text/plain": [
       "{'i', 'k', 'l', 'p', 's', 'w'}"
      ]
     },
     "execution_count": 22,
     "metadata": {},
     "output_type": "execute_result"
    }
   ],
   "source": [
    "s='pwskills'\n",
    "\n",
    "set(s)"
   ]
  },
  {
   "cell_type": "markdown",
   "id": "58310bc3-b609-416f-99c0-16df88899711",
   "metadata": {},
   "source": [
    "# 34. Convert a set of strings to a set of integers."
   ]
  },
  {
   "cell_type": "code",
   "execution_count": 28,
   "id": "f0fd9273-63af-43db-8c21-dd1822702f14",
   "metadata": {},
   "outputs": [
    {
     "name": "stdout",
     "output_type": "stream",
     "text": [
      "{1, 2, 3, 4, 5, 6, 7, 8, 9}\n"
     ]
    }
   ],
   "source": [
    "a={'2', '3', '4', '5', '6', '7', '8', '9', '1'}\n",
    "b=[]\n",
    "\n",
    "for i in a:\n",
    "    b.append(int(i))\n",
    "print(set(b))"
   ]
  },
  {
   "cell_type": "markdown",
   "id": "2414a84d-6968-477e-9aad-4838718fb027",
   "metadata": {},
   "source": [
    "# 35. Convert a set of integers to a set of strings."
   ]
  },
  {
   "cell_type": "code",
   "execution_count": 32,
   "id": "233d248d-0fc0-471a-85d8-0d2ca6c9371e",
   "metadata": {},
   "outputs": [
    {
     "name": "stdout",
     "output_type": "stream",
     "text": [
      "{'5', '4', '8', '2', '7', '10', '6', '9', '3'}\n"
     ]
    }
   ],
   "source": [
    "a={2, 3, 4, 5, 6, 7, 8, 9, 10}\n",
    "b=[]\n",
    "\n",
    "for i in a:\n",
    "    b.append(str(i))\n",
    "print(set(b))"
   ]
  },
  {
   "cell_type": "markdown",
   "id": "a3193e6d-bd38-4d0f-a06d-32b07daca665",
   "metadata": {},
   "source": [
    "# 36. Create a set from a tuple."
   ]
  },
  {
   "cell_type": "code",
   "execution_count": 33,
   "id": "907a8370-f0a7-48c9-89e1-624f8db167ac",
   "metadata": {},
   "outputs": [
    {
     "name": "stdout",
     "output_type": "stream",
     "text": [
      "{2, 3, 4, 5, 6, 7, 8, 9, 10}\n"
     ]
    }
   ],
   "source": [
    "a=(2, 3, 4, 5, 6, 7, 8, 9, 10)\n",
    "\n",
    "b=set(a)\n",
    "print(b)"
   ]
  },
  {
   "cell_type": "markdown",
   "id": "d63b22dc-0322-4159-8813-dc3f21918ca9",
   "metadata": {},
   "source": [
    "# 37. Convert a set to a tuple."
   ]
  },
  {
   "cell_type": "code",
   "execution_count": 34,
   "id": "d90b3666-8e78-474e-bf3e-f5494b057fc9",
   "metadata": {},
   "outputs": [
    {
     "name": "stdout",
     "output_type": "stream",
     "text": [
      "(2, 3, 4, 5, 6, 7, 8, 9, 10)\n"
     ]
    }
   ],
   "source": [
    "a={2, 3, 4, 5, 6, 7, 8, 9, 10}\n",
    "\n",
    "b=tuple(a)\n",
    "print(b)"
   ]
  },
  {
   "cell_type": "markdown",
   "id": "87bf8042-a348-418c-9bd1-5be5601d1105",
   "metadata": {},
   "source": [
    "# 38. Find the maximum value in a set."
   ]
  },
  {
   "cell_type": "code",
   "execution_count": 35,
   "id": "bdbb466e-5090-4642-b123-19a899b30260",
   "metadata": {},
   "outputs": [
    {
     "data": {
      "text/plain": [
       "10"
      ]
     },
     "execution_count": 35,
     "metadata": {},
     "output_type": "execute_result"
    }
   ],
   "source": [
    "a={2, 3, 4, 5, 6, 7, 8, 9, 10}\n",
    "\n",
    "max(a)"
   ]
  },
  {
   "cell_type": "markdown",
   "id": "46b762d6-f9ec-4f37-a0db-585a3ca9f87a",
   "metadata": {},
   "source": [
    "# 39. Find the minimum value in a set."
   ]
  },
  {
   "cell_type": "code",
   "execution_count": 36,
   "id": "aa52fbb8-0337-494b-8bdb-ab37692b9e7a",
   "metadata": {},
   "outputs": [
    {
     "data": {
      "text/plain": [
       "2"
      ]
     },
     "execution_count": 36,
     "metadata": {},
     "output_type": "execute_result"
    }
   ],
   "source": [
    "a={2, 3, 4, 5, 6, 7, 8, 9, 10}\n",
    "\n",
    "min(a)"
   ]
  },
  {
   "cell_type": "markdown",
   "id": "c250bfc9-d212-4a81-b2d8-f93ad7031f01",
   "metadata": {},
   "source": [
    "# 40. Create a set from user input."
   ]
  },
  {
   "cell_type": "code",
   "execution_count": 40,
   "id": "30e396f3-50b8-4eaf-b33a-118fe2964037",
   "metadata": {},
   "outputs": [
    {
     "name": "stdin",
     "output_type": "stream",
     "text": [
      "enter input 8\n"
     ]
    },
    {
     "name": "stdout",
     "output_type": "stream",
     "text": [
      "{'8'}\n"
     ]
    },
    {
     "data": {
      "text/plain": [
       "set"
      ]
     },
     "execution_count": 40,
     "metadata": {},
     "output_type": "execute_result"
    }
   ],
   "source": [
    "a=input('enter input')\n",
    "\n",
    "b=set(a)\n",
    "print(b)\n",
    "type(b)"
   ]
  },
  {
   "cell_type": "markdown",
   "id": "b5333ffd-e6fb-49e1-af48-271336dbc966",
   "metadata": {},
   "source": [
    "# 41. Check if the intersection of two sets is empty."
   ]
  },
  {
   "cell_type": "code",
   "execution_count": 45,
   "id": "3767c547-9717-4c45-9e42-a8b974a5be1b",
   "metadata": {},
   "outputs": [
    {
     "name": "stdout",
     "output_type": "stream",
     "text": [
      "The intersection is empty.\n"
     ]
    }
   ],
   "source": [
    "a = {1, 2, 3, 4, 5}\n",
    "b = {6, 7, 8}\n",
    "\n",
    "if not a.intersection(b):\n",
    "    print(\"The intersection is empty.\")\n",
    "else:\n",
    "    print(\"The intersection is not empty.\")"
   ]
  },
  {
   "cell_type": "markdown",
   "id": "52004a6e-abac-4c72-83c1-1cc899589bfb",
   "metadata": {},
   "source": [
    "# 42. Create a set of the first 5 Fibonacci numbers."
   ]
  },
  {
   "cell_type": "code",
   "execution_count": 65,
   "id": "5d0a2dfa-9565-4ba7-9ccf-e7f72167af5e",
   "metadata": {},
   "outputs": [
    {
     "name": "stdout",
     "output_type": "stream",
     "text": [
      "{0, 1, 2, 3, 5}\n"
     ]
    }
   ],
   "source": [
    "n=6\n",
    "c=[]\n",
    "a,b=0,1\n",
    "\n",
    "for i in range(n):\n",
    "    c.append(a)\n",
    "    a,b=b,a+b\n",
    "print(set(c))\n",
    "    "
   ]
  },
  {
   "cell_type": "markdown",
   "id": "bb9fa475-b4b3-4e3c-b425-cb11dd99b16f",
   "metadata": {},
   "source": [
    "# 43. Remove duplicates from a list using sets."
   ]
  },
  {
   "cell_type": "code",
   "execution_count": 66,
   "id": "3de3876b-b7dc-40f4-9901-b3479d52975e",
   "metadata": {},
   "outputs": [
    {
     "data": {
      "text/plain": [
       "{0, 1, 2, 3, 4, 5, 6, 7, 8, 9, 10, 79}"
      ]
     },
     "execution_count": 66,
     "metadata": {},
     "output_type": "execute_result"
    }
   ],
   "source": [
    "a=[2, 3, 4, 5, 6, 7, 8, 9, 10,1,2,4,6,79,0,0,7]\n",
    "set(a)"
   ]
  },
  {
   "cell_type": "markdown",
   "id": "6950ed97-b21b-469c-a0e7-a9ea0e3849da",
   "metadata": {},
   "source": [
    "# 44. Check if two sets have the same elements, regardless of their count."
   ]
  },
  {
   "cell_type": "code",
   "execution_count": 89,
   "id": "a5555c6a-39cd-44e9-aab1-7905c5a4d436",
   "metadata": {},
   "outputs": [
    {
     "name": "stdout",
     "output_type": "stream",
     "text": [
      "element present\n"
     ]
    }
   ],
   "source": [
    "a = {1, 2, 3, 4, 5}\n",
    "b = {1 ,2, 3}\n",
    "\n",
    "if b<=a:\n",
    "    print('element present')\n",
    "else:\n",
    "    print('elements not present')"
   ]
  },
  {
   "cell_type": "markdown",
   "id": "39007e18-0618-48fa-9823-3820331818d4",
   "metadata": {},
   "source": [
    "# 45. Create a set of the first `n` powers of 2."
   ]
  },
  {
   "cell_type": "code",
   "execution_count": 92,
   "id": "007f0db6-baf2-4663-b0a1-38d8fcfb38d0",
   "metadata": {},
   "outputs": [
    {
     "name": "stdout",
     "output_type": "stream",
     "text": [
      "{32, 64, 2, 128, 4, 256, 512, 8, 16}\n"
     ]
    }
   ],
   "source": [
    "n=10\n",
    "a=[]\n",
    "for i in range(1,n):\n",
    "    b=2**i\n",
    "    a.append(b)\n",
    "print(set(a))"
   ]
  },
  {
   "cell_type": "markdown",
   "id": "d5f64c50-dd73-41bf-884d-dc46f2e88016",
   "metadata": {},
   "source": [
    "# 46. Find the common elements between a set and a list."
   ]
  },
  {
   "cell_type": "code",
   "execution_count": 96,
   "id": "f50711d3-1823-4fba-bf9f-269c9bb8879f",
   "metadata": {},
   "outputs": [
    {
     "name": "stdout",
     "output_type": "stream",
     "text": [
      "[1, 2, 3]\n"
     ]
    }
   ],
   "source": [
    "a = {1, 2, 3, 4, 5}\n",
    "b = [1 ,2, 3, 6, 7]\n",
    "c=[]\n",
    "for i in b:\n",
    "    for j in a:\n",
    "        if i==j:\n",
    "            c.append(i)\n",
    "print(c)"
   ]
  },
  {
   "cell_type": "markdown",
   "id": "904633ac-5fa3-4ab7-bcf3-e22e96061b47",
   "metadata": {},
   "source": [
    "# 47. Create a set of the first `n` triangular numbers."
   ]
  },
  {
   "cell_type": "code",
   "execution_count": 93,
   "id": "c76b4641-bb51-4de6-90b2-ddfd22a2617e",
   "metadata": {},
   "outputs": [
    {
     "name": "stdout",
     "output_type": "stream",
     "text": [
      "{6561, 3, 19683, 9, 2187, 81, 243, 729, 27}\n"
     ]
    }
   ],
   "source": [
    "n=10\n",
    "a=[]\n",
    "for i in range(1,n):\n",
    "    b=3**i\n",
    "    a.append(b)\n",
    "print(set(a))"
   ]
  },
  {
   "cell_type": "markdown",
   "id": "a091c859-6f9c-4797-8503-6c5ff07270b5",
   "metadata": {},
   "source": [
    "# 48. Check if a set contains another set as a subset."
   ]
  },
  {
   "cell_type": "code",
   "execution_count": 108,
   "id": "55fd0892-e430-4cc0-ad07-4cab89a3420b",
   "metadata": {},
   "outputs": [
    {
     "name": "stdout",
     "output_type": "stream",
     "text": [
      "subset\n"
     ]
    }
   ],
   "source": [
    "a = {1, 2, 3, 4, 5}\n",
    "b = {1 ,2, 3}\n",
    "\n",
    "if b<=a:\n",
    "    print('subset')\n",
    "else:\n",
    "    print('not subset')"
   ]
  },
  {
   "cell_type": "markdown",
   "id": "802a3b36-9b01-43ec-af68-ff228fc82b39",
   "metadata": {},
   "source": [
    "# 49. Create a set of alternating 1s and 0s of length `n`."
   ]
  },
  {
   "cell_type": "code",
   "execution_count": 111,
   "id": "da04c3ae-605c-4165-82f3-62fb760e6109",
   "metadata": {},
   "outputs": [
    {
     "name": "stdout",
     "output_type": "stream",
     "text": [
      "{0, 1}\n"
     ]
    }
   ],
   "source": [
    "n=10\n",
    "a=[]\n",
    "\n",
    "for i in range(n):\n",
    "    if i%2==0:\n",
    "        a.append(1)\n",
    "    else:\n",
    "        a.append(0)\n",
    "print(set(a))"
   ]
  },
  {
   "cell_type": "markdown",
   "id": "d07d2fff-db50-4086-b12e-c8fa79c7e420",
   "metadata": {},
   "source": [
    "# 50. Merge multiple sets into one."
   ]
  },
  {
   "cell_type": "code",
   "execution_count": 114,
   "id": "59c9dde4-347c-4763-a52e-05e936c61a6b",
   "metadata": {},
   "outputs": [
    {
     "name": "stdout",
     "output_type": "stream",
     "text": [
      "{1, 2, 3, 4, 5, 6, 7, 8}\n"
     ]
    }
   ],
   "source": [
    "a = {1, 2, 3, 4, 5}\n",
    "b = {6 ,7, 8}\n",
    "c=set(list(a)+list(b))\n",
    "print(c)"
   ]
  }
 ],
 "metadata": {
  "kernelspec": {
   "display_name": "Python 3 (ipykernel)",
   "language": "python",
   "name": "python3"
  },
  "language_info": {
   "codemirror_mode": {
    "name": "ipython",
    "version": 3
   },
   "file_extension": ".py",
   "mimetype": "text/x-python",
   "name": "python",
   "nbconvert_exporter": "python",
   "pygments_lexer": "ipython3",
   "version": "3.10.8"
  }
 },
 "nbformat": 4,
 "nbformat_minor": 5
}
